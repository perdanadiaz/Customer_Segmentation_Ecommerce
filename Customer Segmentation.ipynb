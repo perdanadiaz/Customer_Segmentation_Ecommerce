{
  "cells": [
    {
      "cell_type": "markdown",
      "metadata": {
        "id": "RpcvW_oVYDmQ"
      },
      "source": [
        "# Assignment"
      ]
    },
    {
      "cell_type": "markdown",
      "metadata": {
        "id": "tjpmLPQ1YNJF"
      },
      "source": [
        "## Import Libraries"
      ]
    },
    {
      "cell_type": "code",
      "execution_count": 1,
      "metadata": {
        "id": "dcciDafQqibW"
      },
      "outputs": [],
      "source": [
        "import pandas as pd\n",
        "import numpy as np\n",
        "import matplotlib.pyplot as plt\n",
        "import seaborn as sns"
      ]
    },
    {
      "cell_type": "markdown",
      "metadata": {
        "id": "g02lIqxpYexM"
      },
      "source": [
        "## Import Dataset"
      ]
    },
    {
      "cell_type": "code",
      "execution_count": 2,
      "metadata": {
        "colab": {
          "base_uri": "https://localhost:8080/",
          "height": 488
        },
        "id": "7ZPYAzuDu4_a",
        "outputId": "991a733e-93ab-46b2-e88d-3ecbeeccc934"
      },
      "outputs": [
        {
          "data": {
            "text/html": [
              "<div>\n",
              "<style scoped>\n",
              "    .dataframe tbody tr th:only-of-type {\n",
              "        vertical-align: middle;\n",
              "    }\n",
              "\n",
              "    .dataframe tbody tr th {\n",
              "        vertical-align: top;\n",
              "    }\n",
              "\n",
              "    .dataframe thead th {\n",
              "        text-align: right;\n",
              "    }\n",
              "</style>\n",
              "<table border=\"1\" class=\"dataframe\">\n",
              "  <thead>\n",
              "    <tr style=\"text-align: right;\">\n",
              "      <th></th>\n",
              "      <th>order_id</th>\n",
              "      <th>customer_id</th>\n",
              "      <th>order_status</th>\n",
              "      <th>order_purchase_timestamp</th>\n",
              "      <th>order_approved_at</th>\n",
              "      <th>order_delivered_carrier_date</th>\n",
              "      <th>order_delivered_customer_date</th>\n",
              "      <th>order_estimated_delivery_date</th>\n",
              "    </tr>\n",
              "  </thead>\n",
              "  <tbody>\n",
              "    <tr>\n",
              "      <th>0</th>\n",
              "      <td>e481f51cbdc54678b7cc49136f2d6af7</td>\n",
              "      <td>9ef432eb6251297304e76186b10a928d</td>\n",
              "      <td>delivered</td>\n",
              "      <td>2017-10-02 10:56:33</td>\n",
              "      <td>2017-10-02 11:07:15</td>\n",
              "      <td>2017-10-04 19:55:00</td>\n",
              "      <td>2017-10-10 21:25:13</td>\n",
              "      <td>2017-10-18 0:00:00</td>\n",
              "    </tr>\n",
              "    <tr>\n",
              "      <th>1</th>\n",
              "      <td>53cdb2fc8bc7dce0b6741e2150273451</td>\n",
              "      <td>b0830fb4747a6c6d20dea0b8c802d7ef</td>\n",
              "      <td>delivered</td>\n",
              "      <td>2018-07-24 20:41:37</td>\n",
              "      <td>2018-07-26 3:24:27</td>\n",
              "      <td>2018-07-26 14:31:00</td>\n",
              "      <td>2018-08-07 15:27:45</td>\n",
              "      <td>2018-08-13 0:00:00</td>\n",
              "    </tr>\n",
              "    <tr>\n",
              "      <th>2</th>\n",
              "      <td>47770eb9100c2d0c44946d9cf07ec65d</td>\n",
              "      <td>41ce2a54c0b03bf3443c3d931a367089</td>\n",
              "      <td>delivered</td>\n",
              "      <td>2018-08-08 8:38:49</td>\n",
              "      <td>2018-08-08 8:55:23</td>\n",
              "      <td>2018-08-08 13:50:00</td>\n",
              "      <td>2018-08-17 18:06:29</td>\n",
              "      <td>2018-09-04 0:00:00</td>\n",
              "    </tr>\n",
              "    <tr>\n",
              "      <th>3</th>\n",
              "      <td>949d5b44dbf5de918fe9c16f97b45f8a</td>\n",
              "      <td>f88197465ea7920adcdbec7375364d82</td>\n",
              "      <td>delivered</td>\n",
              "      <td>2017-11-18 19:28:06</td>\n",
              "      <td>2017-11-18 19:45:59</td>\n",
              "      <td>2017-11-22 13:39:59</td>\n",
              "      <td>2017-12-02 0:28:42</td>\n",
              "      <td>2017-12-15 0:00:00</td>\n",
              "    </tr>\n",
              "    <tr>\n",
              "      <th>4</th>\n",
              "      <td>ad21c59c0840e6cb83a9ceb5573f8159</td>\n",
              "      <td>8ab97904e6daea8866dbdbc4fb7aad2c</td>\n",
              "      <td>delivered</td>\n",
              "      <td>2018-02-13 21:18:39</td>\n",
              "      <td>2018-02-13 22:20:29</td>\n",
              "      <td>2018-02-14 19:46:34</td>\n",
              "      <td>2018-02-16 18:17:02</td>\n",
              "      <td>2018-02-26 0:00:00</td>\n",
              "    </tr>\n",
              "    <tr>\n",
              "      <th>...</th>\n",
              "      <td>...</td>\n",
              "      <td>...</td>\n",
              "      <td>...</td>\n",
              "      <td>...</td>\n",
              "      <td>...</td>\n",
              "      <td>...</td>\n",
              "      <td>...</td>\n",
              "      <td>...</td>\n",
              "    </tr>\n",
              "    <tr>\n",
              "      <th>99436</th>\n",
              "      <td>9c5dedf39a927c1b2549525ed64a053c</td>\n",
              "      <td>39bd1228ee8140590ac3aca26f2dfe00</td>\n",
              "      <td>delivered</td>\n",
              "      <td>2017-03-09 9:54:05</td>\n",
              "      <td>2017-03-09 9:54:05</td>\n",
              "      <td>2017-03-10 11:18:03</td>\n",
              "      <td>2017-03-17 15:08:01</td>\n",
              "      <td>2017-03-28 0:00:00</td>\n",
              "    </tr>\n",
              "    <tr>\n",
              "      <th>99437</th>\n",
              "      <td>63943bddc261676b46f01ca7ac2f7bd8</td>\n",
              "      <td>1fca14ff2861355f6e5f14306ff977a7</td>\n",
              "      <td>delivered</td>\n",
              "      <td>2018-02-06 12:58:58</td>\n",
              "      <td>2018-02-06 13:10:37</td>\n",
              "      <td>2018-02-07 23:22:42</td>\n",
              "      <td>2018-02-28 17:37:56</td>\n",
              "      <td>2018-03-02 0:00:00</td>\n",
              "    </tr>\n",
              "    <tr>\n",
              "      <th>99438</th>\n",
              "      <td>83c1379a015df1e13d02aae0204711ab</td>\n",
              "      <td>1aa71eb042121263aafbe80c1b562c9c</td>\n",
              "      <td>delivered</td>\n",
              "      <td>2017-08-27 14:46:43</td>\n",
              "      <td>2017-08-27 15:04:16</td>\n",
              "      <td>2017-08-28 20:52:26</td>\n",
              "      <td>2017-09-21 11:24:17</td>\n",
              "      <td>2017-09-27 0:00:00</td>\n",
              "    </tr>\n",
              "    <tr>\n",
              "      <th>99439</th>\n",
              "      <td>11c177c8e97725db2631073c19f07b62</td>\n",
              "      <td>b331b74b18dc79bcdf6532d51e1637c1</td>\n",
              "      <td>delivered</td>\n",
              "      <td>2018-01-08 21:28:27</td>\n",
              "      <td>2018-01-08 21:36:21</td>\n",
              "      <td>2018-01-12 15:35:03</td>\n",
              "      <td>2018-01-25 23:32:54</td>\n",
              "      <td>2018-02-15 0:00:00</td>\n",
              "    </tr>\n",
              "    <tr>\n",
              "      <th>99440</th>\n",
              "      <td>66dea50a8b16d9b4dee7af250b4be1a5</td>\n",
              "      <td>edb027a75a1449115f6b43211ae02a24</td>\n",
              "      <td>delivered</td>\n",
              "      <td>2018-03-08 20:57:30</td>\n",
              "      <td>2018-03-09 11:20:28</td>\n",
              "      <td>2018-03-09 22:11:59</td>\n",
              "      <td>2018-03-16 13:08:30</td>\n",
              "      <td>2018-04-03 0:00:00</td>\n",
              "    </tr>\n",
              "  </tbody>\n",
              "</table>\n",
              "<p>99441 rows × 8 columns</p>\n",
              "</div>"
            ],
            "text/plain": [
              "                               order_id                       customer_id  \\\n",
              "0      e481f51cbdc54678b7cc49136f2d6af7  9ef432eb6251297304e76186b10a928d   \n",
              "1      53cdb2fc8bc7dce0b6741e2150273451  b0830fb4747a6c6d20dea0b8c802d7ef   \n",
              "2      47770eb9100c2d0c44946d9cf07ec65d  41ce2a54c0b03bf3443c3d931a367089   \n",
              "3      949d5b44dbf5de918fe9c16f97b45f8a  f88197465ea7920adcdbec7375364d82   \n",
              "4      ad21c59c0840e6cb83a9ceb5573f8159  8ab97904e6daea8866dbdbc4fb7aad2c   \n",
              "...                                 ...                               ...   \n",
              "99436  9c5dedf39a927c1b2549525ed64a053c  39bd1228ee8140590ac3aca26f2dfe00   \n",
              "99437  63943bddc261676b46f01ca7ac2f7bd8  1fca14ff2861355f6e5f14306ff977a7   \n",
              "99438  83c1379a015df1e13d02aae0204711ab  1aa71eb042121263aafbe80c1b562c9c   \n",
              "99439  11c177c8e97725db2631073c19f07b62  b331b74b18dc79bcdf6532d51e1637c1   \n",
              "99440  66dea50a8b16d9b4dee7af250b4be1a5  edb027a75a1449115f6b43211ae02a24   \n",
              "\n",
              "      order_status order_purchase_timestamp    order_approved_at  \\\n",
              "0        delivered      2017-10-02 10:56:33  2017-10-02 11:07:15   \n",
              "1        delivered      2018-07-24 20:41:37   2018-07-26 3:24:27   \n",
              "2        delivered       2018-08-08 8:38:49   2018-08-08 8:55:23   \n",
              "3        delivered      2017-11-18 19:28:06  2017-11-18 19:45:59   \n",
              "4        delivered      2018-02-13 21:18:39  2018-02-13 22:20:29   \n",
              "...            ...                      ...                  ...   \n",
              "99436    delivered       2017-03-09 9:54:05   2017-03-09 9:54:05   \n",
              "99437    delivered      2018-02-06 12:58:58  2018-02-06 13:10:37   \n",
              "99438    delivered      2017-08-27 14:46:43  2017-08-27 15:04:16   \n",
              "99439    delivered      2018-01-08 21:28:27  2018-01-08 21:36:21   \n",
              "99440    delivered      2018-03-08 20:57:30  2018-03-09 11:20:28   \n",
              "\n",
              "      order_delivered_carrier_date order_delivered_customer_date  \\\n",
              "0              2017-10-04 19:55:00           2017-10-10 21:25:13   \n",
              "1              2018-07-26 14:31:00           2018-08-07 15:27:45   \n",
              "2              2018-08-08 13:50:00           2018-08-17 18:06:29   \n",
              "3              2017-11-22 13:39:59            2017-12-02 0:28:42   \n",
              "4              2018-02-14 19:46:34           2018-02-16 18:17:02   \n",
              "...                            ...                           ...   \n",
              "99436          2017-03-10 11:18:03           2017-03-17 15:08:01   \n",
              "99437          2018-02-07 23:22:42           2018-02-28 17:37:56   \n",
              "99438          2017-08-28 20:52:26           2017-09-21 11:24:17   \n",
              "99439          2018-01-12 15:35:03           2018-01-25 23:32:54   \n",
              "99440          2018-03-09 22:11:59           2018-03-16 13:08:30   \n",
              "\n",
              "      order_estimated_delivery_date  \n",
              "0                2017-10-18 0:00:00  \n",
              "1                2018-08-13 0:00:00  \n",
              "2                2018-09-04 0:00:00  \n",
              "3                2017-12-15 0:00:00  \n",
              "4                2018-02-26 0:00:00  \n",
              "...                             ...  \n",
              "99436            2017-03-28 0:00:00  \n",
              "99437            2018-03-02 0:00:00  \n",
              "99438            2017-09-27 0:00:00  \n",
              "99439            2018-02-15 0:00:00  \n",
              "99440            2018-04-03 0:00:00  \n",
              "\n",
              "[99441 rows x 8 columns]"
            ]
          },
          "execution_count": 2,
          "metadata": {},
          "output_type": "execute_result"
        }
      ],
      "source": [
        "#Order Dataset\n",
        "sheet_url = 'https://docs.google.com/spreadsheets/d/1JnoNRjSXZiDkTHENZdXVJNaXfnCNELJ61XxBDbUO6Xk/edit#gid=1227191565'\n",
        "sheet_url_trf = sheet_url.replace('/edit#gid=', '/export?format=csv&gid=')\n",
        "od_original = pd.read_csv(sheet_url_trf)\n",
        "od_original"
      ]
    },
    {
      "cell_type": "code",
      "execution_count": 3,
      "metadata": {
        "colab": {
          "base_uri": "https://localhost:8080/",
          "height": 424
        },
        "id": "-oCo2gjtYMNv",
        "outputId": "14e916f4-5751-40eb-b7dd-7551e5db270d"
      },
      "outputs": [
        {
          "data": {
            "text/html": [
              "<div>\n",
              "<style scoped>\n",
              "    .dataframe tbody tr th:only-of-type {\n",
              "        vertical-align: middle;\n",
              "    }\n",
              "\n",
              "    .dataframe tbody tr th {\n",
              "        vertical-align: top;\n",
              "    }\n",
              "\n",
              "    .dataframe thead th {\n",
              "        text-align: right;\n",
              "    }\n",
              "</style>\n",
              "<table border=\"1\" class=\"dataframe\">\n",
              "  <thead>\n",
              "    <tr style=\"text-align: right;\">\n",
              "      <th></th>\n",
              "      <th>customer_id</th>\n",
              "      <th>customer_unique_id</th>\n",
              "      <th>customer_zip_code_prefix</th>\n",
              "      <th>customer_city</th>\n",
              "      <th>customer_state</th>\n",
              "    </tr>\n",
              "  </thead>\n",
              "  <tbody>\n",
              "    <tr>\n",
              "      <th>0</th>\n",
              "      <td>06b8999e2fba1a1fbc88172c00ba8bc7</td>\n",
              "      <td>861eff4711a542e4b93843c6dd7febb0</td>\n",
              "      <td>14409</td>\n",
              "      <td>franca</td>\n",
              "      <td>SP</td>\n",
              "    </tr>\n",
              "    <tr>\n",
              "      <th>1</th>\n",
              "      <td>18955e83d337fd6b2def6b18a428ac77</td>\n",
              "      <td>290c77bc529b7ac935b93aa66c333dc3</td>\n",
              "      <td>9790</td>\n",
              "      <td>sao bernardo do campo</td>\n",
              "      <td>SP</td>\n",
              "    </tr>\n",
              "    <tr>\n",
              "      <th>2</th>\n",
              "      <td>4e7b3e00288586ebd08712fdd0374a03</td>\n",
              "      <td>060e732b5b29e8181a18229c7b0b2b5e</td>\n",
              "      <td>1151</td>\n",
              "      <td>sao paulo</td>\n",
              "      <td>SP</td>\n",
              "    </tr>\n",
              "    <tr>\n",
              "      <th>3</th>\n",
              "      <td>b2b6027bc5c5109e529d4dc6358b12c3</td>\n",
              "      <td>259dac757896d24d7702b9acbbff3f3c</td>\n",
              "      <td>8775</td>\n",
              "      <td>mogi das cruzes</td>\n",
              "      <td>SP</td>\n",
              "    </tr>\n",
              "    <tr>\n",
              "      <th>4</th>\n",
              "      <td>4f2d8ab171c80ec8364f7c12e35b23ad</td>\n",
              "      <td>345ecd01c38d18a9036ed96c73b8d066</td>\n",
              "      <td>13056</td>\n",
              "      <td>campinas</td>\n",
              "      <td>SP</td>\n",
              "    </tr>\n",
              "    <tr>\n",
              "      <th>...</th>\n",
              "      <td>...</td>\n",
              "      <td>...</td>\n",
              "      <td>...</td>\n",
              "      <td>...</td>\n",
              "      <td>...</td>\n",
              "    </tr>\n",
              "    <tr>\n",
              "      <th>99436</th>\n",
              "      <td>17ddf5dd5d51696bb3d7c6291687be6f</td>\n",
              "      <td>1a29b476fee25c95fbafc67c5ac95cf8</td>\n",
              "      <td>3937</td>\n",
              "      <td>sao paulo</td>\n",
              "      <td>SP</td>\n",
              "    </tr>\n",
              "    <tr>\n",
              "      <th>99437</th>\n",
              "      <td>e7b71a9017aa05c9a7fd292d714858e8</td>\n",
              "      <td>d52a67c98be1cf6a5c84435bd38d095d</td>\n",
              "      <td>6764</td>\n",
              "      <td>taboao da serra</td>\n",
              "      <td>SP</td>\n",
              "    </tr>\n",
              "    <tr>\n",
              "      <th>99438</th>\n",
              "      <td>5e28dfe12db7fb50a4b2f691faecea5e</td>\n",
              "      <td>e9f50caf99f032f0bf3c55141f019d99</td>\n",
              "      <td>60115</td>\n",
              "      <td>fortaleza</td>\n",
              "      <td>CE</td>\n",
              "    </tr>\n",
              "    <tr>\n",
              "      <th>99439</th>\n",
              "      <td>56b18e2166679b8a959d72dd06da27f9</td>\n",
              "      <td>73c2643a0a458b49f58cea58833b192e</td>\n",
              "      <td>92120</td>\n",
              "      <td>canoas</td>\n",
              "      <td>RS</td>\n",
              "    </tr>\n",
              "    <tr>\n",
              "      <th>99440</th>\n",
              "      <td>274fa6071e5e17fe303b9748641082c8</td>\n",
              "      <td>84732c5050c01db9b23e19ba39899398</td>\n",
              "      <td>6703</td>\n",
              "      <td>cotia</td>\n",
              "      <td>SP</td>\n",
              "    </tr>\n",
              "  </tbody>\n",
              "</table>\n",
              "<p>99441 rows × 5 columns</p>\n",
              "</div>"
            ],
            "text/plain": [
              "                            customer_id                customer_unique_id  \\\n",
              "0      06b8999e2fba1a1fbc88172c00ba8bc7  861eff4711a542e4b93843c6dd7febb0   \n",
              "1      18955e83d337fd6b2def6b18a428ac77  290c77bc529b7ac935b93aa66c333dc3   \n",
              "2      4e7b3e00288586ebd08712fdd0374a03  060e732b5b29e8181a18229c7b0b2b5e   \n",
              "3      b2b6027bc5c5109e529d4dc6358b12c3  259dac757896d24d7702b9acbbff3f3c   \n",
              "4      4f2d8ab171c80ec8364f7c12e35b23ad  345ecd01c38d18a9036ed96c73b8d066   \n",
              "...                                 ...                               ...   \n",
              "99436  17ddf5dd5d51696bb3d7c6291687be6f  1a29b476fee25c95fbafc67c5ac95cf8   \n",
              "99437  e7b71a9017aa05c9a7fd292d714858e8  d52a67c98be1cf6a5c84435bd38d095d   \n",
              "99438  5e28dfe12db7fb50a4b2f691faecea5e  e9f50caf99f032f0bf3c55141f019d99   \n",
              "99439  56b18e2166679b8a959d72dd06da27f9  73c2643a0a458b49f58cea58833b192e   \n",
              "99440  274fa6071e5e17fe303b9748641082c8  84732c5050c01db9b23e19ba39899398   \n",
              "\n",
              "       customer_zip_code_prefix          customer_city customer_state  \n",
              "0                         14409                 franca             SP  \n",
              "1                          9790  sao bernardo do campo             SP  \n",
              "2                          1151              sao paulo             SP  \n",
              "3                          8775        mogi das cruzes             SP  \n",
              "4                         13056               campinas             SP  \n",
              "...                         ...                    ...            ...  \n",
              "99436                      3937              sao paulo             SP  \n",
              "99437                      6764        taboao da serra             SP  \n",
              "99438                     60115              fortaleza             CE  \n",
              "99439                     92120                 canoas             RS  \n",
              "99440                      6703                  cotia             SP  \n",
              "\n",
              "[99441 rows x 5 columns]"
            ]
          },
          "execution_count": 3,
          "metadata": {},
          "output_type": "execute_result"
        }
      ],
      "source": [
        "#Customer Dataset\n",
        "sheet_url = 'https://docs.google.com/spreadsheets/d/1OAviVY3pcmBj4Qvwmg64JCy7KfL0vW2vhDy__xAcDU0/edit#gid=1210811415'\n",
        "sheet_url_trf = sheet_url.replace('/edit#gid=', '/export?format=csv&gid=')\n",
        "cd_original = pd.read_csv(sheet_url_trf)\n",
        "cd_original"
      ]
    },
    {
      "cell_type": "code",
      "execution_count": 4,
      "metadata": {
        "colab": {
          "base_uri": "https://localhost:8080/",
          "height": 424
        },
        "id": "T0GizwbGYQR4",
        "outputId": "da41244c-2519-4f68-e29e-f89f696064de"
      },
      "outputs": [
        {
          "data": {
            "text/html": [
              "<div>\n",
              "<style scoped>\n",
              "    .dataframe tbody tr th:only-of-type {\n",
              "        vertical-align: middle;\n",
              "    }\n",
              "\n",
              "    .dataframe tbody tr th {\n",
              "        vertical-align: top;\n",
              "    }\n",
              "\n",
              "    .dataframe thead th {\n",
              "        text-align: right;\n",
              "    }\n",
              "</style>\n",
              "<table border=\"1\" class=\"dataframe\">\n",
              "  <thead>\n",
              "    <tr style=\"text-align: right;\">\n",
              "      <th></th>\n",
              "      <th>order_id</th>\n",
              "      <th>payment_sequential</th>\n",
              "      <th>payment_type</th>\n",
              "      <th>payment_installments</th>\n",
              "      <th>payment_value</th>\n",
              "    </tr>\n",
              "  </thead>\n",
              "  <tbody>\n",
              "    <tr>\n",
              "      <th>0</th>\n",
              "      <td>b81ef226f3fe1789b1e8b2acac839d17</td>\n",
              "      <td>1</td>\n",
              "      <td>credit_card</td>\n",
              "      <td>8</td>\n",
              "      <td>99.33</td>\n",
              "    </tr>\n",
              "    <tr>\n",
              "      <th>1</th>\n",
              "      <td>a9810da82917af2d9aefd1278f1dcfa0</td>\n",
              "      <td>1</td>\n",
              "      <td>credit_card</td>\n",
              "      <td>1</td>\n",
              "      <td>24.39</td>\n",
              "    </tr>\n",
              "    <tr>\n",
              "      <th>2</th>\n",
              "      <td>25e8ea4e93396b6fa0d3dd708e76c1bd</td>\n",
              "      <td>1</td>\n",
              "      <td>credit_card</td>\n",
              "      <td>1</td>\n",
              "      <td>65.71</td>\n",
              "    </tr>\n",
              "    <tr>\n",
              "      <th>3</th>\n",
              "      <td>ba78997921bbcdc1373bb41e913ab953</td>\n",
              "      <td>1</td>\n",
              "      <td>credit_card</td>\n",
              "      <td>8</td>\n",
              "      <td>107.78</td>\n",
              "    </tr>\n",
              "    <tr>\n",
              "      <th>4</th>\n",
              "      <td>42fdf880ba16b47b59251dd489d4441a</td>\n",
              "      <td>1</td>\n",
              "      <td>credit_card</td>\n",
              "      <td>2</td>\n",
              "      <td>128.45</td>\n",
              "    </tr>\n",
              "    <tr>\n",
              "      <th>...</th>\n",
              "      <td>...</td>\n",
              "      <td>...</td>\n",
              "      <td>...</td>\n",
              "      <td>...</td>\n",
              "      <td>...</td>\n",
              "    </tr>\n",
              "    <tr>\n",
              "      <th>103881</th>\n",
              "      <td>0406037ad97740d563a178ecc7a2075c</td>\n",
              "      <td>1</td>\n",
              "      <td>boleto</td>\n",
              "      <td>1</td>\n",
              "      <td>363.31</td>\n",
              "    </tr>\n",
              "    <tr>\n",
              "      <th>103882</th>\n",
              "      <td>7b905861d7c825891d6347454ea7863f</td>\n",
              "      <td>1</td>\n",
              "      <td>credit_card</td>\n",
              "      <td>2</td>\n",
              "      <td>96.80</td>\n",
              "    </tr>\n",
              "    <tr>\n",
              "      <th>103883</th>\n",
              "      <td>32609bbb3dd69b3c066a6860554a77bf</td>\n",
              "      <td>1</td>\n",
              "      <td>credit_card</td>\n",
              "      <td>1</td>\n",
              "      <td>47.77</td>\n",
              "    </tr>\n",
              "    <tr>\n",
              "      <th>103884</th>\n",
              "      <td>b8b61059626efa996a60be9bb9320e10</td>\n",
              "      <td>1</td>\n",
              "      <td>credit_card</td>\n",
              "      <td>5</td>\n",
              "      <td>369.54</td>\n",
              "    </tr>\n",
              "    <tr>\n",
              "      <th>103885</th>\n",
              "      <td>28bbae6599b09d39ca406b747b6632b1</td>\n",
              "      <td>1</td>\n",
              "      <td>boleto</td>\n",
              "      <td>1</td>\n",
              "      <td>191.58</td>\n",
              "    </tr>\n",
              "  </tbody>\n",
              "</table>\n",
              "<p>103886 rows × 5 columns</p>\n",
              "</div>"
            ],
            "text/plain": [
              "                                order_id  payment_sequential payment_type  \\\n",
              "0       b81ef226f3fe1789b1e8b2acac839d17                   1  credit_card   \n",
              "1       a9810da82917af2d9aefd1278f1dcfa0                   1  credit_card   \n",
              "2       25e8ea4e93396b6fa0d3dd708e76c1bd                   1  credit_card   \n",
              "3       ba78997921bbcdc1373bb41e913ab953                   1  credit_card   \n",
              "4       42fdf880ba16b47b59251dd489d4441a                   1  credit_card   \n",
              "...                                  ...                 ...          ...   \n",
              "103881  0406037ad97740d563a178ecc7a2075c                   1       boleto   \n",
              "103882  7b905861d7c825891d6347454ea7863f                   1  credit_card   \n",
              "103883  32609bbb3dd69b3c066a6860554a77bf                   1  credit_card   \n",
              "103884  b8b61059626efa996a60be9bb9320e10                   1  credit_card   \n",
              "103885  28bbae6599b09d39ca406b747b6632b1                   1       boleto   \n",
              "\n",
              "        payment_installments  payment_value  \n",
              "0                          8          99.33  \n",
              "1                          1          24.39  \n",
              "2                          1          65.71  \n",
              "3                          8         107.78  \n",
              "4                          2         128.45  \n",
              "...                      ...            ...  \n",
              "103881                     1         363.31  \n",
              "103882                     2          96.80  \n",
              "103883                     1          47.77  \n",
              "103884                     5         369.54  \n",
              "103885                     1         191.58  \n",
              "\n",
              "[103886 rows x 5 columns]"
            ]
          },
          "execution_count": 4,
          "metadata": {},
          "output_type": "execute_result"
        }
      ],
      "source": [
        "#Order Payment Dataset\n",
        "sheet_url = 'https://docs.google.com/spreadsheets/d/1PFLT2XsCCQ0vw323rq6lvA93s-JszzyHsPEEdQQFhXw/edit#gid=1633169279'\n",
        "sheet_url_trf = sheet_url.replace('/edit#gid=', '/export?format=csv&gid=')\n",
        "opd_original = pd.read_csv(sheet_url_trf)\n",
        "opd_original"
      ]
    },
    {
      "cell_type": "code",
      "execution_count": 5,
      "metadata": {
        "id": "7ldxJ-952aPO"
      },
      "outputs": [],
      "source": [
        "cd = cd_original.copy()\n",
        "opd = opd_original.copy()\n",
        "od = od_original.copy()"
      ]
    },
    {
      "cell_type": "code",
      "execution_count": 6,
      "metadata": {
        "colab": {
          "base_uri": "https://localhost:8080/",
          "height": 424
        },
        "id": "CnFPjCyaqPxH",
        "outputId": "66b6af09-9bd2-4e36-c5df-dbf2780af8d9"
      },
      "outputs": [
        {
          "data": {
            "text/html": [
              "<div>\n",
              "<style scoped>\n",
              "    .dataframe tbody tr th:only-of-type {\n",
              "        vertical-align: middle;\n",
              "    }\n",
              "\n",
              "    .dataframe tbody tr th {\n",
              "        vertical-align: top;\n",
              "    }\n",
              "\n",
              "    .dataframe thead th {\n",
              "        text-align: right;\n",
              "    }\n",
              "</style>\n",
              "<table border=\"1\" class=\"dataframe\">\n",
              "  <thead>\n",
              "    <tr style=\"text-align: right;\">\n",
              "      <th></th>\n",
              "      <th>customer_id</th>\n",
              "      <th>customer_unique_id</th>\n",
              "      <th>customer_zip_code_prefix</th>\n",
              "      <th>customer_city</th>\n",
              "      <th>customer_state</th>\n",
              "    </tr>\n",
              "  </thead>\n",
              "  <tbody>\n",
              "    <tr>\n",
              "      <th>0</th>\n",
              "      <td>06b8999e2fba1a1fbc88172c00ba8bc7</td>\n",
              "      <td>861eff4711a542e4b93843c6dd7febb0</td>\n",
              "      <td>14409</td>\n",
              "      <td>franca</td>\n",
              "      <td>SP</td>\n",
              "    </tr>\n",
              "    <tr>\n",
              "      <th>1</th>\n",
              "      <td>18955e83d337fd6b2def6b18a428ac77</td>\n",
              "      <td>290c77bc529b7ac935b93aa66c333dc3</td>\n",
              "      <td>9790</td>\n",
              "      <td>sao bernardo do campo</td>\n",
              "      <td>SP</td>\n",
              "    </tr>\n",
              "    <tr>\n",
              "      <th>2</th>\n",
              "      <td>4e7b3e00288586ebd08712fdd0374a03</td>\n",
              "      <td>060e732b5b29e8181a18229c7b0b2b5e</td>\n",
              "      <td>1151</td>\n",
              "      <td>sao paulo</td>\n",
              "      <td>SP</td>\n",
              "    </tr>\n",
              "    <tr>\n",
              "      <th>3</th>\n",
              "      <td>b2b6027bc5c5109e529d4dc6358b12c3</td>\n",
              "      <td>259dac757896d24d7702b9acbbff3f3c</td>\n",
              "      <td>8775</td>\n",
              "      <td>mogi das cruzes</td>\n",
              "      <td>SP</td>\n",
              "    </tr>\n",
              "    <tr>\n",
              "      <th>4</th>\n",
              "      <td>4f2d8ab171c80ec8364f7c12e35b23ad</td>\n",
              "      <td>345ecd01c38d18a9036ed96c73b8d066</td>\n",
              "      <td>13056</td>\n",
              "      <td>campinas</td>\n",
              "      <td>SP</td>\n",
              "    </tr>\n",
              "    <tr>\n",
              "      <th>...</th>\n",
              "      <td>...</td>\n",
              "      <td>...</td>\n",
              "      <td>...</td>\n",
              "      <td>...</td>\n",
              "      <td>...</td>\n",
              "    </tr>\n",
              "    <tr>\n",
              "      <th>99436</th>\n",
              "      <td>17ddf5dd5d51696bb3d7c6291687be6f</td>\n",
              "      <td>1a29b476fee25c95fbafc67c5ac95cf8</td>\n",
              "      <td>3937</td>\n",
              "      <td>sao paulo</td>\n",
              "      <td>SP</td>\n",
              "    </tr>\n",
              "    <tr>\n",
              "      <th>99437</th>\n",
              "      <td>e7b71a9017aa05c9a7fd292d714858e8</td>\n",
              "      <td>d52a67c98be1cf6a5c84435bd38d095d</td>\n",
              "      <td>6764</td>\n",
              "      <td>taboao da serra</td>\n",
              "      <td>SP</td>\n",
              "    </tr>\n",
              "    <tr>\n",
              "      <th>99438</th>\n",
              "      <td>5e28dfe12db7fb50a4b2f691faecea5e</td>\n",
              "      <td>e9f50caf99f032f0bf3c55141f019d99</td>\n",
              "      <td>60115</td>\n",
              "      <td>fortaleza</td>\n",
              "      <td>CE</td>\n",
              "    </tr>\n",
              "    <tr>\n",
              "      <th>99439</th>\n",
              "      <td>56b18e2166679b8a959d72dd06da27f9</td>\n",
              "      <td>73c2643a0a458b49f58cea58833b192e</td>\n",
              "      <td>92120</td>\n",
              "      <td>canoas</td>\n",
              "      <td>RS</td>\n",
              "    </tr>\n",
              "    <tr>\n",
              "      <th>99440</th>\n",
              "      <td>274fa6071e5e17fe303b9748641082c8</td>\n",
              "      <td>84732c5050c01db9b23e19ba39899398</td>\n",
              "      <td>6703</td>\n",
              "      <td>cotia</td>\n",
              "      <td>SP</td>\n",
              "    </tr>\n",
              "  </tbody>\n",
              "</table>\n",
              "<p>99441 rows × 5 columns</p>\n",
              "</div>"
            ],
            "text/plain": [
              "                            customer_id                customer_unique_id  \\\n",
              "0      06b8999e2fba1a1fbc88172c00ba8bc7  861eff4711a542e4b93843c6dd7febb0   \n",
              "1      18955e83d337fd6b2def6b18a428ac77  290c77bc529b7ac935b93aa66c333dc3   \n",
              "2      4e7b3e00288586ebd08712fdd0374a03  060e732b5b29e8181a18229c7b0b2b5e   \n",
              "3      b2b6027bc5c5109e529d4dc6358b12c3  259dac757896d24d7702b9acbbff3f3c   \n",
              "4      4f2d8ab171c80ec8364f7c12e35b23ad  345ecd01c38d18a9036ed96c73b8d066   \n",
              "...                                 ...                               ...   \n",
              "99436  17ddf5dd5d51696bb3d7c6291687be6f  1a29b476fee25c95fbafc67c5ac95cf8   \n",
              "99437  e7b71a9017aa05c9a7fd292d714858e8  d52a67c98be1cf6a5c84435bd38d095d   \n",
              "99438  5e28dfe12db7fb50a4b2f691faecea5e  e9f50caf99f032f0bf3c55141f019d99   \n",
              "99439  56b18e2166679b8a959d72dd06da27f9  73c2643a0a458b49f58cea58833b192e   \n",
              "99440  274fa6071e5e17fe303b9748641082c8  84732c5050c01db9b23e19ba39899398   \n",
              "\n",
              "       customer_zip_code_prefix          customer_city customer_state  \n",
              "0                         14409                 franca             SP  \n",
              "1                          9790  sao bernardo do campo             SP  \n",
              "2                          1151              sao paulo             SP  \n",
              "3                          8775        mogi das cruzes             SP  \n",
              "4                         13056               campinas             SP  \n",
              "...                         ...                    ...            ...  \n",
              "99436                      3937              sao paulo             SP  \n",
              "99437                      6764        taboao da serra             SP  \n",
              "99438                     60115              fortaleza             CE  \n",
              "99439                     92120                 canoas             RS  \n",
              "99440                      6703                  cotia             SP  \n",
              "\n",
              "[99441 rows x 5 columns]"
            ]
          },
          "execution_count": 6,
          "metadata": {},
          "output_type": "execute_result"
        }
      ],
      "source": [
        "cd"
      ]
    },
    {
      "cell_type": "code",
      "execution_count": 7,
      "metadata": {
        "colab": {
          "base_uri": "https://localhost:8080/",
          "height": 424
        },
        "id": "B5Wxd5GTqVhn",
        "outputId": "d3ae5b57-bd08-4dab-cd85-81585d847ffe"
      },
      "outputs": [
        {
          "data": {
            "text/html": [
              "<div>\n",
              "<style scoped>\n",
              "    .dataframe tbody tr th:only-of-type {\n",
              "        vertical-align: middle;\n",
              "    }\n",
              "\n",
              "    .dataframe tbody tr th {\n",
              "        vertical-align: top;\n",
              "    }\n",
              "\n",
              "    .dataframe thead th {\n",
              "        text-align: right;\n",
              "    }\n",
              "</style>\n",
              "<table border=\"1\" class=\"dataframe\">\n",
              "  <thead>\n",
              "    <tr style=\"text-align: right;\">\n",
              "      <th></th>\n",
              "      <th>order_id</th>\n",
              "      <th>payment_sequential</th>\n",
              "      <th>payment_type</th>\n",
              "      <th>payment_installments</th>\n",
              "      <th>payment_value</th>\n",
              "    </tr>\n",
              "  </thead>\n",
              "  <tbody>\n",
              "    <tr>\n",
              "      <th>0</th>\n",
              "      <td>b81ef226f3fe1789b1e8b2acac839d17</td>\n",
              "      <td>1</td>\n",
              "      <td>credit_card</td>\n",
              "      <td>8</td>\n",
              "      <td>99.33</td>\n",
              "    </tr>\n",
              "    <tr>\n",
              "      <th>1</th>\n",
              "      <td>a9810da82917af2d9aefd1278f1dcfa0</td>\n",
              "      <td>1</td>\n",
              "      <td>credit_card</td>\n",
              "      <td>1</td>\n",
              "      <td>24.39</td>\n",
              "    </tr>\n",
              "    <tr>\n",
              "      <th>2</th>\n",
              "      <td>25e8ea4e93396b6fa0d3dd708e76c1bd</td>\n",
              "      <td>1</td>\n",
              "      <td>credit_card</td>\n",
              "      <td>1</td>\n",
              "      <td>65.71</td>\n",
              "    </tr>\n",
              "    <tr>\n",
              "      <th>3</th>\n",
              "      <td>ba78997921bbcdc1373bb41e913ab953</td>\n",
              "      <td>1</td>\n",
              "      <td>credit_card</td>\n",
              "      <td>8</td>\n",
              "      <td>107.78</td>\n",
              "    </tr>\n",
              "    <tr>\n",
              "      <th>4</th>\n",
              "      <td>42fdf880ba16b47b59251dd489d4441a</td>\n",
              "      <td>1</td>\n",
              "      <td>credit_card</td>\n",
              "      <td>2</td>\n",
              "      <td>128.45</td>\n",
              "    </tr>\n",
              "    <tr>\n",
              "      <th>...</th>\n",
              "      <td>...</td>\n",
              "      <td>...</td>\n",
              "      <td>...</td>\n",
              "      <td>...</td>\n",
              "      <td>...</td>\n",
              "    </tr>\n",
              "    <tr>\n",
              "      <th>103881</th>\n",
              "      <td>0406037ad97740d563a178ecc7a2075c</td>\n",
              "      <td>1</td>\n",
              "      <td>boleto</td>\n",
              "      <td>1</td>\n",
              "      <td>363.31</td>\n",
              "    </tr>\n",
              "    <tr>\n",
              "      <th>103882</th>\n",
              "      <td>7b905861d7c825891d6347454ea7863f</td>\n",
              "      <td>1</td>\n",
              "      <td>credit_card</td>\n",
              "      <td>2</td>\n",
              "      <td>96.80</td>\n",
              "    </tr>\n",
              "    <tr>\n",
              "      <th>103883</th>\n",
              "      <td>32609bbb3dd69b3c066a6860554a77bf</td>\n",
              "      <td>1</td>\n",
              "      <td>credit_card</td>\n",
              "      <td>1</td>\n",
              "      <td>47.77</td>\n",
              "    </tr>\n",
              "    <tr>\n",
              "      <th>103884</th>\n",
              "      <td>b8b61059626efa996a60be9bb9320e10</td>\n",
              "      <td>1</td>\n",
              "      <td>credit_card</td>\n",
              "      <td>5</td>\n",
              "      <td>369.54</td>\n",
              "    </tr>\n",
              "    <tr>\n",
              "      <th>103885</th>\n",
              "      <td>28bbae6599b09d39ca406b747b6632b1</td>\n",
              "      <td>1</td>\n",
              "      <td>boleto</td>\n",
              "      <td>1</td>\n",
              "      <td>191.58</td>\n",
              "    </tr>\n",
              "  </tbody>\n",
              "</table>\n",
              "<p>103886 rows × 5 columns</p>\n",
              "</div>"
            ],
            "text/plain": [
              "                                order_id  payment_sequential payment_type  \\\n",
              "0       b81ef226f3fe1789b1e8b2acac839d17                   1  credit_card   \n",
              "1       a9810da82917af2d9aefd1278f1dcfa0                   1  credit_card   \n",
              "2       25e8ea4e93396b6fa0d3dd708e76c1bd                   1  credit_card   \n",
              "3       ba78997921bbcdc1373bb41e913ab953                   1  credit_card   \n",
              "4       42fdf880ba16b47b59251dd489d4441a                   1  credit_card   \n",
              "...                                  ...                 ...          ...   \n",
              "103881  0406037ad97740d563a178ecc7a2075c                   1       boleto   \n",
              "103882  7b905861d7c825891d6347454ea7863f                   1  credit_card   \n",
              "103883  32609bbb3dd69b3c066a6860554a77bf                   1  credit_card   \n",
              "103884  b8b61059626efa996a60be9bb9320e10                   1  credit_card   \n",
              "103885  28bbae6599b09d39ca406b747b6632b1                   1       boleto   \n",
              "\n",
              "        payment_installments  payment_value  \n",
              "0                          8          99.33  \n",
              "1                          1          24.39  \n",
              "2                          1          65.71  \n",
              "3                          8         107.78  \n",
              "4                          2         128.45  \n",
              "...                      ...            ...  \n",
              "103881                     1         363.31  \n",
              "103882                     2          96.80  \n",
              "103883                     1          47.77  \n",
              "103884                     5         369.54  \n",
              "103885                     1         191.58  \n",
              "\n",
              "[103886 rows x 5 columns]"
            ]
          },
          "execution_count": 7,
          "metadata": {},
          "output_type": "execute_result"
        }
      ],
      "source": [
        "opd"
      ]
    },
    {
      "cell_type": "code",
      "execution_count": 8,
      "metadata": {
        "colab": {
          "base_uri": "https://localhost:8080/",
          "height": 488
        },
        "id": "JzXRlya9qW4F",
        "outputId": "4756022f-b8a7-4d89-b7d8-d7b0e7c00fb3"
      },
      "outputs": [
        {
          "data": {
            "text/html": [
              "<div>\n",
              "<style scoped>\n",
              "    .dataframe tbody tr th:only-of-type {\n",
              "        vertical-align: middle;\n",
              "    }\n",
              "\n",
              "    .dataframe tbody tr th {\n",
              "        vertical-align: top;\n",
              "    }\n",
              "\n",
              "    .dataframe thead th {\n",
              "        text-align: right;\n",
              "    }\n",
              "</style>\n",
              "<table border=\"1\" class=\"dataframe\">\n",
              "  <thead>\n",
              "    <tr style=\"text-align: right;\">\n",
              "      <th></th>\n",
              "      <th>order_id</th>\n",
              "      <th>customer_id</th>\n",
              "      <th>order_status</th>\n",
              "      <th>order_purchase_timestamp</th>\n",
              "      <th>order_approved_at</th>\n",
              "      <th>order_delivered_carrier_date</th>\n",
              "      <th>order_delivered_customer_date</th>\n",
              "      <th>order_estimated_delivery_date</th>\n",
              "    </tr>\n",
              "  </thead>\n",
              "  <tbody>\n",
              "    <tr>\n",
              "      <th>0</th>\n",
              "      <td>e481f51cbdc54678b7cc49136f2d6af7</td>\n",
              "      <td>9ef432eb6251297304e76186b10a928d</td>\n",
              "      <td>delivered</td>\n",
              "      <td>2017-10-02 10:56:33</td>\n",
              "      <td>2017-10-02 11:07:15</td>\n",
              "      <td>2017-10-04 19:55:00</td>\n",
              "      <td>2017-10-10 21:25:13</td>\n",
              "      <td>2017-10-18 0:00:00</td>\n",
              "    </tr>\n",
              "    <tr>\n",
              "      <th>1</th>\n",
              "      <td>53cdb2fc8bc7dce0b6741e2150273451</td>\n",
              "      <td>b0830fb4747a6c6d20dea0b8c802d7ef</td>\n",
              "      <td>delivered</td>\n",
              "      <td>2018-07-24 20:41:37</td>\n",
              "      <td>2018-07-26 3:24:27</td>\n",
              "      <td>2018-07-26 14:31:00</td>\n",
              "      <td>2018-08-07 15:27:45</td>\n",
              "      <td>2018-08-13 0:00:00</td>\n",
              "    </tr>\n",
              "    <tr>\n",
              "      <th>2</th>\n",
              "      <td>47770eb9100c2d0c44946d9cf07ec65d</td>\n",
              "      <td>41ce2a54c0b03bf3443c3d931a367089</td>\n",
              "      <td>delivered</td>\n",
              "      <td>2018-08-08 8:38:49</td>\n",
              "      <td>2018-08-08 8:55:23</td>\n",
              "      <td>2018-08-08 13:50:00</td>\n",
              "      <td>2018-08-17 18:06:29</td>\n",
              "      <td>2018-09-04 0:00:00</td>\n",
              "    </tr>\n",
              "    <tr>\n",
              "      <th>3</th>\n",
              "      <td>949d5b44dbf5de918fe9c16f97b45f8a</td>\n",
              "      <td>f88197465ea7920adcdbec7375364d82</td>\n",
              "      <td>delivered</td>\n",
              "      <td>2017-11-18 19:28:06</td>\n",
              "      <td>2017-11-18 19:45:59</td>\n",
              "      <td>2017-11-22 13:39:59</td>\n",
              "      <td>2017-12-02 0:28:42</td>\n",
              "      <td>2017-12-15 0:00:00</td>\n",
              "    </tr>\n",
              "    <tr>\n",
              "      <th>4</th>\n",
              "      <td>ad21c59c0840e6cb83a9ceb5573f8159</td>\n",
              "      <td>8ab97904e6daea8866dbdbc4fb7aad2c</td>\n",
              "      <td>delivered</td>\n",
              "      <td>2018-02-13 21:18:39</td>\n",
              "      <td>2018-02-13 22:20:29</td>\n",
              "      <td>2018-02-14 19:46:34</td>\n",
              "      <td>2018-02-16 18:17:02</td>\n",
              "      <td>2018-02-26 0:00:00</td>\n",
              "    </tr>\n",
              "    <tr>\n",
              "      <th>...</th>\n",
              "      <td>...</td>\n",
              "      <td>...</td>\n",
              "      <td>...</td>\n",
              "      <td>...</td>\n",
              "      <td>...</td>\n",
              "      <td>...</td>\n",
              "      <td>...</td>\n",
              "      <td>...</td>\n",
              "    </tr>\n",
              "    <tr>\n",
              "      <th>99436</th>\n",
              "      <td>9c5dedf39a927c1b2549525ed64a053c</td>\n",
              "      <td>39bd1228ee8140590ac3aca26f2dfe00</td>\n",
              "      <td>delivered</td>\n",
              "      <td>2017-03-09 9:54:05</td>\n",
              "      <td>2017-03-09 9:54:05</td>\n",
              "      <td>2017-03-10 11:18:03</td>\n",
              "      <td>2017-03-17 15:08:01</td>\n",
              "      <td>2017-03-28 0:00:00</td>\n",
              "    </tr>\n",
              "    <tr>\n",
              "      <th>99437</th>\n",
              "      <td>63943bddc261676b46f01ca7ac2f7bd8</td>\n",
              "      <td>1fca14ff2861355f6e5f14306ff977a7</td>\n",
              "      <td>delivered</td>\n",
              "      <td>2018-02-06 12:58:58</td>\n",
              "      <td>2018-02-06 13:10:37</td>\n",
              "      <td>2018-02-07 23:22:42</td>\n",
              "      <td>2018-02-28 17:37:56</td>\n",
              "      <td>2018-03-02 0:00:00</td>\n",
              "    </tr>\n",
              "    <tr>\n",
              "      <th>99438</th>\n",
              "      <td>83c1379a015df1e13d02aae0204711ab</td>\n",
              "      <td>1aa71eb042121263aafbe80c1b562c9c</td>\n",
              "      <td>delivered</td>\n",
              "      <td>2017-08-27 14:46:43</td>\n",
              "      <td>2017-08-27 15:04:16</td>\n",
              "      <td>2017-08-28 20:52:26</td>\n",
              "      <td>2017-09-21 11:24:17</td>\n",
              "      <td>2017-09-27 0:00:00</td>\n",
              "    </tr>\n",
              "    <tr>\n",
              "      <th>99439</th>\n",
              "      <td>11c177c8e97725db2631073c19f07b62</td>\n",
              "      <td>b331b74b18dc79bcdf6532d51e1637c1</td>\n",
              "      <td>delivered</td>\n",
              "      <td>2018-01-08 21:28:27</td>\n",
              "      <td>2018-01-08 21:36:21</td>\n",
              "      <td>2018-01-12 15:35:03</td>\n",
              "      <td>2018-01-25 23:32:54</td>\n",
              "      <td>2018-02-15 0:00:00</td>\n",
              "    </tr>\n",
              "    <tr>\n",
              "      <th>99440</th>\n",
              "      <td>66dea50a8b16d9b4dee7af250b4be1a5</td>\n",
              "      <td>edb027a75a1449115f6b43211ae02a24</td>\n",
              "      <td>delivered</td>\n",
              "      <td>2018-03-08 20:57:30</td>\n",
              "      <td>2018-03-09 11:20:28</td>\n",
              "      <td>2018-03-09 22:11:59</td>\n",
              "      <td>2018-03-16 13:08:30</td>\n",
              "      <td>2018-04-03 0:00:00</td>\n",
              "    </tr>\n",
              "  </tbody>\n",
              "</table>\n",
              "<p>99441 rows × 8 columns</p>\n",
              "</div>"
            ],
            "text/plain": [
              "                               order_id                       customer_id  \\\n",
              "0      e481f51cbdc54678b7cc49136f2d6af7  9ef432eb6251297304e76186b10a928d   \n",
              "1      53cdb2fc8bc7dce0b6741e2150273451  b0830fb4747a6c6d20dea0b8c802d7ef   \n",
              "2      47770eb9100c2d0c44946d9cf07ec65d  41ce2a54c0b03bf3443c3d931a367089   \n",
              "3      949d5b44dbf5de918fe9c16f97b45f8a  f88197465ea7920adcdbec7375364d82   \n",
              "4      ad21c59c0840e6cb83a9ceb5573f8159  8ab97904e6daea8866dbdbc4fb7aad2c   \n",
              "...                                 ...                               ...   \n",
              "99436  9c5dedf39a927c1b2549525ed64a053c  39bd1228ee8140590ac3aca26f2dfe00   \n",
              "99437  63943bddc261676b46f01ca7ac2f7bd8  1fca14ff2861355f6e5f14306ff977a7   \n",
              "99438  83c1379a015df1e13d02aae0204711ab  1aa71eb042121263aafbe80c1b562c9c   \n",
              "99439  11c177c8e97725db2631073c19f07b62  b331b74b18dc79bcdf6532d51e1637c1   \n",
              "99440  66dea50a8b16d9b4dee7af250b4be1a5  edb027a75a1449115f6b43211ae02a24   \n",
              "\n",
              "      order_status order_purchase_timestamp    order_approved_at  \\\n",
              "0        delivered      2017-10-02 10:56:33  2017-10-02 11:07:15   \n",
              "1        delivered      2018-07-24 20:41:37   2018-07-26 3:24:27   \n",
              "2        delivered       2018-08-08 8:38:49   2018-08-08 8:55:23   \n",
              "3        delivered      2017-11-18 19:28:06  2017-11-18 19:45:59   \n",
              "4        delivered      2018-02-13 21:18:39  2018-02-13 22:20:29   \n",
              "...            ...                      ...                  ...   \n",
              "99436    delivered       2017-03-09 9:54:05   2017-03-09 9:54:05   \n",
              "99437    delivered      2018-02-06 12:58:58  2018-02-06 13:10:37   \n",
              "99438    delivered      2017-08-27 14:46:43  2017-08-27 15:04:16   \n",
              "99439    delivered      2018-01-08 21:28:27  2018-01-08 21:36:21   \n",
              "99440    delivered      2018-03-08 20:57:30  2018-03-09 11:20:28   \n",
              "\n",
              "      order_delivered_carrier_date order_delivered_customer_date  \\\n",
              "0              2017-10-04 19:55:00           2017-10-10 21:25:13   \n",
              "1              2018-07-26 14:31:00           2018-08-07 15:27:45   \n",
              "2              2018-08-08 13:50:00           2018-08-17 18:06:29   \n",
              "3              2017-11-22 13:39:59            2017-12-02 0:28:42   \n",
              "4              2018-02-14 19:46:34           2018-02-16 18:17:02   \n",
              "...                            ...                           ...   \n",
              "99436          2017-03-10 11:18:03           2017-03-17 15:08:01   \n",
              "99437          2018-02-07 23:22:42           2018-02-28 17:37:56   \n",
              "99438          2017-08-28 20:52:26           2017-09-21 11:24:17   \n",
              "99439          2018-01-12 15:35:03           2018-01-25 23:32:54   \n",
              "99440          2018-03-09 22:11:59           2018-03-16 13:08:30   \n",
              "\n",
              "      order_estimated_delivery_date  \n",
              "0                2017-10-18 0:00:00  \n",
              "1                2018-08-13 0:00:00  \n",
              "2                2018-09-04 0:00:00  \n",
              "3                2017-12-15 0:00:00  \n",
              "4                2018-02-26 0:00:00  \n",
              "...                             ...  \n",
              "99436            2017-03-28 0:00:00  \n",
              "99437            2018-03-02 0:00:00  \n",
              "99438            2017-09-27 0:00:00  \n",
              "99439            2018-02-15 0:00:00  \n",
              "99440            2018-04-03 0:00:00  \n",
              "\n",
              "[99441 rows x 8 columns]"
            ]
          },
          "execution_count": 8,
          "metadata": {},
          "output_type": "execute_result"
        }
      ],
      "source": [
        "od"
      ]
    },
    {
      "cell_type": "markdown",
      "metadata": {
        "id": "Qwn-_SeqtJK2"
      },
      "source": [
        "##Dataset Info"
      ]
    },
    {
      "cell_type": "code",
      "execution_count": 9,
      "metadata": {
        "colab": {
          "base_uri": "https://localhost:8080/"
        },
        "id": "9uMARx5Ft2z9",
        "outputId": "b8e96baf-9134-44d3-c408-730878835e48"
      },
      "outputs": [
        {
          "name": "stdout",
          "output_type": "stream",
          "text": [
            "<class 'pandas.core.frame.DataFrame'>\n",
            "RangeIndex: 99441 entries, 0 to 99440\n",
            "Data columns (total 5 columns):\n",
            " #   Column                    Non-Null Count  Dtype \n",
            "---  ------                    --------------  ----- \n",
            " 0   customer_id               99441 non-null  object\n",
            " 1   customer_unique_id        99441 non-null  object\n",
            " 2   customer_zip_code_prefix  99441 non-null  int64 \n",
            " 3   customer_city             99441 non-null  object\n",
            " 4   customer_state            99441 non-null  object\n",
            "dtypes: int64(1), object(4)\n",
            "memory usage: 3.8+ MB\n"
          ]
        }
      ],
      "source": [
        "#Customer Dataset\n",
        "cd_original.info()"
      ]
    },
    {
      "cell_type": "code",
      "execution_count": 10,
      "metadata": {
        "colab": {
          "base_uri": "https://localhost:8080/"
        },
        "id": "OJMXy2Nct5fs",
        "outputId": "a4c4f78e-ab8b-4afc-b5c8-78df7dfaa978"
      },
      "outputs": [
        {
          "name": "stdout",
          "output_type": "stream",
          "text": [
            "<class 'pandas.core.frame.DataFrame'>\n",
            "RangeIndex: 103886 entries, 0 to 103885\n",
            "Data columns (total 5 columns):\n",
            " #   Column                Non-Null Count   Dtype  \n",
            "---  ------                --------------   -----  \n",
            " 0   order_id              103886 non-null  object \n",
            " 1   payment_sequential    103886 non-null  int64  \n",
            " 2   payment_type          103886 non-null  object \n",
            " 3   payment_installments  103886 non-null  int64  \n",
            " 4   payment_value         103886 non-null  float64\n",
            "dtypes: float64(1), int64(2), object(2)\n",
            "memory usage: 4.0+ MB\n"
          ]
        }
      ],
      "source": [
        "#Order Payment Dataset\n",
        "opd_original.info()"
      ]
    },
    {
      "cell_type": "code",
      "execution_count": 11,
      "metadata": {
        "colab": {
          "base_uri": "https://localhost:8080/"
        },
        "id": "yeMjiBAnv5Hn",
        "outputId": "87d5bc5a-8a8c-4550-9956-5a1db3c71c11"
      },
      "outputs": [
        {
          "name": "stdout",
          "output_type": "stream",
          "text": [
            "<class 'pandas.core.frame.DataFrame'>\n",
            "RangeIndex: 99441 entries, 0 to 99440\n",
            "Data columns (total 8 columns):\n",
            " #   Column                         Non-Null Count  Dtype \n",
            "---  ------                         --------------  ----- \n",
            " 0   order_id                       99441 non-null  object\n",
            " 1   customer_id                    99441 non-null  object\n",
            " 2   order_status                   99441 non-null  object\n",
            " 3   order_purchase_timestamp       99441 non-null  object\n",
            " 4   order_approved_at              99281 non-null  object\n",
            " 5   order_delivered_carrier_date   97658 non-null  object\n",
            " 6   order_delivered_customer_date  96476 non-null  object\n",
            " 7   order_estimated_delivery_date  99441 non-null  object\n",
            "dtypes: object(8)\n",
            "memory usage: 6.1+ MB\n"
          ]
        }
      ],
      "source": [
        "#Order Dataset\n",
        "od_original.info()"
      ]
    },
    {
      "cell_type": "markdown",
      "metadata": {
        "id": "IgAWViWFqKF2"
      },
      "source": [
        "##Merge Datasets"
      ]
    },
    {
      "cell_type": "code",
      "execution_count": 12,
      "metadata": {
        "colab": {
          "base_uri": "https://localhost:8080/"
        },
        "id": "fz2w0pTqtgxB",
        "outputId": "9aed162c-05d6-4445-c60f-6adf7dfb169a"
      },
      "outputs": [
        {
          "data": {
            "text/html": [
              "<div>\n",
              "<style scoped>\n",
              "    .dataframe tbody tr th:only-of-type {\n",
              "        vertical-align: middle;\n",
              "    }\n",
              "\n",
              "    .dataframe tbody tr th {\n",
              "        vertical-align: top;\n",
              "    }\n",
              "\n",
              "    .dataframe thead th {\n",
              "        text-align: right;\n",
              "    }\n",
              "</style>\n",
              "<table border=\"1\" class=\"dataframe\">\n",
              "  <thead>\n",
              "    <tr style=\"text-align: right;\">\n",
              "      <th></th>\n",
              "      <th>order_id</th>\n",
              "      <th>payment_sequential</th>\n",
              "      <th>payment_type</th>\n",
              "      <th>payment_installments</th>\n",
              "      <th>payment_value</th>\n",
              "      <th>customer_id</th>\n",
              "      <th>order_status</th>\n",
              "      <th>order_purchase_timestamp</th>\n",
              "      <th>order_approved_at</th>\n",
              "      <th>order_delivered_carrier_date</th>\n",
              "      <th>order_delivered_customer_date</th>\n",
              "      <th>order_estimated_delivery_date</th>\n",
              "    </tr>\n",
              "  </thead>\n",
              "  <tbody>\n",
              "    <tr>\n",
              "      <th>0</th>\n",
              "      <td>b81ef226f3fe1789b1e8b2acac839d17</td>\n",
              "      <td>1</td>\n",
              "      <td>credit_card</td>\n",
              "      <td>8</td>\n",
              "      <td>99.33</td>\n",
              "      <td>0a8556ac6be836b46b3e89920d59291c</td>\n",
              "      <td>delivered</td>\n",
              "      <td>2018-04-25 22:01:49</td>\n",
              "      <td>2018-04-25 22:15:09</td>\n",
              "      <td>2018-05-02 15:20:00</td>\n",
              "      <td>2018-05-09 17:36:51</td>\n",
              "      <td>2018-05-22 0:00:00</td>\n",
              "    </tr>\n",
              "    <tr>\n",
              "      <th>1</th>\n",
              "      <td>a9810da82917af2d9aefd1278f1dcfa0</td>\n",
              "      <td>1</td>\n",
              "      <td>credit_card</td>\n",
              "      <td>1</td>\n",
              "      <td>24.39</td>\n",
              "      <td>f2c7fc58a9de810828715166c672f10a</td>\n",
              "      <td>delivered</td>\n",
              "      <td>2018-06-26 11:01:38</td>\n",
              "      <td>2018-06-26 11:18:58</td>\n",
              "      <td>2018-06-28 14:18:00</td>\n",
              "      <td>2018-06-29 20:32:09</td>\n",
              "      <td>2018-07-16 0:00:00</td>\n",
              "    </tr>\n",
              "    <tr>\n",
              "      <th>2</th>\n",
              "      <td>25e8ea4e93396b6fa0d3dd708e76c1bd</td>\n",
              "      <td>1</td>\n",
              "      <td>credit_card</td>\n",
              "      <td>1</td>\n",
              "      <td>65.71</td>\n",
              "      <td>25b14b69de0b6e184ae6fe2755e478f9</td>\n",
              "      <td>delivered</td>\n",
              "      <td>2017-12-12 11:19:55</td>\n",
              "      <td>2017-12-14 9:52:34</td>\n",
              "      <td>2017-12-15 20:13:22</td>\n",
              "      <td>2017-12-18 17:24:41</td>\n",
              "      <td>2018-01-04 0:00:00</td>\n",
              "    </tr>\n",
              "    <tr>\n",
              "      <th>3</th>\n",
              "      <td>ba78997921bbcdc1373bb41e913ab953</td>\n",
              "      <td>1</td>\n",
              "      <td>credit_card</td>\n",
              "      <td>8</td>\n",
              "      <td>107.78</td>\n",
              "      <td>7a5d8efaaa1081f800628c30d2b0728f</td>\n",
              "      <td>delivered</td>\n",
              "      <td>2017-12-06 12:04:06</td>\n",
              "      <td>2017-12-06 12:13:20</td>\n",
              "      <td>2017-12-07 20:28:28</td>\n",
              "      <td>2017-12-21 1:35:51</td>\n",
              "      <td>2018-01-04 0:00:00</td>\n",
              "    </tr>\n",
              "    <tr>\n",
              "      <th>4</th>\n",
              "      <td>42fdf880ba16b47b59251dd489d4441a</td>\n",
              "      <td>1</td>\n",
              "      <td>credit_card</td>\n",
              "      <td>2</td>\n",
              "      <td>128.45</td>\n",
              "      <td>15fd6fb8f8312dbb4674e4518d6fa3b3</td>\n",
              "      <td>delivered</td>\n",
              "      <td>2018-05-21 13:59:17</td>\n",
              "      <td>2018-05-21 16:14:41</td>\n",
              "      <td>2018-05-22 11:46:00</td>\n",
              "      <td>2018-06-01 21:44:53</td>\n",
              "      <td>2018-06-13 0:00:00</td>\n",
              "    </tr>\n",
              "    <tr>\n",
              "      <th>...</th>\n",
              "      <td>...</td>\n",
              "      <td>...</td>\n",
              "      <td>...</td>\n",
              "      <td>...</td>\n",
              "      <td>...</td>\n",
              "      <td>...</td>\n",
              "      <td>...</td>\n",
              "      <td>...</td>\n",
              "      <td>...</td>\n",
              "      <td>...</td>\n",
              "      <td>...</td>\n",
              "      <td>...</td>\n",
              "    </tr>\n",
              "    <tr>\n",
              "      <th>103881</th>\n",
              "      <td>0406037ad97740d563a178ecc7a2075c</td>\n",
              "      <td>1</td>\n",
              "      <td>boleto</td>\n",
              "      <td>1</td>\n",
              "      <td>363.31</td>\n",
              "      <td>5d576cb2dfa3bc05612c392a1ee9c654</td>\n",
              "      <td>delivered</td>\n",
              "      <td>2018-03-08 16:57:23</td>\n",
              "      <td>2018-03-10 3:55:25</td>\n",
              "      <td>2018-03-12 18:19:36</td>\n",
              "      <td>2018-03-16 13:09:51</td>\n",
              "      <td>2018-04-04 0:00:00</td>\n",
              "    </tr>\n",
              "    <tr>\n",
              "      <th>103882</th>\n",
              "      <td>7b905861d7c825891d6347454ea7863f</td>\n",
              "      <td>1</td>\n",
              "      <td>credit_card</td>\n",
              "      <td>2</td>\n",
              "      <td>96.80</td>\n",
              "      <td>2079230c765a88530822a34a4cec2aa0</td>\n",
              "      <td>delivered</td>\n",
              "      <td>2017-08-18 9:45:35</td>\n",
              "      <td>2017-08-18 10:04:56</td>\n",
              "      <td>2017-08-18 18:04:24</td>\n",
              "      <td>2017-08-23 22:25:56</td>\n",
              "      <td>2017-09-12 0:00:00</td>\n",
              "    </tr>\n",
              "    <tr>\n",
              "      <th>103883</th>\n",
              "      <td>32609bbb3dd69b3c066a6860554a77bf</td>\n",
              "      <td>1</td>\n",
              "      <td>credit_card</td>\n",
              "      <td>1</td>\n",
              "      <td>47.77</td>\n",
              "      <td>e4abb5057ec8cfda9759c0dc415a8188</td>\n",
              "      <td>invoiced</td>\n",
              "      <td>2017-11-18 17:27:14</td>\n",
              "      <td>2017-11-18 17:46:05</td>\n",
              "      <td>NaN</td>\n",
              "      <td>NaN</td>\n",
              "      <td>2017-12-05 0:00:00</td>\n",
              "    </tr>\n",
              "    <tr>\n",
              "      <th>103884</th>\n",
              "      <td>b8b61059626efa996a60be9bb9320e10</td>\n",
              "      <td>1</td>\n",
              "      <td>credit_card</td>\n",
              "      <td>5</td>\n",
              "      <td>369.54</td>\n",
              "      <td>5d719b0d300663188169c6560e243f27</td>\n",
              "      <td>delivered</td>\n",
              "      <td>2018-08-07 23:26:13</td>\n",
              "      <td>2018-08-07 23:45:00</td>\n",
              "      <td>2018-08-09 11:46:00</td>\n",
              "      <td>2018-08-21 22:41:46</td>\n",
              "      <td>2018-08-24 0:00:00</td>\n",
              "    </tr>\n",
              "    <tr>\n",
              "      <th>103885</th>\n",
              "      <td>28bbae6599b09d39ca406b747b6632b1</td>\n",
              "      <td>1</td>\n",
              "      <td>boleto</td>\n",
              "      <td>1</td>\n",
              "      <td>191.58</td>\n",
              "      <td>4c7f868f43b5cff577b0becb8c8b7860</td>\n",
              "      <td>delivered</td>\n",
              "      <td>2017-12-05 8:18:35</td>\n",
              "      <td>2017-12-06 2:50:09</td>\n",
              "      <td>2017-12-08 0:51:47</td>\n",
              "      <td>2018-02-05 14:59:09</td>\n",
              "      <td>2017-12-29 0:00:00</td>\n",
              "    </tr>\n",
              "  </tbody>\n",
              "</table>\n",
              "<p>103886 rows × 12 columns</p>\n",
              "</div>"
            ],
            "text/plain": [
              "                                order_id  payment_sequential payment_type  \\\n",
              "0       b81ef226f3fe1789b1e8b2acac839d17                   1  credit_card   \n",
              "1       a9810da82917af2d9aefd1278f1dcfa0                   1  credit_card   \n",
              "2       25e8ea4e93396b6fa0d3dd708e76c1bd                   1  credit_card   \n",
              "3       ba78997921bbcdc1373bb41e913ab953                   1  credit_card   \n",
              "4       42fdf880ba16b47b59251dd489d4441a                   1  credit_card   \n",
              "...                                  ...                 ...          ...   \n",
              "103881  0406037ad97740d563a178ecc7a2075c                   1       boleto   \n",
              "103882  7b905861d7c825891d6347454ea7863f                   1  credit_card   \n",
              "103883  32609bbb3dd69b3c066a6860554a77bf                   1  credit_card   \n",
              "103884  b8b61059626efa996a60be9bb9320e10                   1  credit_card   \n",
              "103885  28bbae6599b09d39ca406b747b6632b1                   1       boleto   \n",
              "\n",
              "        payment_installments  payment_value                       customer_id  \\\n",
              "0                          8          99.33  0a8556ac6be836b46b3e89920d59291c   \n",
              "1                          1          24.39  f2c7fc58a9de810828715166c672f10a   \n",
              "2                          1          65.71  25b14b69de0b6e184ae6fe2755e478f9   \n",
              "3                          8         107.78  7a5d8efaaa1081f800628c30d2b0728f   \n",
              "4                          2         128.45  15fd6fb8f8312dbb4674e4518d6fa3b3   \n",
              "...                      ...            ...                               ...   \n",
              "103881                     1         363.31  5d576cb2dfa3bc05612c392a1ee9c654   \n",
              "103882                     2          96.80  2079230c765a88530822a34a4cec2aa0   \n",
              "103883                     1          47.77  e4abb5057ec8cfda9759c0dc415a8188   \n",
              "103884                     5         369.54  5d719b0d300663188169c6560e243f27   \n",
              "103885                     1         191.58  4c7f868f43b5cff577b0becb8c8b7860   \n",
              "\n",
              "       order_status order_purchase_timestamp    order_approved_at  \\\n",
              "0         delivered      2018-04-25 22:01:49  2018-04-25 22:15:09   \n",
              "1         delivered      2018-06-26 11:01:38  2018-06-26 11:18:58   \n",
              "2         delivered      2017-12-12 11:19:55   2017-12-14 9:52:34   \n",
              "3         delivered      2017-12-06 12:04:06  2017-12-06 12:13:20   \n",
              "4         delivered      2018-05-21 13:59:17  2018-05-21 16:14:41   \n",
              "...             ...                      ...                  ...   \n",
              "103881    delivered      2018-03-08 16:57:23   2018-03-10 3:55:25   \n",
              "103882    delivered       2017-08-18 9:45:35  2017-08-18 10:04:56   \n",
              "103883     invoiced      2017-11-18 17:27:14  2017-11-18 17:46:05   \n",
              "103884    delivered      2018-08-07 23:26:13  2018-08-07 23:45:00   \n",
              "103885    delivered       2017-12-05 8:18:35   2017-12-06 2:50:09   \n",
              "\n",
              "       order_delivered_carrier_date order_delivered_customer_date  \\\n",
              "0               2018-05-02 15:20:00           2018-05-09 17:36:51   \n",
              "1               2018-06-28 14:18:00           2018-06-29 20:32:09   \n",
              "2               2017-12-15 20:13:22           2017-12-18 17:24:41   \n",
              "3               2017-12-07 20:28:28            2017-12-21 1:35:51   \n",
              "4               2018-05-22 11:46:00           2018-06-01 21:44:53   \n",
              "...                             ...                           ...   \n",
              "103881          2018-03-12 18:19:36           2018-03-16 13:09:51   \n",
              "103882          2017-08-18 18:04:24           2017-08-23 22:25:56   \n",
              "103883                          NaN                           NaN   \n",
              "103884          2018-08-09 11:46:00           2018-08-21 22:41:46   \n",
              "103885           2017-12-08 0:51:47           2018-02-05 14:59:09   \n",
              "\n",
              "       order_estimated_delivery_date  \n",
              "0                 2018-05-22 0:00:00  \n",
              "1                 2018-07-16 0:00:00  \n",
              "2                 2018-01-04 0:00:00  \n",
              "3                 2018-01-04 0:00:00  \n",
              "4                 2018-06-13 0:00:00  \n",
              "...                              ...  \n",
              "103881            2018-04-04 0:00:00  \n",
              "103882            2017-09-12 0:00:00  \n",
              "103883            2017-12-05 0:00:00  \n",
              "103884            2018-08-24 0:00:00  \n",
              "103885            2017-12-29 0:00:00  \n",
              "\n",
              "[103886 rows x 12 columns]"
            ]
          },
          "execution_count": 12,
          "metadata": {},
          "output_type": "execute_result"
        }
      ],
      "source": [
        "#Merge Order Dataset dengan Order Payment Dataset\n",
        "Order = opd.merge(od,how='left',left_on='order_id', right_on='order_id')\n",
        "Order"
      ]
    },
    {
      "cell_type": "code",
      "execution_count": 13,
      "metadata": {
        "colab": {
          "base_uri": "https://localhost:8080/"
        },
        "id": "aDC8jkJ9vVj_",
        "outputId": "0ee801a2-910e-41f8-cf5a-860c3ba3c13d"
      },
      "outputs": [
        {
          "data": {
            "text/html": [
              "<div>\n",
              "<style scoped>\n",
              "    .dataframe tbody tr th:only-of-type {\n",
              "        vertical-align: middle;\n",
              "    }\n",
              "\n",
              "    .dataframe tbody tr th {\n",
              "        vertical-align: top;\n",
              "    }\n",
              "\n",
              "    .dataframe thead th {\n",
              "        text-align: right;\n",
              "    }\n",
              "</style>\n",
              "<table border=\"1\" class=\"dataframe\">\n",
              "  <thead>\n",
              "    <tr style=\"text-align: right;\">\n",
              "      <th></th>\n",
              "      <th>order_id</th>\n",
              "      <th>payment_sequential</th>\n",
              "      <th>payment_type</th>\n",
              "      <th>payment_installments</th>\n",
              "      <th>payment_value</th>\n",
              "      <th>customer_id</th>\n",
              "      <th>order_status</th>\n",
              "      <th>order_purchase_timestamp</th>\n",
              "      <th>order_approved_at</th>\n",
              "      <th>order_delivered_carrier_date</th>\n",
              "      <th>order_delivered_customer_date</th>\n",
              "      <th>order_estimated_delivery_date</th>\n",
              "      <th>customer_unique_id</th>\n",
              "      <th>customer_zip_code_prefix</th>\n",
              "      <th>customer_city</th>\n",
              "      <th>customer_state</th>\n",
              "    </tr>\n",
              "  </thead>\n",
              "  <tbody>\n",
              "    <tr>\n",
              "      <th>0</th>\n",
              "      <td>b81ef226f3fe1789b1e8b2acac839d17</td>\n",
              "      <td>1</td>\n",
              "      <td>credit_card</td>\n",
              "      <td>8</td>\n",
              "      <td>99.33</td>\n",
              "      <td>0a8556ac6be836b46b3e89920d59291c</td>\n",
              "      <td>delivered</td>\n",
              "      <td>2018-04-25 22:01:49</td>\n",
              "      <td>2018-04-25 22:15:09</td>\n",
              "      <td>2018-05-02 15:20:00</td>\n",
              "      <td>2018-05-09 17:36:51</td>\n",
              "      <td>2018-05-22 0:00:00</td>\n",
              "      <td>708ab75d2a007f0564aedd11139c7708</td>\n",
              "      <td>39801</td>\n",
              "      <td>teofilo otoni</td>\n",
              "      <td>MG</td>\n",
              "    </tr>\n",
              "    <tr>\n",
              "      <th>1</th>\n",
              "      <td>a9810da82917af2d9aefd1278f1dcfa0</td>\n",
              "      <td>1</td>\n",
              "      <td>credit_card</td>\n",
              "      <td>1</td>\n",
              "      <td>24.39</td>\n",
              "      <td>f2c7fc58a9de810828715166c672f10a</td>\n",
              "      <td>delivered</td>\n",
              "      <td>2018-06-26 11:01:38</td>\n",
              "      <td>2018-06-26 11:18:58</td>\n",
              "      <td>2018-06-28 14:18:00</td>\n",
              "      <td>2018-06-29 20:32:09</td>\n",
              "      <td>2018-07-16 0:00:00</td>\n",
              "      <td>a8b9d3a27068454b1c98cc67d4e31e6f</td>\n",
              "      <td>2422</td>\n",
              "      <td>sao paulo</td>\n",
              "      <td>SP</td>\n",
              "    </tr>\n",
              "    <tr>\n",
              "      <th>2</th>\n",
              "      <td>25e8ea4e93396b6fa0d3dd708e76c1bd</td>\n",
              "      <td>1</td>\n",
              "      <td>credit_card</td>\n",
              "      <td>1</td>\n",
              "      <td>65.71</td>\n",
              "      <td>25b14b69de0b6e184ae6fe2755e478f9</td>\n",
              "      <td>delivered</td>\n",
              "      <td>2017-12-12 11:19:55</td>\n",
              "      <td>2017-12-14 9:52:34</td>\n",
              "      <td>2017-12-15 20:13:22</td>\n",
              "      <td>2017-12-18 17:24:41</td>\n",
              "      <td>2018-01-04 0:00:00</td>\n",
              "      <td>6f70c0b2f7552832ba46eb57b1c5651e</td>\n",
              "      <td>2652</td>\n",
              "      <td>sao paulo</td>\n",
              "      <td>SP</td>\n",
              "    </tr>\n",
              "    <tr>\n",
              "      <th>3</th>\n",
              "      <td>ba78997921bbcdc1373bb41e913ab953</td>\n",
              "      <td>1</td>\n",
              "      <td>credit_card</td>\n",
              "      <td>8</td>\n",
              "      <td>107.78</td>\n",
              "      <td>7a5d8efaaa1081f800628c30d2b0728f</td>\n",
              "      <td>delivered</td>\n",
              "      <td>2017-12-06 12:04:06</td>\n",
              "      <td>2017-12-06 12:13:20</td>\n",
              "      <td>2017-12-07 20:28:28</td>\n",
              "      <td>2017-12-21 1:35:51</td>\n",
              "      <td>2018-01-04 0:00:00</td>\n",
              "      <td>87695ed086ebd36f20404c82d20fca87</td>\n",
              "      <td>36060</td>\n",
              "      <td>juiz de fora</td>\n",
              "      <td>MG</td>\n",
              "    </tr>\n",
              "    <tr>\n",
              "      <th>4</th>\n",
              "      <td>42fdf880ba16b47b59251dd489d4441a</td>\n",
              "      <td>1</td>\n",
              "      <td>credit_card</td>\n",
              "      <td>2</td>\n",
              "      <td>128.45</td>\n",
              "      <td>15fd6fb8f8312dbb4674e4518d6fa3b3</td>\n",
              "      <td>delivered</td>\n",
              "      <td>2018-05-21 13:59:17</td>\n",
              "      <td>2018-05-21 16:14:41</td>\n",
              "      <td>2018-05-22 11:46:00</td>\n",
              "      <td>2018-06-01 21:44:53</td>\n",
              "      <td>2018-06-13 0:00:00</td>\n",
              "      <td>4291db0da71914754618cd789aebcd56</td>\n",
              "      <td>18570</td>\n",
              "      <td>conchas</td>\n",
              "      <td>SP</td>\n",
              "    </tr>\n",
              "    <tr>\n",
              "      <th>...</th>\n",
              "      <td>...</td>\n",
              "      <td>...</td>\n",
              "      <td>...</td>\n",
              "      <td>...</td>\n",
              "      <td>...</td>\n",
              "      <td>...</td>\n",
              "      <td>...</td>\n",
              "      <td>...</td>\n",
              "      <td>...</td>\n",
              "      <td>...</td>\n",
              "      <td>...</td>\n",
              "      <td>...</td>\n",
              "      <td>...</td>\n",
              "      <td>...</td>\n",
              "      <td>...</td>\n",
              "      <td>...</td>\n",
              "    </tr>\n",
              "    <tr>\n",
              "      <th>103881</th>\n",
              "      <td>0406037ad97740d563a178ecc7a2075c</td>\n",
              "      <td>1</td>\n",
              "      <td>boleto</td>\n",
              "      <td>1</td>\n",
              "      <td>363.31</td>\n",
              "      <td>5d576cb2dfa3bc05612c392a1ee9c654</td>\n",
              "      <td>delivered</td>\n",
              "      <td>2018-03-08 16:57:23</td>\n",
              "      <td>2018-03-10 3:55:25</td>\n",
              "      <td>2018-03-12 18:19:36</td>\n",
              "      <td>2018-03-16 13:09:51</td>\n",
              "      <td>2018-04-04 0:00:00</td>\n",
              "      <td>b6027ac07fb76ebca8c97b1887865aee</td>\n",
              "      <td>12954</td>\n",
              "      <td>atibaia</td>\n",
              "      <td>SP</td>\n",
              "    </tr>\n",
              "    <tr>\n",
              "      <th>103882</th>\n",
              "      <td>7b905861d7c825891d6347454ea7863f</td>\n",
              "      <td>1</td>\n",
              "      <td>credit_card</td>\n",
              "      <td>2</td>\n",
              "      <td>96.80</td>\n",
              "      <td>2079230c765a88530822a34a4cec2aa0</td>\n",
              "      <td>delivered</td>\n",
              "      <td>2017-08-18 9:45:35</td>\n",
              "      <td>2017-08-18 10:04:56</td>\n",
              "      <td>2017-08-18 18:04:24</td>\n",
              "      <td>2017-08-23 22:25:56</td>\n",
              "      <td>2017-09-12 0:00:00</td>\n",
              "      <td>53b30ca78efb2b7efcd3f9e461587eb2</td>\n",
              "      <td>30210</td>\n",
              "      <td>belo horizonte</td>\n",
              "      <td>MG</td>\n",
              "    </tr>\n",
              "    <tr>\n",
              "      <th>103883</th>\n",
              "      <td>32609bbb3dd69b3c066a6860554a77bf</td>\n",
              "      <td>1</td>\n",
              "      <td>credit_card</td>\n",
              "      <td>1</td>\n",
              "      <td>47.77</td>\n",
              "      <td>e4abb5057ec8cfda9759c0dc415a8188</td>\n",
              "      <td>invoiced</td>\n",
              "      <td>2017-11-18 17:27:14</td>\n",
              "      <td>2017-11-18 17:46:05</td>\n",
              "      <td>NaN</td>\n",
              "      <td>NaN</td>\n",
              "      <td>2017-12-05 0:00:00</td>\n",
              "      <td>d3c7da954a324253814096bcaf240e4e</td>\n",
              "      <td>1519</td>\n",
              "      <td>sao paulo</td>\n",
              "      <td>SP</td>\n",
              "    </tr>\n",
              "    <tr>\n",
              "      <th>103884</th>\n",
              "      <td>b8b61059626efa996a60be9bb9320e10</td>\n",
              "      <td>1</td>\n",
              "      <td>credit_card</td>\n",
              "      <td>5</td>\n",
              "      <td>369.54</td>\n",
              "      <td>5d719b0d300663188169c6560e243f27</td>\n",
              "      <td>delivered</td>\n",
              "      <td>2018-08-07 23:26:13</td>\n",
              "      <td>2018-08-07 23:45:00</td>\n",
              "      <td>2018-08-09 11:46:00</td>\n",
              "      <td>2018-08-21 22:41:46</td>\n",
              "      <td>2018-08-24 0:00:00</td>\n",
              "      <td>b84dc68f02f122a88d7e7bbd37b06204</td>\n",
              "      <td>22733</td>\n",
              "      <td>rio de janeiro</td>\n",
              "      <td>RJ</td>\n",
              "    </tr>\n",
              "    <tr>\n",
              "      <th>103885</th>\n",
              "      <td>28bbae6599b09d39ca406b747b6632b1</td>\n",
              "      <td>1</td>\n",
              "      <td>boleto</td>\n",
              "      <td>1</td>\n",
              "      <td>191.58</td>\n",
              "      <td>4c7f868f43b5cff577b0becb8c8b7860</td>\n",
              "      <td>delivered</td>\n",
              "      <td>2017-12-05 8:18:35</td>\n",
              "      <td>2017-12-06 2:50:09</td>\n",
              "      <td>2017-12-08 0:51:47</td>\n",
              "      <td>2018-02-05 14:59:09</td>\n",
              "      <td>2017-12-29 0:00:00</td>\n",
              "      <td>b1f51a4e19da3338e51fbcfabefad1bf</td>\n",
              "      <td>23059</td>\n",
              "      <td>rio de janeiro</td>\n",
              "      <td>RJ</td>\n",
              "    </tr>\n",
              "  </tbody>\n",
              "</table>\n",
              "<p>103886 rows × 16 columns</p>\n",
              "</div>"
            ],
            "text/plain": [
              "                                order_id  payment_sequential payment_type  \\\n",
              "0       b81ef226f3fe1789b1e8b2acac839d17                   1  credit_card   \n",
              "1       a9810da82917af2d9aefd1278f1dcfa0                   1  credit_card   \n",
              "2       25e8ea4e93396b6fa0d3dd708e76c1bd                   1  credit_card   \n",
              "3       ba78997921bbcdc1373bb41e913ab953                   1  credit_card   \n",
              "4       42fdf880ba16b47b59251dd489d4441a                   1  credit_card   \n",
              "...                                  ...                 ...          ...   \n",
              "103881  0406037ad97740d563a178ecc7a2075c                   1       boleto   \n",
              "103882  7b905861d7c825891d6347454ea7863f                   1  credit_card   \n",
              "103883  32609bbb3dd69b3c066a6860554a77bf                   1  credit_card   \n",
              "103884  b8b61059626efa996a60be9bb9320e10                   1  credit_card   \n",
              "103885  28bbae6599b09d39ca406b747b6632b1                   1       boleto   \n",
              "\n",
              "        payment_installments  payment_value                       customer_id  \\\n",
              "0                          8          99.33  0a8556ac6be836b46b3e89920d59291c   \n",
              "1                          1          24.39  f2c7fc58a9de810828715166c672f10a   \n",
              "2                          1          65.71  25b14b69de0b6e184ae6fe2755e478f9   \n",
              "3                          8         107.78  7a5d8efaaa1081f800628c30d2b0728f   \n",
              "4                          2         128.45  15fd6fb8f8312dbb4674e4518d6fa3b3   \n",
              "...                      ...            ...                               ...   \n",
              "103881                     1         363.31  5d576cb2dfa3bc05612c392a1ee9c654   \n",
              "103882                     2          96.80  2079230c765a88530822a34a4cec2aa0   \n",
              "103883                     1          47.77  e4abb5057ec8cfda9759c0dc415a8188   \n",
              "103884                     5         369.54  5d719b0d300663188169c6560e243f27   \n",
              "103885                     1         191.58  4c7f868f43b5cff577b0becb8c8b7860   \n",
              "\n",
              "       order_status order_purchase_timestamp    order_approved_at  \\\n",
              "0         delivered      2018-04-25 22:01:49  2018-04-25 22:15:09   \n",
              "1         delivered      2018-06-26 11:01:38  2018-06-26 11:18:58   \n",
              "2         delivered      2017-12-12 11:19:55   2017-12-14 9:52:34   \n",
              "3         delivered      2017-12-06 12:04:06  2017-12-06 12:13:20   \n",
              "4         delivered      2018-05-21 13:59:17  2018-05-21 16:14:41   \n",
              "...             ...                      ...                  ...   \n",
              "103881    delivered      2018-03-08 16:57:23   2018-03-10 3:55:25   \n",
              "103882    delivered       2017-08-18 9:45:35  2017-08-18 10:04:56   \n",
              "103883     invoiced      2017-11-18 17:27:14  2017-11-18 17:46:05   \n",
              "103884    delivered      2018-08-07 23:26:13  2018-08-07 23:45:00   \n",
              "103885    delivered       2017-12-05 8:18:35   2017-12-06 2:50:09   \n",
              "\n",
              "       order_delivered_carrier_date order_delivered_customer_date  \\\n",
              "0               2018-05-02 15:20:00           2018-05-09 17:36:51   \n",
              "1               2018-06-28 14:18:00           2018-06-29 20:32:09   \n",
              "2               2017-12-15 20:13:22           2017-12-18 17:24:41   \n",
              "3               2017-12-07 20:28:28            2017-12-21 1:35:51   \n",
              "4               2018-05-22 11:46:00           2018-06-01 21:44:53   \n",
              "...                             ...                           ...   \n",
              "103881          2018-03-12 18:19:36           2018-03-16 13:09:51   \n",
              "103882          2017-08-18 18:04:24           2017-08-23 22:25:56   \n",
              "103883                          NaN                           NaN   \n",
              "103884          2018-08-09 11:46:00           2018-08-21 22:41:46   \n",
              "103885           2017-12-08 0:51:47           2018-02-05 14:59:09   \n",
              "\n",
              "       order_estimated_delivery_date                customer_unique_id  \\\n",
              "0                 2018-05-22 0:00:00  708ab75d2a007f0564aedd11139c7708   \n",
              "1                 2018-07-16 0:00:00  a8b9d3a27068454b1c98cc67d4e31e6f   \n",
              "2                 2018-01-04 0:00:00  6f70c0b2f7552832ba46eb57b1c5651e   \n",
              "3                 2018-01-04 0:00:00  87695ed086ebd36f20404c82d20fca87   \n",
              "4                 2018-06-13 0:00:00  4291db0da71914754618cd789aebcd56   \n",
              "...                              ...                               ...   \n",
              "103881            2018-04-04 0:00:00  b6027ac07fb76ebca8c97b1887865aee   \n",
              "103882            2017-09-12 0:00:00  53b30ca78efb2b7efcd3f9e461587eb2   \n",
              "103883            2017-12-05 0:00:00  d3c7da954a324253814096bcaf240e4e   \n",
              "103884            2018-08-24 0:00:00  b84dc68f02f122a88d7e7bbd37b06204   \n",
              "103885            2017-12-29 0:00:00  b1f51a4e19da3338e51fbcfabefad1bf   \n",
              "\n",
              "        customer_zip_code_prefix   customer_city customer_state  \n",
              "0                          39801   teofilo otoni             MG  \n",
              "1                           2422       sao paulo             SP  \n",
              "2                           2652       sao paulo             SP  \n",
              "3                          36060    juiz de fora             MG  \n",
              "4                          18570         conchas             SP  \n",
              "...                          ...             ...            ...  \n",
              "103881                     12954         atibaia             SP  \n",
              "103882                     30210  belo horizonte             MG  \n",
              "103883                      1519       sao paulo             SP  \n",
              "103884                     22733  rio de janeiro             RJ  \n",
              "103885                     23059  rio de janeiro             RJ  \n",
              "\n",
              "[103886 rows x 16 columns]"
            ]
          },
          "execution_count": 13,
          "metadata": {},
          "output_type": "execute_result"
        }
      ],
      "source": [
        "#Merge Order dataset dengan Customer Dataset\n",
        "Final_Dataset = Order.merge(cd,how='left',left_on='customer_id', right_on='customer_id')\n",
        "Final_Dataset"
      ]
    },
    {
      "cell_type": "markdown",
      "metadata": {
        "id": "BCumxkoMYCok"
      },
      "source": [
        "#Data Cleaning Preparation"
      ]
    },
    {
      "cell_type": "markdown",
      "metadata": {
        "id": "lkt4ER_O3YmD"
      },
      "source": [
        "##Removing Irrelevant Values"
      ]
    },
    {
      "cell_type": "code",
      "execution_count": 14,
      "metadata": {
        "colab": {
          "base_uri": "https://localhost:8080/"
        },
        "id": "in4I-Grs2jd9",
        "outputId": "2be40217-aa7c-41ff-8621-2862333ce297"
      },
      "outputs": [
        {
          "data": {
            "text/html": [
              "<div>\n",
              "<style scoped>\n",
              "    .dataframe tbody tr th:only-of-type {\n",
              "        vertical-align: middle;\n",
              "    }\n",
              "\n",
              "    .dataframe tbody tr th {\n",
              "        vertical-align: top;\n",
              "    }\n",
              "\n",
              "    .dataframe thead th {\n",
              "        text-align: right;\n",
              "    }\n",
              "</style>\n",
              "<table border=\"1\" class=\"dataframe\">\n",
              "  <thead>\n",
              "    <tr style=\"text-align: right;\">\n",
              "      <th></th>\n",
              "      <th>order_id</th>\n",
              "      <th>payment_sequential</th>\n",
              "      <th>payment_type</th>\n",
              "      <th>payment_installments</th>\n",
              "      <th>payment_value</th>\n",
              "      <th>customer_id</th>\n",
              "      <th>order_status</th>\n",
              "      <th>order_purchase_timestamp</th>\n",
              "      <th>order_approved_at</th>\n",
              "      <th>customer_unique_id</th>\n",
              "      <th>customer_zip_code_prefix</th>\n",
              "      <th>customer_city</th>\n",
              "      <th>customer_state</th>\n",
              "    </tr>\n",
              "  </thead>\n",
              "  <tbody>\n",
              "    <tr>\n",
              "      <th>0</th>\n",
              "      <td>b81ef226f3fe1789b1e8b2acac839d17</td>\n",
              "      <td>1</td>\n",
              "      <td>credit_card</td>\n",
              "      <td>8</td>\n",
              "      <td>99.33</td>\n",
              "      <td>0a8556ac6be836b46b3e89920d59291c</td>\n",
              "      <td>delivered</td>\n",
              "      <td>2018-04-25 22:01:49</td>\n",
              "      <td>2018-04-25 22:15:09</td>\n",
              "      <td>708ab75d2a007f0564aedd11139c7708</td>\n",
              "      <td>39801</td>\n",
              "      <td>teofilo otoni</td>\n",
              "      <td>MG</td>\n",
              "    </tr>\n",
              "    <tr>\n",
              "      <th>1</th>\n",
              "      <td>a9810da82917af2d9aefd1278f1dcfa0</td>\n",
              "      <td>1</td>\n",
              "      <td>credit_card</td>\n",
              "      <td>1</td>\n",
              "      <td>24.39</td>\n",
              "      <td>f2c7fc58a9de810828715166c672f10a</td>\n",
              "      <td>delivered</td>\n",
              "      <td>2018-06-26 11:01:38</td>\n",
              "      <td>2018-06-26 11:18:58</td>\n",
              "      <td>a8b9d3a27068454b1c98cc67d4e31e6f</td>\n",
              "      <td>2422</td>\n",
              "      <td>sao paulo</td>\n",
              "      <td>SP</td>\n",
              "    </tr>\n",
              "    <tr>\n",
              "      <th>2</th>\n",
              "      <td>25e8ea4e93396b6fa0d3dd708e76c1bd</td>\n",
              "      <td>1</td>\n",
              "      <td>credit_card</td>\n",
              "      <td>1</td>\n",
              "      <td>65.71</td>\n",
              "      <td>25b14b69de0b6e184ae6fe2755e478f9</td>\n",
              "      <td>delivered</td>\n",
              "      <td>2017-12-12 11:19:55</td>\n",
              "      <td>2017-12-14 9:52:34</td>\n",
              "      <td>6f70c0b2f7552832ba46eb57b1c5651e</td>\n",
              "      <td>2652</td>\n",
              "      <td>sao paulo</td>\n",
              "      <td>SP</td>\n",
              "    </tr>\n",
              "    <tr>\n",
              "      <th>3</th>\n",
              "      <td>ba78997921bbcdc1373bb41e913ab953</td>\n",
              "      <td>1</td>\n",
              "      <td>credit_card</td>\n",
              "      <td>8</td>\n",
              "      <td>107.78</td>\n",
              "      <td>7a5d8efaaa1081f800628c30d2b0728f</td>\n",
              "      <td>delivered</td>\n",
              "      <td>2017-12-06 12:04:06</td>\n",
              "      <td>2017-12-06 12:13:20</td>\n",
              "      <td>87695ed086ebd36f20404c82d20fca87</td>\n",
              "      <td>36060</td>\n",
              "      <td>juiz de fora</td>\n",
              "      <td>MG</td>\n",
              "    </tr>\n",
              "    <tr>\n",
              "      <th>4</th>\n",
              "      <td>42fdf880ba16b47b59251dd489d4441a</td>\n",
              "      <td>1</td>\n",
              "      <td>credit_card</td>\n",
              "      <td>2</td>\n",
              "      <td>128.45</td>\n",
              "      <td>15fd6fb8f8312dbb4674e4518d6fa3b3</td>\n",
              "      <td>delivered</td>\n",
              "      <td>2018-05-21 13:59:17</td>\n",
              "      <td>2018-05-21 16:14:41</td>\n",
              "      <td>4291db0da71914754618cd789aebcd56</td>\n",
              "      <td>18570</td>\n",
              "      <td>conchas</td>\n",
              "      <td>SP</td>\n",
              "    </tr>\n",
              "    <tr>\n",
              "      <th>...</th>\n",
              "      <td>...</td>\n",
              "      <td>...</td>\n",
              "      <td>...</td>\n",
              "      <td>...</td>\n",
              "      <td>...</td>\n",
              "      <td>...</td>\n",
              "      <td>...</td>\n",
              "      <td>...</td>\n",
              "      <td>...</td>\n",
              "      <td>...</td>\n",
              "      <td>...</td>\n",
              "      <td>...</td>\n",
              "      <td>...</td>\n",
              "    </tr>\n",
              "    <tr>\n",
              "      <th>103881</th>\n",
              "      <td>0406037ad97740d563a178ecc7a2075c</td>\n",
              "      <td>1</td>\n",
              "      <td>boleto</td>\n",
              "      <td>1</td>\n",
              "      <td>363.31</td>\n",
              "      <td>5d576cb2dfa3bc05612c392a1ee9c654</td>\n",
              "      <td>delivered</td>\n",
              "      <td>2018-03-08 16:57:23</td>\n",
              "      <td>2018-03-10 3:55:25</td>\n",
              "      <td>b6027ac07fb76ebca8c97b1887865aee</td>\n",
              "      <td>12954</td>\n",
              "      <td>atibaia</td>\n",
              "      <td>SP</td>\n",
              "    </tr>\n",
              "    <tr>\n",
              "      <th>103882</th>\n",
              "      <td>7b905861d7c825891d6347454ea7863f</td>\n",
              "      <td>1</td>\n",
              "      <td>credit_card</td>\n",
              "      <td>2</td>\n",
              "      <td>96.80</td>\n",
              "      <td>2079230c765a88530822a34a4cec2aa0</td>\n",
              "      <td>delivered</td>\n",
              "      <td>2017-08-18 9:45:35</td>\n",
              "      <td>2017-08-18 10:04:56</td>\n",
              "      <td>53b30ca78efb2b7efcd3f9e461587eb2</td>\n",
              "      <td>30210</td>\n",
              "      <td>belo horizonte</td>\n",
              "      <td>MG</td>\n",
              "    </tr>\n",
              "    <tr>\n",
              "      <th>103883</th>\n",
              "      <td>32609bbb3dd69b3c066a6860554a77bf</td>\n",
              "      <td>1</td>\n",
              "      <td>credit_card</td>\n",
              "      <td>1</td>\n",
              "      <td>47.77</td>\n",
              "      <td>e4abb5057ec8cfda9759c0dc415a8188</td>\n",
              "      <td>invoiced</td>\n",
              "      <td>2017-11-18 17:27:14</td>\n",
              "      <td>2017-11-18 17:46:05</td>\n",
              "      <td>d3c7da954a324253814096bcaf240e4e</td>\n",
              "      <td>1519</td>\n",
              "      <td>sao paulo</td>\n",
              "      <td>SP</td>\n",
              "    </tr>\n",
              "    <tr>\n",
              "      <th>103884</th>\n",
              "      <td>b8b61059626efa996a60be9bb9320e10</td>\n",
              "      <td>1</td>\n",
              "      <td>credit_card</td>\n",
              "      <td>5</td>\n",
              "      <td>369.54</td>\n",
              "      <td>5d719b0d300663188169c6560e243f27</td>\n",
              "      <td>delivered</td>\n",
              "      <td>2018-08-07 23:26:13</td>\n",
              "      <td>2018-08-07 23:45:00</td>\n",
              "      <td>b84dc68f02f122a88d7e7bbd37b06204</td>\n",
              "      <td>22733</td>\n",
              "      <td>rio de janeiro</td>\n",
              "      <td>RJ</td>\n",
              "    </tr>\n",
              "    <tr>\n",
              "      <th>103885</th>\n",
              "      <td>28bbae6599b09d39ca406b747b6632b1</td>\n",
              "      <td>1</td>\n",
              "      <td>boleto</td>\n",
              "      <td>1</td>\n",
              "      <td>191.58</td>\n",
              "      <td>4c7f868f43b5cff577b0becb8c8b7860</td>\n",
              "      <td>delivered</td>\n",
              "      <td>2017-12-05 8:18:35</td>\n",
              "      <td>2017-12-06 2:50:09</td>\n",
              "      <td>b1f51a4e19da3338e51fbcfabefad1bf</td>\n",
              "      <td>23059</td>\n",
              "      <td>rio de janeiro</td>\n",
              "      <td>RJ</td>\n",
              "    </tr>\n",
              "  </tbody>\n",
              "</table>\n",
              "<p>103886 rows × 13 columns</p>\n",
              "</div>"
            ],
            "text/plain": [
              "                                order_id  payment_sequential payment_type  \\\n",
              "0       b81ef226f3fe1789b1e8b2acac839d17                   1  credit_card   \n",
              "1       a9810da82917af2d9aefd1278f1dcfa0                   1  credit_card   \n",
              "2       25e8ea4e93396b6fa0d3dd708e76c1bd                   1  credit_card   \n",
              "3       ba78997921bbcdc1373bb41e913ab953                   1  credit_card   \n",
              "4       42fdf880ba16b47b59251dd489d4441a                   1  credit_card   \n",
              "...                                  ...                 ...          ...   \n",
              "103881  0406037ad97740d563a178ecc7a2075c                   1       boleto   \n",
              "103882  7b905861d7c825891d6347454ea7863f                   1  credit_card   \n",
              "103883  32609bbb3dd69b3c066a6860554a77bf                   1  credit_card   \n",
              "103884  b8b61059626efa996a60be9bb9320e10                   1  credit_card   \n",
              "103885  28bbae6599b09d39ca406b747b6632b1                   1       boleto   \n",
              "\n",
              "        payment_installments  payment_value                       customer_id  \\\n",
              "0                          8          99.33  0a8556ac6be836b46b3e89920d59291c   \n",
              "1                          1          24.39  f2c7fc58a9de810828715166c672f10a   \n",
              "2                          1          65.71  25b14b69de0b6e184ae6fe2755e478f9   \n",
              "3                          8         107.78  7a5d8efaaa1081f800628c30d2b0728f   \n",
              "4                          2         128.45  15fd6fb8f8312dbb4674e4518d6fa3b3   \n",
              "...                      ...            ...                               ...   \n",
              "103881                     1         363.31  5d576cb2dfa3bc05612c392a1ee9c654   \n",
              "103882                     2          96.80  2079230c765a88530822a34a4cec2aa0   \n",
              "103883                     1          47.77  e4abb5057ec8cfda9759c0dc415a8188   \n",
              "103884                     5         369.54  5d719b0d300663188169c6560e243f27   \n",
              "103885                     1         191.58  4c7f868f43b5cff577b0becb8c8b7860   \n",
              "\n",
              "       order_status order_purchase_timestamp    order_approved_at  \\\n",
              "0         delivered      2018-04-25 22:01:49  2018-04-25 22:15:09   \n",
              "1         delivered      2018-06-26 11:01:38  2018-06-26 11:18:58   \n",
              "2         delivered      2017-12-12 11:19:55   2017-12-14 9:52:34   \n",
              "3         delivered      2017-12-06 12:04:06  2017-12-06 12:13:20   \n",
              "4         delivered      2018-05-21 13:59:17  2018-05-21 16:14:41   \n",
              "...             ...                      ...                  ...   \n",
              "103881    delivered      2018-03-08 16:57:23   2018-03-10 3:55:25   \n",
              "103882    delivered       2017-08-18 9:45:35  2017-08-18 10:04:56   \n",
              "103883     invoiced      2017-11-18 17:27:14  2017-11-18 17:46:05   \n",
              "103884    delivered      2018-08-07 23:26:13  2018-08-07 23:45:00   \n",
              "103885    delivered       2017-12-05 8:18:35   2017-12-06 2:50:09   \n",
              "\n",
              "                      customer_unique_id  customer_zip_code_prefix  \\\n",
              "0       708ab75d2a007f0564aedd11139c7708                     39801   \n",
              "1       a8b9d3a27068454b1c98cc67d4e31e6f                      2422   \n",
              "2       6f70c0b2f7552832ba46eb57b1c5651e                      2652   \n",
              "3       87695ed086ebd36f20404c82d20fca87                     36060   \n",
              "4       4291db0da71914754618cd789aebcd56                     18570   \n",
              "...                                  ...                       ...   \n",
              "103881  b6027ac07fb76ebca8c97b1887865aee                     12954   \n",
              "103882  53b30ca78efb2b7efcd3f9e461587eb2                     30210   \n",
              "103883  d3c7da954a324253814096bcaf240e4e                      1519   \n",
              "103884  b84dc68f02f122a88d7e7bbd37b06204                     22733   \n",
              "103885  b1f51a4e19da3338e51fbcfabefad1bf                     23059   \n",
              "\n",
              "         customer_city customer_state  \n",
              "0        teofilo otoni             MG  \n",
              "1            sao paulo             SP  \n",
              "2            sao paulo             SP  \n",
              "3         juiz de fora             MG  \n",
              "4              conchas             SP  \n",
              "...                ...            ...  \n",
              "103881         atibaia             SP  \n",
              "103882  belo horizonte             MG  \n",
              "103883       sao paulo             SP  \n",
              "103884  rio de janeiro             RJ  \n",
              "103885  rio de janeiro             RJ  \n",
              "\n",
              "[103886 rows x 13 columns]"
            ]
          },
          "execution_count": 14,
          "metadata": {},
          "output_type": "execute_result"
        }
      ],
      "source": [
        "Final_Dataset_Drop = Final_Dataset.copy()\n",
        "Final_Dataset_Drop = Final_Dataset_Drop.drop(labels=['order_delivered_carrier_date','order_delivered_customer_date','order_estimated_delivery_date'],axis=1)\n",
        "Final_Dataset_Drop"
      ]
    },
    {
      "cell_type": "code",
      "execution_count": 15,
      "metadata": {
        "id": "rXufsroHvAv6"
      },
      "outputs": [],
      "source": [
        "Final_Dataset = Final_Dataset_Drop.copy()"
      ]
    },
    {
      "cell_type": "markdown",
      "metadata": {
        "id": "dsFGm_474LO_"
      },
      "source": [
        "##Removing Duplicates"
      ]
    },
    {
      "cell_type": "code",
      "execution_count": 16,
      "metadata": {
        "colab": {
          "base_uri": "https://localhost:8080/"
        },
        "id": "1qOo_05w42C5",
        "outputId": "374f2318-61e6-4301-b02c-e68608168a84"
      },
      "outputs": [
        {
          "data": {
            "text/html": [
              "<div>\n",
              "<style scoped>\n",
              "    .dataframe tbody tr th:only-of-type {\n",
              "        vertical-align: middle;\n",
              "    }\n",
              "\n",
              "    .dataframe tbody tr th {\n",
              "        vertical-align: top;\n",
              "    }\n",
              "\n",
              "    .dataframe thead th {\n",
              "        text-align: right;\n",
              "    }\n",
              "</style>\n",
              "<table border=\"1\" class=\"dataframe\">\n",
              "  <thead>\n",
              "    <tr style=\"text-align: right;\">\n",
              "      <th></th>\n",
              "      <th>order_id</th>\n",
              "      <th>payment_sequential</th>\n",
              "      <th>payment_type</th>\n",
              "      <th>payment_installments</th>\n",
              "      <th>payment_value</th>\n",
              "      <th>customer_id</th>\n",
              "      <th>order_status</th>\n",
              "      <th>order_purchase_timestamp</th>\n",
              "      <th>order_approved_at</th>\n",
              "      <th>customer_unique_id</th>\n",
              "      <th>customer_zip_code_prefix</th>\n",
              "      <th>customer_city</th>\n",
              "      <th>customer_state</th>\n",
              "    </tr>\n",
              "  </thead>\n",
              "  <tbody>\n",
              "    <tr>\n",
              "      <th>0</th>\n",
              "      <td>b81ef226f3fe1789b1e8b2acac839d17</td>\n",
              "      <td>1</td>\n",
              "      <td>credit_card</td>\n",
              "      <td>8</td>\n",
              "      <td>99.33</td>\n",
              "      <td>0a8556ac6be836b46b3e89920d59291c</td>\n",
              "      <td>delivered</td>\n",
              "      <td>2018-04-25 22:01:49</td>\n",
              "      <td>2018-04-25 22:15:09</td>\n",
              "      <td>708ab75d2a007f0564aedd11139c7708</td>\n",
              "      <td>39801</td>\n",
              "      <td>teofilo otoni</td>\n",
              "      <td>MG</td>\n",
              "    </tr>\n",
              "    <tr>\n",
              "      <th>1</th>\n",
              "      <td>a9810da82917af2d9aefd1278f1dcfa0</td>\n",
              "      <td>1</td>\n",
              "      <td>credit_card</td>\n",
              "      <td>1</td>\n",
              "      <td>24.39</td>\n",
              "      <td>f2c7fc58a9de810828715166c672f10a</td>\n",
              "      <td>delivered</td>\n",
              "      <td>2018-06-26 11:01:38</td>\n",
              "      <td>2018-06-26 11:18:58</td>\n",
              "      <td>a8b9d3a27068454b1c98cc67d4e31e6f</td>\n",
              "      <td>2422</td>\n",
              "      <td>sao paulo</td>\n",
              "      <td>SP</td>\n",
              "    </tr>\n",
              "    <tr>\n",
              "      <th>2</th>\n",
              "      <td>25e8ea4e93396b6fa0d3dd708e76c1bd</td>\n",
              "      <td>1</td>\n",
              "      <td>credit_card</td>\n",
              "      <td>1</td>\n",
              "      <td>65.71</td>\n",
              "      <td>25b14b69de0b6e184ae6fe2755e478f9</td>\n",
              "      <td>delivered</td>\n",
              "      <td>2017-12-12 11:19:55</td>\n",
              "      <td>2017-12-14 9:52:34</td>\n",
              "      <td>6f70c0b2f7552832ba46eb57b1c5651e</td>\n",
              "      <td>2652</td>\n",
              "      <td>sao paulo</td>\n",
              "      <td>SP</td>\n",
              "    </tr>\n",
              "    <tr>\n",
              "      <th>3</th>\n",
              "      <td>ba78997921bbcdc1373bb41e913ab953</td>\n",
              "      <td>1</td>\n",
              "      <td>credit_card</td>\n",
              "      <td>8</td>\n",
              "      <td>107.78</td>\n",
              "      <td>7a5d8efaaa1081f800628c30d2b0728f</td>\n",
              "      <td>delivered</td>\n",
              "      <td>2017-12-06 12:04:06</td>\n",
              "      <td>2017-12-06 12:13:20</td>\n",
              "      <td>87695ed086ebd36f20404c82d20fca87</td>\n",
              "      <td>36060</td>\n",
              "      <td>juiz de fora</td>\n",
              "      <td>MG</td>\n",
              "    </tr>\n",
              "    <tr>\n",
              "      <th>4</th>\n",
              "      <td>42fdf880ba16b47b59251dd489d4441a</td>\n",
              "      <td>1</td>\n",
              "      <td>credit_card</td>\n",
              "      <td>2</td>\n",
              "      <td>128.45</td>\n",
              "      <td>15fd6fb8f8312dbb4674e4518d6fa3b3</td>\n",
              "      <td>delivered</td>\n",
              "      <td>2018-05-21 13:59:17</td>\n",
              "      <td>2018-05-21 16:14:41</td>\n",
              "      <td>4291db0da71914754618cd789aebcd56</td>\n",
              "      <td>18570</td>\n",
              "      <td>conchas</td>\n",
              "      <td>SP</td>\n",
              "    </tr>\n",
              "    <tr>\n",
              "      <th>...</th>\n",
              "      <td>...</td>\n",
              "      <td>...</td>\n",
              "      <td>...</td>\n",
              "      <td>...</td>\n",
              "      <td>...</td>\n",
              "      <td>...</td>\n",
              "      <td>...</td>\n",
              "      <td>...</td>\n",
              "      <td>...</td>\n",
              "      <td>...</td>\n",
              "      <td>...</td>\n",
              "      <td>...</td>\n",
              "      <td>...</td>\n",
              "    </tr>\n",
              "    <tr>\n",
              "      <th>103881</th>\n",
              "      <td>0406037ad97740d563a178ecc7a2075c</td>\n",
              "      <td>1</td>\n",
              "      <td>boleto</td>\n",
              "      <td>1</td>\n",
              "      <td>363.31</td>\n",
              "      <td>5d576cb2dfa3bc05612c392a1ee9c654</td>\n",
              "      <td>delivered</td>\n",
              "      <td>2018-03-08 16:57:23</td>\n",
              "      <td>2018-03-10 3:55:25</td>\n",
              "      <td>b6027ac07fb76ebca8c97b1887865aee</td>\n",
              "      <td>12954</td>\n",
              "      <td>atibaia</td>\n",
              "      <td>SP</td>\n",
              "    </tr>\n",
              "    <tr>\n",
              "      <th>103882</th>\n",
              "      <td>7b905861d7c825891d6347454ea7863f</td>\n",
              "      <td>1</td>\n",
              "      <td>credit_card</td>\n",
              "      <td>2</td>\n",
              "      <td>96.80</td>\n",
              "      <td>2079230c765a88530822a34a4cec2aa0</td>\n",
              "      <td>delivered</td>\n",
              "      <td>2017-08-18 9:45:35</td>\n",
              "      <td>2017-08-18 10:04:56</td>\n",
              "      <td>53b30ca78efb2b7efcd3f9e461587eb2</td>\n",
              "      <td>30210</td>\n",
              "      <td>belo horizonte</td>\n",
              "      <td>MG</td>\n",
              "    </tr>\n",
              "    <tr>\n",
              "      <th>103883</th>\n",
              "      <td>32609bbb3dd69b3c066a6860554a77bf</td>\n",
              "      <td>1</td>\n",
              "      <td>credit_card</td>\n",
              "      <td>1</td>\n",
              "      <td>47.77</td>\n",
              "      <td>e4abb5057ec8cfda9759c0dc415a8188</td>\n",
              "      <td>invoiced</td>\n",
              "      <td>2017-11-18 17:27:14</td>\n",
              "      <td>2017-11-18 17:46:05</td>\n",
              "      <td>d3c7da954a324253814096bcaf240e4e</td>\n",
              "      <td>1519</td>\n",
              "      <td>sao paulo</td>\n",
              "      <td>SP</td>\n",
              "    </tr>\n",
              "    <tr>\n",
              "      <th>103884</th>\n",
              "      <td>b8b61059626efa996a60be9bb9320e10</td>\n",
              "      <td>1</td>\n",
              "      <td>credit_card</td>\n",
              "      <td>5</td>\n",
              "      <td>369.54</td>\n",
              "      <td>5d719b0d300663188169c6560e243f27</td>\n",
              "      <td>delivered</td>\n",
              "      <td>2018-08-07 23:26:13</td>\n",
              "      <td>2018-08-07 23:45:00</td>\n",
              "      <td>b84dc68f02f122a88d7e7bbd37b06204</td>\n",
              "      <td>22733</td>\n",
              "      <td>rio de janeiro</td>\n",
              "      <td>RJ</td>\n",
              "    </tr>\n",
              "    <tr>\n",
              "      <th>103885</th>\n",
              "      <td>28bbae6599b09d39ca406b747b6632b1</td>\n",
              "      <td>1</td>\n",
              "      <td>boleto</td>\n",
              "      <td>1</td>\n",
              "      <td>191.58</td>\n",
              "      <td>4c7f868f43b5cff577b0becb8c8b7860</td>\n",
              "      <td>delivered</td>\n",
              "      <td>2017-12-05 8:18:35</td>\n",
              "      <td>2017-12-06 2:50:09</td>\n",
              "      <td>b1f51a4e19da3338e51fbcfabefad1bf</td>\n",
              "      <td>23059</td>\n",
              "      <td>rio de janeiro</td>\n",
              "      <td>RJ</td>\n",
              "    </tr>\n",
              "  </tbody>\n",
              "</table>\n",
              "<p>99440 rows × 13 columns</p>\n",
              "</div>"
            ],
            "text/plain": [
              "                                order_id  payment_sequential payment_type  \\\n",
              "0       b81ef226f3fe1789b1e8b2acac839d17                   1  credit_card   \n",
              "1       a9810da82917af2d9aefd1278f1dcfa0                   1  credit_card   \n",
              "2       25e8ea4e93396b6fa0d3dd708e76c1bd                   1  credit_card   \n",
              "3       ba78997921bbcdc1373bb41e913ab953                   1  credit_card   \n",
              "4       42fdf880ba16b47b59251dd489d4441a                   1  credit_card   \n",
              "...                                  ...                 ...          ...   \n",
              "103881  0406037ad97740d563a178ecc7a2075c                   1       boleto   \n",
              "103882  7b905861d7c825891d6347454ea7863f                   1  credit_card   \n",
              "103883  32609bbb3dd69b3c066a6860554a77bf                   1  credit_card   \n",
              "103884  b8b61059626efa996a60be9bb9320e10                   1  credit_card   \n",
              "103885  28bbae6599b09d39ca406b747b6632b1                   1       boleto   \n",
              "\n",
              "        payment_installments  payment_value                       customer_id  \\\n",
              "0                          8          99.33  0a8556ac6be836b46b3e89920d59291c   \n",
              "1                          1          24.39  f2c7fc58a9de810828715166c672f10a   \n",
              "2                          1          65.71  25b14b69de0b6e184ae6fe2755e478f9   \n",
              "3                          8         107.78  7a5d8efaaa1081f800628c30d2b0728f   \n",
              "4                          2         128.45  15fd6fb8f8312dbb4674e4518d6fa3b3   \n",
              "...                      ...            ...                               ...   \n",
              "103881                     1         363.31  5d576cb2dfa3bc05612c392a1ee9c654   \n",
              "103882                     2          96.80  2079230c765a88530822a34a4cec2aa0   \n",
              "103883                     1          47.77  e4abb5057ec8cfda9759c0dc415a8188   \n",
              "103884                     5         369.54  5d719b0d300663188169c6560e243f27   \n",
              "103885                     1         191.58  4c7f868f43b5cff577b0becb8c8b7860   \n",
              "\n",
              "       order_status order_purchase_timestamp    order_approved_at  \\\n",
              "0         delivered      2018-04-25 22:01:49  2018-04-25 22:15:09   \n",
              "1         delivered      2018-06-26 11:01:38  2018-06-26 11:18:58   \n",
              "2         delivered      2017-12-12 11:19:55   2017-12-14 9:52:34   \n",
              "3         delivered      2017-12-06 12:04:06  2017-12-06 12:13:20   \n",
              "4         delivered      2018-05-21 13:59:17  2018-05-21 16:14:41   \n",
              "...             ...                      ...                  ...   \n",
              "103881    delivered      2018-03-08 16:57:23   2018-03-10 3:55:25   \n",
              "103882    delivered       2017-08-18 9:45:35  2017-08-18 10:04:56   \n",
              "103883     invoiced      2017-11-18 17:27:14  2017-11-18 17:46:05   \n",
              "103884    delivered      2018-08-07 23:26:13  2018-08-07 23:45:00   \n",
              "103885    delivered       2017-12-05 8:18:35   2017-12-06 2:50:09   \n",
              "\n",
              "                      customer_unique_id  customer_zip_code_prefix  \\\n",
              "0       708ab75d2a007f0564aedd11139c7708                     39801   \n",
              "1       a8b9d3a27068454b1c98cc67d4e31e6f                      2422   \n",
              "2       6f70c0b2f7552832ba46eb57b1c5651e                      2652   \n",
              "3       87695ed086ebd36f20404c82d20fca87                     36060   \n",
              "4       4291db0da71914754618cd789aebcd56                     18570   \n",
              "...                                  ...                       ...   \n",
              "103881  b6027ac07fb76ebca8c97b1887865aee                     12954   \n",
              "103882  53b30ca78efb2b7efcd3f9e461587eb2                     30210   \n",
              "103883  d3c7da954a324253814096bcaf240e4e                      1519   \n",
              "103884  b84dc68f02f122a88d7e7bbd37b06204                     22733   \n",
              "103885  b1f51a4e19da3338e51fbcfabefad1bf                     23059   \n",
              "\n",
              "         customer_city customer_state  \n",
              "0        teofilo otoni             MG  \n",
              "1            sao paulo             SP  \n",
              "2            sao paulo             SP  \n",
              "3         juiz de fora             MG  \n",
              "4              conchas             SP  \n",
              "...                ...            ...  \n",
              "103881         atibaia             SP  \n",
              "103882  belo horizonte             MG  \n",
              "103883       sao paulo             SP  \n",
              "103884  rio de janeiro             RJ  \n",
              "103885  rio de janeiro             RJ  \n",
              "\n",
              "[99440 rows x 13 columns]"
            ]
          },
          "execution_count": 16,
          "metadata": {},
          "output_type": "execute_result"
        }
      ],
      "source": [
        "Final_Dataset_Dup = Final_Dataset.copy()\n",
        "Final_Dataset_Dup.drop_duplicates(['order_id'],inplace=True)\n",
        "Final_Dataset_Dup"
      ]
    },
    {
      "cell_type": "code",
      "execution_count": 17,
      "metadata": {
        "id": "_5hIDK0w8VJ-"
      },
      "outputs": [],
      "source": [
        "Final_Dataset = Final_Dataset_Dup.copy()"
      ]
    },
    {
      "cell_type": "markdown",
      "metadata": {
        "id": "PP9zvpbV3njO"
      },
      "source": [
        "##Handling Missing Values"
      ]
    },
    {
      "cell_type": "code",
      "execution_count": 18,
      "metadata": {
        "id": "gulvKtYW0wfo"
      },
      "outputs": [],
      "source": [
        "Final_Dataset_drop = Final_Dataset.copy()"
      ]
    },
    {
      "cell_type": "markdown",
      "metadata": {
        "id": "A2jafnAH0xAD"
      },
      "source": [
        "Check unique value of order_status"
      ]
    },
    {
      "cell_type": "code",
      "execution_count": 19,
      "metadata": {
        "colab": {
          "base_uri": "https://localhost:8080/"
        },
        "id": "tGQZAnbb1T3n",
        "outputId": "37148270-b0ca-4f20-8ae2-a3f88b537b37"
      },
      "outputs": [
        {
          "data": {
            "text/plain": [
              "array(['delivered', 'canceled', 'invoiced', 'shipped', 'processing',\n",
              "       'unavailable', 'approved', 'created'], dtype=object)"
            ]
          },
          "execution_count": 19,
          "metadata": {},
          "output_type": "execute_result"
        }
      ],
      "source": [
        "Final_Dataset_drop['order_status'].unique()"
      ]
    },
    {
      "cell_type": "markdown",
      "metadata": {
        "id": "fSbig-uH3nmU"
      },
      "source": [
        "We only want to take the order thas has already delivered"
      ]
    },
    {
      "cell_type": "code",
      "execution_count": 20,
      "metadata": {
        "colab": {
          "base_uri": "https://localhost:8080/"
        },
        "id": "yPln9qsV1EOO",
        "outputId": "c4f6a7d5-e373-4e1d-fc15-fadce39a3b5d"
      },
      "outputs": [
        {
          "data": {
            "text/plain": [
              "array(['delivered'], dtype=object)"
            ]
          },
          "execution_count": 20,
          "metadata": {},
          "output_type": "execute_result"
        }
      ],
      "source": [
        "Final_Dataset_drop = Final_Dataset_drop.loc[(Final_Dataset_drop['order_status']== 'delivered')]\n",
        "Final_Dataset_drop['order_status'].unique()"
      ]
    },
    {
      "cell_type": "code",
      "execution_count": 21,
      "metadata": {
        "colab": {
          "base_uri": "https://localhost:8080/"
        },
        "id": "jeMpdDe2wDuW",
        "outputId": "a8bd1aeb-8e07-4ae2-854e-bc4db405fffa"
      },
      "outputs": [
        {
          "data": {
            "text/plain": [
              "order_id                      0\n",
              "payment_sequential            0\n",
              "payment_type                  0\n",
              "payment_installments          0\n",
              "payment_value                 0\n",
              "customer_id                   0\n",
              "order_status                  0\n",
              "order_purchase_timestamp      0\n",
              "order_approved_at           160\n",
              "customer_unique_id            0\n",
              "customer_zip_code_prefix      0\n",
              "customer_city                 0\n",
              "customer_state                0\n",
              "dtype: int64"
            ]
          },
          "execution_count": 21,
          "metadata": {},
          "output_type": "execute_result"
        }
      ],
      "source": [
        "Final_Dataset.isna().sum()"
      ]
    },
    {
      "cell_type": "markdown",
      "metadata": {
        "id": "vXqY6wR-4xzP"
      },
      "source": [
        "Check the row that has order_approved_at null values"
      ]
    },
    {
      "cell_type": "code",
      "execution_count": 22,
      "metadata": {
        "colab": {
          "base_uri": "https://localhost:8080/"
        },
        "id": "eUzdviFY4xT4",
        "outputId": "7d989ac9-6941-416c-9491-a7ffd3909081"
      },
      "outputs": [
        {
          "data": {
            "text/html": [
              "<div>\n",
              "<style scoped>\n",
              "    .dataframe tbody tr th:only-of-type {\n",
              "        vertical-align: middle;\n",
              "    }\n",
              "\n",
              "    .dataframe tbody tr th {\n",
              "        vertical-align: top;\n",
              "    }\n",
              "\n",
              "    .dataframe thead th {\n",
              "        text-align: right;\n",
              "    }\n",
              "</style>\n",
              "<table border=\"1\" class=\"dataframe\">\n",
              "  <thead>\n",
              "    <tr style=\"text-align: right;\">\n",
              "      <th></th>\n",
              "      <th>order_id</th>\n",
              "      <th>payment_sequential</th>\n",
              "      <th>payment_type</th>\n",
              "      <th>payment_installments</th>\n",
              "      <th>payment_value</th>\n",
              "      <th>customer_id</th>\n",
              "      <th>order_status</th>\n",
              "      <th>order_purchase_timestamp</th>\n",
              "      <th>order_approved_at</th>\n",
              "      <th>customer_unique_id</th>\n",
              "      <th>customer_zip_code_prefix</th>\n",
              "      <th>customer_city</th>\n",
              "      <th>customer_state</th>\n",
              "    </tr>\n",
              "  </thead>\n",
              "  <tbody>\n",
              "    <tr>\n",
              "      <th>1430</th>\n",
              "      <td>e04abd8149ef81b95221e88f6ed9ab6a</td>\n",
              "      <td>1</td>\n",
              "      <td>boleto</td>\n",
              "      <td>1</td>\n",
              "      <td>349.01</td>\n",
              "      <td>2127dc6603ac33544953ef05ec155771</td>\n",
              "      <td>delivered</td>\n",
              "      <td>2017-02-18 14:40:00</td>\n",
              "      <td>NaN</td>\n",
              "      <td>8a9a08c7ca8900a200d83cf838a07e0b</td>\n",
              "      <td>6708</td>\n",
              "      <td>cotia</td>\n",
              "      <td>SP</td>\n",
              "    </tr>\n",
              "    <tr>\n",
              "      <th>28903</th>\n",
              "      <td>c1d4211b3dae76144deccd6c74144a88</td>\n",
              "      <td>1</td>\n",
              "      <td>boleto</td>\n",
              "      <td>1</td>\n",
              "      <td>54.51</td>\n",
              "      <td>684cb238dc5b5d6366244e0e0776b450</td>\n",
              "      <td>delivered</td>\n",
              "      <td>2017-01-19 12:48:08</td>\n",
              "      <td>NaN</td>\n",
              "      <td>6ff8b0d7b35d5c945633b8d60165691b</td>\n",
              "      <td>11030</td>\n",
              "      <td>santos</td>\n",
              "      <td>SP</td>\n",
              "    </tr>\n",
              "    <tr>\n",
              "      <th>39345</th>\n",
              "      <td>5cf925b116421afa85ee25e99b4c34fb</td>\n",
              "      <td>1</td>\n",
              "      <td>boleto</td>\n",
              "      <td>1</td>\n",
              "      <td>106.81</td>\n",
              "      <td>29c35fc91fc13fb5073c8f30505d860d</td>\n",
              "      <td>delivered</td>\n",
              "      <td>2017-02-18 16:48:35</td>\n",
              "      <td>NaN</td>\n",
              "      <td>7e1a5ca61b572d76b64b6688b9f96473</td>\n",
              "      <td>62700</td>\n",
              "      <td>caninde</td>\n",
              "      <td>CE</td>\n",
              "    </tr>\n",
              "    <tr>\n",
              "      <th>39368</th>\n",
              "      <td>51eb2eebd5d76a24625b31c33dd41449</td>\n",
              "      <td>1</td>\n",
              "      <td>boleto</td>\n",
              "      <td>1</td>\n",
              "      <td>77.06</td>\n",
              "      <td>07a2a7e0f63fd8cb757ed77d4245623c</td>\n",
              "      <td>delivered</td>\n",
              "      <td>2017-02-18 15:52:27</td>\n",
              "      <td>NaN</td>\n",
              "      <td>79af1bbf230a2630487975aa5d7d6220</td>\n",
              "      <td>37660</td>\n",
              "      <td>paraisopolis</td>\n",
              "      <td>MG</td>\n",
              "    </tr>\n",
              "    <tr>\n",
              "      <th>40373</th>\n",
              "      <td>12a95a3c06dbaec84bcfb0e2da5d228a</td>\n",
              "      <td>1</td>\n",
              "      <td>boleto</td>\n",
              "      <td>1</td>\n",
              "      <td>95.76</td>\n",
              "      <td>1e101e0daffaddce8159d25a8e53f2b2</td>\n",
              "      <td>delivered</td>\n",
              "      <td>2017-02-17 13:05:55</td>\n",
              "      <td>NaN</td>\n",
              "      <td>c8822fce1d0bfa7ddf0da24fff947172</td>\n",
              "      <td>27945</td>\n",
              "      <td>macae</td>\n",
              "      <td>RJ</td>\n",
              "    </tr>\n",
              "    <tr>\n",
              "      <th>41416</th>\n",
              "      <td>3c0b8706b065f9919d0505d3b3343881</td>\n",
              "      <td>1</td>\n",
              "      <td>boleto</td>\n",
              "      <td>1</td>\n",
              "      <td>157.19</td>\n",
              "      <td>d85919cb3c0529589c6fa617f5f43281</td>\n",
              "      <td>delivered</td>\n",
              "      <td>2017-02-17 15:53:27</td>\n",
              "      <td>NaN</td>\n",
              "      <td>c094ac95fcd52f821809ec232a7a6956</td>\n",
              "      <td>95795</td>\n",
              "      <td>sao vendelino</td>\n",
              "      <td>RS</td>\n",
              "    </tr>\n",
              "    <tr>\n",
              "      <th>44659</th>\n",
              "      <td>2eecb0d85f281280f79fa00f9cec1a95</td>\n",
              "      <td>1</td>\n",
              "      <td>boleto</td>\n",
              "      <td>1</td>\n",
              "      <td>154.23</td>\n",
              "      <td>a3d3c38e58b9d2dfb9207cab690b6310</td>\n",
              "      <td>delivered</td>\n",
              "      <td>2017-02-17 17:21:55</td>\n",
              "      <td>NaN</td>\n",
              "      <td>5a4fa4919cbf2b049e72be460a380e5b</td>\n",
              "      <td>35620</td>\n",
              "      <td>abaete</td>\n",
              "      <td>MG</td>\n",
              "    </tr>\n",
              "    <tr>\n",
              "      <th>44706</th>\n",
              "      <td>88083e8f64d95b932164187484d90212</td>\n",
              "      <td>1</td>\n",
              "      <td>boleto</td>\n",
              "      <td>1</td>\n",
              "      <td>127.04</td>\n",
              "      <td>f67cd1a215aae2a1074638bbd35a223a</td>\n",
              "      <td>delivered</td>\n",
              "      <td>2017-02-18 22:49:19</td>\n",
              "      <td>NaN</td>\n",
              "      <td>bc1896dc77f49e6dec880445a9b443a3</td>\n",
              "      <td>21020</td>\n",
              "      <td>rio de janeiro</td>\n",
              "      <td>RJ</td>\n",
              "    </tr>\n",
              "    <tr>\n",
              "      <th>60305</th>\n",
              "      <td>2babbb4b15e6d2dfe95e2de765c97bce</td>\n",
              "      <td>1</td>\n",
              "      <td>boleto</td>\n",
              "      <td>1</td>\n",
              "      <td>106.81</td>\n",
              "      <td>74bebaf46603f9340e3b50c6b086f992</td>\n",
              "      <td>delivered</td>\n",
              "      <td>2017-02-18 17:15:03</td>\n",
              "      <td>NaN</td>\n",
              "      <td>f79be7c08dd24b72d34634f1b89333a4</td>\n",
              "      <td>65110</td>\n",
              "      <td>sao jose de ribamar</td>\n",
              "      <td>MA</td>\n",
              "    </tr>\n",
              "    <tr>\n",
              "      <th>64205</th>\n",
              "      <td>7013bcfc1c97fe719a7b5e05e61c12db</td>\n",
              "      <td>1</td>\n",
              "      <td>boleto</td>\n",
              "      <td>1</td>\n",
              "      <td>65.52</td>\n",
              "      <td>2941af76d38100e0f8740a374f1a5dc3</td>\n",
              "      <td>delivered</td>\n",
              "      <td>2017-02-18 13:29:47</td>\n",
              "      <td>NaN</td>\n",
              "      <td>e1f01a1bd6485e58ad3c769a5427d8a8</td>\n",
              "      <td>8230</td>\n",
              "      <td>sao paulo</td>\n",
              "      <td>SP</td>\n",
              "    </tr>\n",
              "    <tr>\n",
              "      <th>72029</th>\n",
              "      <td>7002a78c79c519ac54022d4f8a65e6e8</td>\n",
              "      <td>1</td>\n",
              "      <td>boleto</td>\n",
              "      <td>1</td>\n",
              "      <td>60.42</td>\n",
              "      <td>d5de688c321096d15508faae67a27051</td>\n",
              "      <td>delivered</td>\n",
              "      <td>2017-01-19 22:26:59</td>\n",
              "      <td>NaN</td>\n",
              "      <td>d49f3dae6bad25d05160fc17aca5942d</td>\n",
              "      <td>36400</td>\n",
              "      <td>conselheiro lafaiete</td>\n",
              "      <td>MG</td>\n",
              "    </tr>\n",
              "    <tr>\n",
              "      <th>72399</th>\n",
              "      <td>d69e5d356402adc8cf17e08b5033acfb</td>\n",
              "      <td>1</td>\n",
              "      <td>boleto</td>\n",
              "      <td>1</td>\n",
              "      <td>163.43</td>\n",
              "      <td>68d081753ad4fe22fc4d410a9eb1ca01</td>\n",
              "      <td>delivered</td>\n",
              "      <td>2017-02-19 1:28:47</td>\n",
              "      <td>NaN</td>\n",
              "      <td>2e0a2166aa23da2472c6a60c4af6f7a6</td>\n",
              "      <td>3573</td>\n",
              "      <td>sao paulo</td>\n",
              "      <td>SP</td>\n",
              "    </tr>\n",
              "    <tr>\n",
              "      <th>80937</th>\n",
              "      <td>8a9adc69528e1001fc68dd0aaebbb54a</td>\n",
              "      <td>1</td>\n",
              "      <td>boleto</td>\n",
              "      <td>1</td>\n",
              "      <td>396.86</td>\n",
              "      <td>4c1ccc74e00993733742a3c786dc3c1f</td>\n",
              "      <td>delivered</td>\n",
              "      <td>2017-02-18 12:45:31</td>\n",
              "      <td>NaN</td>\n",
              "      <td>91efb7fcabc17925099dced52435837f</td>\n",
              "      <td>93548</td>\n",
              "      <td>novo hamburgo</td>\n",
              "      <td>RS</td>\n",
              "    </tr>\n",
              "    <tr>\n",
              "      <th>103020</th>\n",
              "      <td>d77031d6a3c8a52f019764e68f211c69</td>\n",
              "      <td>1</td>\n",
              "      <td>boleto</td>\n",
              "      <td>1</td>\n",
              "      <td>39.95</td>\n",
              "      <td>0bf35cac6cc7327065da879e2d90fae8</td>\n",
              "      <td>delivered</td>\n",
              "      <td>2017-02-18 11:04:19</td>\n",
              "      <td>NaN</td>\n",
              "      <td>c4c0011e639bdbcf26059ddc38bd3c18</td>\n",
              "      <td>13225</td>\n",
              "      <td>varzea paulista</td>\n",
              "      <td>SP</td>\n",
              "    </tr>\n",
              "  </tbody>\n",
              "</table>\n",
              "</div>"
            ],
            "text/plain": [
              "                                order_id  payment_sequential payment_type  \\\n",
              "1430    e04abd8149ef81b95221e88f6ed9ab6a                   1       boleto   \n",
              "28903   c1d4211b3dae76144deccd6c74144a88                   1       boleto   \n",
              "39345   5cf925b116421afa85ee25e99b4c34fb                   1       boleto   \n",
              "39368   51eb2eebd5d76a24625b31c33dd41449                   1       boleto   \n",
              "40373   12a95a3c06dbaec84bcfb0e2da5d228a                   1       boleto   \n",
              "41416   3c0b8706b065f9919d0505d3b3343881                   1       boleto   \n",
              "44659   2eecb0d85f281280f79fa00f9cec1a95                   1       boleto   \n",
              "44706   88083e8f64d95b932164187484d90212                   1       boleto   \n",
              "60305   2babbb4b15e6d2dfe95e2de765c97bce                   1       boleto   \n",
              "64205   7013bcfc1c97fe719a7b5e05e61c12db                   1       boleto   \n",
              "72029   7002a78c79c519ac54022d4f8a65e6e8                   1       boleto   \n",
              "72399   d69e5d356402adc8cf17e08b5033acfb                   1       boleto   \n",
              "80937   8a9adc69528e1001fc68dd0aaebbb54a                   1       boleto   \n",
              "103020  d77031d6a3c8a52f019764e68f211c69                   1       boleto   \n",
              "\n",
              "        payment_installments  payment_value                       customer_id  \\\n",
              "1430                       1         349.01  2127dc6603ac33544953ef05ec155771   \n",
              "28903                      1          54.51  684cb238dc5b5d6366244e0e0776b450   \n",
              "39345                      1         106.81  29c35fc91fc13fb5073c8f30505d860d   \n",
              "39368                      1          77.06  07a2a7e0f63fd8cb757ed77d4245623c   \n",
              "40373                      1          95.76  1e101e0daffaddce8159d25a8e53f2b2   \n",
              "41416                      1         157.19  d85919cb3c0529589c6fa617f5f43281   \n",
              "44659                      1         154.23  a3d3c38e58b9d2dfb9207cab690b6310   \n",
              "44706                      1         127.04  f67cd1a215aae2a1074638bbd35a223a   \n",
              "60305                      1         106.81  74bebaf46603f9340e3b50c6b086f992   \n",
              "64205                      1          65.52  2941af76d38100e0f8740a374f1a5dc3   \n",
              "72029                      1          60.42  d5de688c321096d15508faae67a27051   \n",
              "72399                      1         163.43  68d081753ad4fe22fc4d410a9eb1ca01   \n",
              "80937                      1         396.86  4c1ccc74e00993733742a3c786dc3c1f   \n",
              "103020                     1          39.95  0bf35cac6cc7327065da879e2d90fae8   \n",
              "\n",
              "       order_status order_purchase_timestamp order_approved_at  \\\n",
              "1430      delivered      2017-02-18 14:40:00               NaN   \n",
              "28903     delivered      2017-01-19 12:48:08               NaN   \n",
              "39345     delivered      2017-02-18 16:48:35               NaN   \n",
              "39368     delivered      2017-02-18 15:52:27               NaN   \n",
              "40373     delivered      2017-02-17 13:05:55               NaN   \n",
              "41416     delivered      2017-02-17 15:53:27               NaN   \n",
              "44659     delivered      2017-02-17 17:21:55               NaN   \n",
              "44706     delivered      2017-02-18 22:49:19               NaN   \n",
              "60305     delivered      2017-02-18 17:15:03               NaN   \n",
              "64205     delivered      2017-02-18 13:29:47               NaN   \n",
              "72029     delivered      2017-01-19 22:26:59               NaN   \n",
              "72399     delivered       2017-02-19 1:28:47               NaN   \n",
              "80937     delivered      2017-02-18 12:45:31               NaN   \n",
              "103020    delivered      2017-02-18 11:04:19               NaN   \n",
              "\n",
              "                      customer_unique_id  customer_zip_code_prefix  \\\n",
              "1430    8a9a08c7ca8900a200d83cf838a07e0b                      6708   \n",
              "28903   6ff8b0d7b35d5c945633b8d60165691b                     11030   \n",
              "39345   7e1a5ca61b572d76b64b6688b9f96473                     62700   \n",
              "39368   79af1bbf230a2630487975aa5d7d6220                     37660   \n",
              "40373   c8822fce1d0bfa7ddf0da24fff947172                     27945   \n",
              "41416   c094ac95fcd52f821809ec232a7a6956                     95795   \n",
              "44659   5a4fa4919cbf2b049e72be460a380e5b                     35620   \n",
              "44706   bc1896dc77f49e6dec880445a9b443a3                     21020   \n",
              "60305   f79be7c08dd24b72d34634f1b89333a4                     65110   \n",
              "64205   e1f01a1bd6485e58ad3c769a5427d8a8                      8230   \n",
              "72029   d49f3dae6bad25d05160fc17aca5942d                     36400   \n",
              "72399   2e0a2166aa23da2472c6a60c4af6f7a6                      3573   \n",
              "80937   91efb7fcabc17925099dced52435837f                     93548   \n",
              "103020  c4c0011e639bdbcf26059ddc38bd3c18                     13225   \n",
              "\n",
              "               customer_city customer_state  \n",
              "1430                   cotia             SP  \n",
              "28903                 santos             SP  \n",
              "39345                caninde             CE  \n",
              "39368           paraisopolis             MG  \n",
              "40373                  macae             RJ  \n",
              "41416          sao vendelino             RS  \n",
              "44659                 abaete             MG  \n",
              "44706         rio de janeiro             RJ  \n",
              "60305    sao jose de ribamar             MA  \n",
              "64205              sao paulo             SP  \n",
              "72029   conselheiro lafaiete             MG  \n",
              "72399              sao paulo             SP  \n",
              "80937          novo hamburgo             RS  \n",
              "103020       varzea paulista             SP  "
            ]
          },
          "execution_count": 22,
          "metadata": {},
          "output_type": "execute_result"
        }
      ],
      "source": [
        "Final_Dataset_drop[Final_Dataset_drop['order_approved_at'].isnull()]"
      ]
    },
    {
      "cell_type": "markdown",
      "metadata": {
        "id": "vMJ7GfFq6uFL"
      },
      "source": [
        "We drop null values order_approved_at"
      ]
    },
    {
      "cell_type": "code",
      "execution_count": 23,
      "metadata": {
        "colab": {
          "base_uri": "https://localhost:8080/"
        },
        "id": "BgutrwHg66Sl",
        "outputId": "fcf2a150-799b-449c-9fff-9dd97e9bc1a3"
      },
      "outputs": [
        {
          "data": {
            "text/html": [
              "<div>\n",
              "<style scoped>\n",
              "    .dataframe tbody tr th:only-of-type {\n",
              "        vertical-align: middle;\n",
              "    }\n",
              "\n",
              "    .dataframe tbody tr th {\n",
              "        vertical-align: top;\n",
              "    }\n",
              "\n",
              "    .dataframe thead th {\n",
              "        text-align: right;\n",
              "    }\n",
              "</style>\n",
              "<table border=\"1\" class=\"dataframe\">\n",
              "  <thead>\n",
              "    <tr style=\"text-align: right;\">\n",
              "      <th></th>\n",
              "      <th>order_id</th>\n",
              "      <th>payment_sequential</th>\n",
              "      <th>payment_type</th>\n",
              "      <th>payment_installments</th>\n",
              "      <th>payment_value</th>\n",
              "      <th>customer_id</th>\n",
              "      <th>order_status</th>\n",
              "      <th>order_purchase_timestamp</th>\n",
              "      <th>order_approved_at</th>\n",
              "      <th>customer_unique_id</th>\n",
              "      <th>customer_zip_code_prefix</th>\n",
              "      <th>customer_city</th>\n",
              "      <th>customer_state</th>\n",
              "    </tr>\n",
              "  </thead>\n",
              "  <tbody>\n",
              "    <tr>\n",
              "      <th>0</th>\n",
              "      <td>b81ef226f3fe1789b1e8b2acac839d17</td>\n",
              "      <td>1</td>\n",
              "      <td>credit_card</td>\n",
              "      <td>8</td>\n",
              "      <td>99.33</td>\n",
              "      <td>0a8556ac6be836b46b3e89920d59291c</td>\n",
              "      <td>delivered</td>\n",
              "      <td>2018-04-25 22:01:49</td>\n",
              "      <td>2018-04-25 22:15:09</td>\n",
              "      <td>708ab75d2a007f0564aedd11139c7708</td>\n",
              "      <td>39801</td>\n",
              "      <td>teofilo otoni</td>\n",
              "      <td>MG</td>\n",
              "    </tr>\n",
              "    <tr>\n",
              "      <th>1</th>\n",
              "      <td>a9810da82917af2d9aefd1278f1dcfa0</td>\n",
              "      <td>1</td>\n",
              "      <td>credit_card</td>\n",
              "      <td>1</td>\n",
              "      <td>24.39</td>\n",
              "      <td>f2c7fc58a9de810828715166c672f10a</td>\n",
              "      <td>delivered</td>\n",
              "      <td>2018-06-26 11:01:38</td>\n",
              "      <td>2018-06-26 11:18:58</td>\n",
              "      <td>a8b9d3a27068454b1c98cc67d4e31e6f</td>\n",
              "      <td>2422</td>\n",
              "      <td>sao paulo</td>\n",
              "      <td>SP</td>\n",
              "    </tr>\n",
              "    <tr>\n",
              "      <th>2</th>\n",
              "      <td>25e8ea4e93396b6fa0d3dd708e76c1bd</td>\n",
              "      <td>1</td>\n",
              "      <td>credit_card</td>\n",
              "      <td>1</td>\n",
              "      <td>65.71</td>\n",
              "      <td>25b14b69de0b6e184ae6fe2755e478f9</td>\n",
              "      <td>delivered</td>\n",
              "      <td>2017-12-12 11:19:55</td>\n",
              "      <td>2017-12-14 9:52:34</td>\n",
              "      <td>6f70c0b2f7552832ba46eb57b1c5651e</td>\n",
              "      <td>2652</td>\n",
              "      <td>sao paulo</td>\n",
              "      <td>SP</td>\n",
              "    </tr>\n",
              "    <tr>\n",
              "      <th>3</th>\n",
              "      <td>ba78997921bbcdc1373bb41e913ab953</td>\n",
              "      <td>1</td>\n",
              "      <td>credit_card</td>\n",
              "      <td>8</td>\n",
              "      <td>107.78</td>\n",
              "      <td>7a5d8efaaa1081f800628c30d2b0728f</td>\n",
              "      <td>delivered</td>\n",
              "      <td>2017-12-06 12:04:06</td>\n",
              "      <td>2017-12-06 12:13:20</td>\n",
              "      <td>87695ed086ebd36f20404c82d20fca87</td>\n",
              "      <td>36060</td>\n",
              "      <td>juiz de fora</td>\n",
              "      <td>MG</td>\n",
              "    </tr>\n",
              "    <tr>\n",
              "      <th>4</th>\n",
              "      <td>42fdf880ba16b47b59251dd489d4441a</td>\n",
              "      <td>1</td>\n",
              "      <td>credit_card</td>\n",
              "      <td>2</td>\n",
              "      <td>128.45</td>\n",
              "      <td>15fd6fb8f8312dbb4674e4518d6fa3b3</td>\n",
              "      <td>delivered</td>\n",
              "      <td>2018-05-21 13:59:17</td>\n",
              "      <td>2018-05-21 16:14:41</td>\n",
              "      <td>4291db0da71914754618cd789aebcd56</td>\n",
              "      <td>18570</td>\n",
              "      <td>conchas</td>\n",
              "      <td>SP</td>\n",
              "    </tr>\n",
              "    <tr>\n",
              "      <th>...</th>\n",
              "      <td>...</td>\n",
              "      <td>...</td>\n",
              "      <td>...</td>\n",
              "      <td>...</td>\n",
              "      <td>...</td>\n",
              "      <td>...</td>\n",
              "      <td>...</td>\n",
              "      <td>...</td>\n",
              "      <td>...</td>\n",
              "      <td>...</td>\n",
              "      <td>...</td>\n",
              "      <td>...</td>\n",
              "      <td>...</td>\n",
              "    </tr>\n",
              "    <tr>\n",
              "      <th>103879</th>\n",
              "      <td>c45067032fd84f4cf408730ff5205568</td>\n",
              "      <td>1</td>\n",
              "      <td>credit_card</td>\n",
              "      <td>2</td>\n",
              "      <td>198.94</td>\n",
              "      <td>0fea3afc6a1510c9db75d349d28af974</td>\n",
              "      <td>delivered</td>\n",
              "      <td>2018-05-16 12:09:45</td>\n",
              "      <td>2018-05-16 12:39:20</td>\n",
              "      <td>13f283df2f4760f22b57830865761d07</td>\n",
              "      <td>85869</td>\n",
              "      <td>foz do iguacu</td>\n",
              "      <td>PR</td>\n",
              "    </tr>\n",
              "    <tr>\n",
              "      <th>103881</th>\n",
              "      <td>0406037ad97740d563a178ecc7a2075c</td>\n",
              "      <td>1</td>\n",
              "      <td>boleto</td>\n",
              "      <td>1</td>\n",
              "      <td>363.31</td>\n",
              "      <td>5d576cb2dfa3bc05612c392a1ee9c654</td>\n",
              "      <td>delivered</td>\n",
              "      <td>2018-03-08 16:57:23</td>\n",
              "      <td>2018-03-10 3:55:25</td>\n",
              "      <td>b6027ac07fb76ebca8c97b1887865aee</td>\n",
              "      <td>12954</td>\n",
              "      <td>atibaia</td>\n",
              "      <td>SP</td>\n",
              "    </tr>\n",
              "    <tr>\n",
              "      <th>103882</th>\n",
              "      <td>7b905861d7c825891d6347454ea7863f</td>\n",
              "      <td>1</td>\n",
              "      <td>credit_card</td>\n",
              "      <td>2</td>\n",
              "      <td>96.80</td>\n",
              "      <td>2079230c765a88530822a34a4cec2aa0</td>\n",
              "      <td>delivered</td>\n",
              "      <td>2017-08-18 9:45:35</td>\n",
              "      <td>2017-08-18 10:04:56</td>\n",
              "      <td>53b30ca78efb2b7efcd3f9e461587eb2</td>\n",
              "      <td>30210</td>\n",
              "      <td>belo horizonte</td>\n",
              "      <td>MG</td>\n",
              "    </tr>\n",
              "    <tr>\n",
              "      <th>103884</th>\n",
              "      <td>b8b61059626efa996a60be9bb9320e10</td>\n",
              "      <td>1</td>\n",
              "      <td>credit_card</td>\n",
              "      <td>5</td>\n",
              "      <td>369.54</td>\n",
              "      <td>5d719b0d300663188169c6560e243f27</td>\n",
              "      <td>delivered</td>\n",
              "      <td>2018-08-07 23:26:13</td>\n",
              "      <td>2018-08-07 23:45:00</td>\n",
              "      <td>b84dc68f02f122a88d7e7bbd37b06204</td>\n",
              "      <td>22733</td>\n",
              "      <td>rio de janeiro</td>\n",
              "      <td>RJ</td>\n",
              "    </tr>\n",
              "    <tr>\n",
              "      <th>103885</th>\n",
              "      <td>28bbae6599b09d39ca406b747b6632b1</td>\n",
              "      <td>1</td>\n",
              "      <td>boleto</td>\n",
              "      <td>1</td>\n",
              "      <td>191.58</td>\n",
              "      <td>4c7f868f43b5cff577b0becb8c8b7860</td>\n",
              "      <td>delivered</td>\n",
              "      <td>2017-12-05 8:18:35</td>\n",
              "      <td>2017-12-06 2:50:09</td>\n",
              "      <td>b1f51a4e19da3338e51fbcfabefad1bf</td>\n",
              "      <td>23059</td>\n",
              "      <td>rio de janeiro</td>\n",
              "      <td>RJ</td>\n",
              "    </tr>\n",
              "  </tbody>\n",
              "</table>\n",
              "<p>96463 rows × 13 columns</p>\n",
              "</div>"
            ],
            "text/plain": [
              "                                order_id  payment_sequential payment_type  \\\n",
              "0       b81ef226f3fe1789b1e8b2acac839d17                   1  credit_card   \n",
              "1       a9810da82917af2d9aefd1278f1dcfa0                   1  credit_card   \n",
              "2       25e8ea4e93396b6fa0d3dd708e76c1bd                   1  credit_card   \n",
              "3       ba78997921bbcdc1373bb41e913ab953                   1  credit_card   \n",
              "4       42fdf880ba16b47b59251dd489d4441a                   1  credit_card   \n",
              "...                                  ...                 ...          ...   \n",
              "103879  c45067032fd84f4cf408730ff5205568                   1  credit_card   \n",
              "103881  0406037ad97740d563a178ecc7a2075c                   1       boleto   \n",
              "103882  7b905861d7c825891d6347454ea7863f                   1  credit_card   \n",
              "103884  b8b61059626efa996a60be9bb9320e10                   1  credit_card   \n",
              "103885  28bbae6599b09d39ca406b747b6632b1                   1       boleto   \n",
              "\n",
              "        payment_installments  payment_value                       customer_id  \\\n",
              "0                          8          99.33  0a8556ac6be836b46b3e89920d59291c   \n",
              "1                          1          24.39  f2c7fc58a9de810828715166c672f10a   \n",
              "2                          1          65.71  25b14b69de0b6e184ae6fe2755e478f9   \n",
              "3                          8         107.78  7a5d8efaaa1081f800628c30d2b0728f   \n",
              "4                          2         128.45  15fd6fb8f8312dbb4674e4518d6fa3b3   \n",
              "...                      ...            ...                               ...   \n",
              "103879                     2         198.94  0fea3afc6a1510c9db75d349d28af974   \n",
              "103881                     1         363.31  5d576cb2dfa3bc05612c392a1ee9c654   \n",
              "103882                     2          96.80  2079230c765a88530822a34a4cec2aa0   \n",
              "103884                     5         369.54  5d719b0d300663188169c6560e243f27   \n",
              "103885                     1         191.58  4c7f868f43b5cff577b0becb8c8b7860   \n",
              "\n",
              "       order_status order_purchase_timestamp    order_approved_at  \\\n",
              "0         delivered      2018-04-25 22:01:49  2018-04-25 22:15:09   \n",
              "1         delivered      2018-06-26 11:01:38  2018-06-26 11:18:58   \n",
              "2         delivered      2017-12-12 11:19:55   2017-12-14 9:52:34   \n",
              "3         delivered      2017-12-06 12:04:06  2017-12-06 12:13:20   \n",
              "4         delivered      2018-05-21 13:59:17  2018-05-21 16:14:41   \n",
              "...             ...                      ...                  ...   \n",
              "103879    delivered      2018-05-16 12:09:45  2018-05-16 12:39:20   \n",
              "103881    delivered      2018-03-08 16:57:23   2018-03-10 3:55:25   \n",
              "103882    delivered       2017-08-18 9:45:35  2017-08-18 10:04:56   \n",
              "103884    delivered      2018-08-07 23:26:13  2018-08-07 23:45:00   \n",
              "103885    delivered       2017-12-05 8:18:35   2017-12-06 2:50:09   \n",
              "\n",
              "                      customer_unique_id  customer_zip_code_prefix  \\\n",
              "0       708ab75d2a007f0564aedd11139c7708                     39801   \n",
              "1       a8b9d3a27068454b1c98cc67d4e31e6f                      2422   \n",
              "2       6f70c0b2f7552832ba46eb57b1c5651e                      2652   \n",
              "3       87695ed086ebd36f20404c82d20fca87                     36060   \n",
              "4       4291db0da71914754618cd789aebcd56                     18570   \n",
              "...                                  ...                       ...   \n",
              "103879  13f283df2f4760f22b57830865761d07                     85869   \n",
              "103881  b6027ac07fb76ebca8c97b1887865aee                     12954   \n",
              "103882  53b30ca78efb2b7efcd3f9e461587eb2                     30210   \n",
              "103884  b84dc68f02f122a88d7e7bbd37b06204                     22733   \n",
              "103885  b1f51a4e19da3338e51fbcfabefad1bf                     23059   \n",
              "\n",
              "         customer_city customer_state  \n",
              "0        teofilo otoni             MG  \n",
              "1            sao paulo             SP  \n",
              "2            sao paulo             SP  \n",
              "3         juiz de fora             MG  \n",
              "4              conchas             SP  \n",
              "...                ...            ...  \n",
              "103879   foz do iguacu             PR  \n",
              "103881         atibaia             SP  \n",
              "103882  belo horizonte             MG  \n",
              "103884  rio de janeiro             RJ  \n",
              "103885  rio de janeiro             RJ  \n",
              "\n",
              "[96463 rows x 13 columns]"
            ]
          },
          "execution_count": 23,
          "metadata": {},
          "output_type": "execute_result"
        }
      ],
      "source": [
        "Final_Dataset_drop.dropna(axis=0, inplace=True)\n",
        "Final_Dataset_drop"
      ]
    },
    {
      "cell_type": "code",
      "execution_count": 24,
      "metadata": {
        "colab": {
          "base_uri": "https://localhost:8080/"
        },
        "id": "QgwzwwLT8AAY",
        "outputId": "7e41039b-91b4-4373-a4e5-b2021a2a839c"
      },
      "outputs": [
        {
          "data": {
            "text/plain": [
              "order_id                    0\n",
              "payment_sequential          0\n",
              "payment_type                0\n",
              "payment_installments        0\n",
              "payment_value               0\n",
              "customer_id                 0\n",
              "order_status                0\n",
              "order_purchase_timestamp    0\n",
              "order_approved_at           0\n",
              "customer_unique_id          0\n",
              "customer_zip_code_prefix    0\n",
              "customer_city               0\n",
              "customer_state              0\n",
              "dtype: int64"
            ]
          },
          "execution_count": 24,
          "metadata": {},
          "output_type": "execute_result"
        }
      ],
      "source": [
        "Final_Dataset_drop.isna().sum()"
      ]
    },
    {
      "cell_type": "code",
      "execution_count": 25,
      "metadata": {
        "id": "7DHaM3bG8Lpx"
      },
      "outputs": [],
      "source": [
        "Final_Dataset = Final_Dataset_drop.copy()"
      ]
    },
    {
      "cell_type": "markdown",
      "metadata": {
        "id": "7RGi9wTE47iY"
      },
      "source": [
        "##Removing Outliers"
      ]
    },
    {
      "cell_type": "code",
      "execution_count": 26,
      "metadata": {
        "id": "yAEYDrUe8bpq"
      },
      "outputs": [],
      "source": [
        "Final_Dataset_out = Final_Dataset.copy()"
      ]
    },
    {
      "cell_type": "code",
      "execution_count": 27,
      "metadata": {
        "colab": {
          "base_uri": "https://localhost:8080/"
        },
        "id": "bJDCIkTn8fSx",
        "outputId": "5ff1be1d-fcc7-49a6-e4f7-fb65002246b7"
      },
      "outputs": [
        {
          "data": {
            "text/html": [
              "<div>\n",
              "<style scoped>\n",
              "    .dataframe tbody tr th:only-of-type {\n",
              "        vertical-align: middle;\n",
              "    }\n",
              "\n",
              "    .dataframe tbody tr th {\n",
              "        vertical-align: top;\n",
              "    }\n",
              "\n",
              "    .dataframe thead th {\n",
              "        text-align: right;\n",
              "    }\n",
              "</style>\n",
              "<table border=\"1\" class=\"dataframe\">\n",
              "  <thead>\n",
              "    <tr style=\"text-align: right;\">\n",
              "      <th></th>\n",
              "      <th>payment_sequential</th>\n",
              "      <th>payment_installments</th>\n",
              "      <th>payment_value</th>\n",
              "      <th>customer_zip_code_prefix</th>\n",
              "    </tr>\n",
              "  </thead>\n",
              "  <tbody>\n",
              "    <tr>\n",
              "      <th>count</th>\n",
              "      <td>96463.000000</td>\n",
              "      <td>96463.000000</td>\n",
              "      <td>96463.000000</td>\n",
              "      <td>96463.000000</td>\n",
              "    </tr>\n",
              "    <tr>\n",
              "      <th>mean</th>\n",
              "      <td>1.022610</td>\n",
              "      <td>2.913469</td>\n",
              "      <td>157.231870</td>\n",
              "      <td>35198.131543</td>\n",
              "    </tr>\n",
              "    <tr>\n",
              "      <th>std</th>\n",
              "      <td>0.236113</td>\n",
              "      <td>2.707080</td>\n",
              "      <td>216.471677</td>\n",
              "      <td>29839.763885</td>\n",
              "    </tr>\n",
              "    <tr>\n",
              "      <th>min</th>\n",
              "      <td>1.000000</td>\n",
              "      <td>0.000000</td>\n",
              "      <td>0.010000</td>\n",
              "      <td>1003.000000</td>\n",
              "    </tr>\n",
              "    <tr>\n",
              "      <th>25%</th>\n",
              "      <td>1.000000</td>\n",
              "      <td>1.000000</td>\n",
              "      <td>60.000000</td>\n",
              "      <td>11355.000000</td>\n",
              "    </tr>\n",
              "    <tr>\n",
              "      <th>50%</th>\n",
              "      <td>1.000000</td>\n",
              "      <td>2.000000</td>\n",
              "      <td>103.140000</td>\n",
              "      <td>24435.000000</td>\n",
              "    </tr>\n",
              "    <tr>\n",
              "      <th>75%</th>\n",
              "      <td>1.000000</td>\n",
              "      <td>4.000000</td>\n",
              "      <td>174.610000</td>\n",
              "      <td>59056.000000</td>\n",
              "    </tr>\n",
              "    <tr>\n",
              "      <th>max</th>\n",
              "      <td>19.000000</td>\n",
              "      <td>24.000000</td>\n",
              "      <td>13664.080000</td>\n",
              "      <td>99980.000000</td>\n",
              "    </tr>\n",
              "  </tbody>\n",
              "</table>\n",
              "</div>"
            ],
            "text/plain": [
              "       payment_sequential  payment_installments  payment_value  \\\n",
              "count        96463.000000          96463.000000   96463.000000   \n",
              "mean             1.022610              2.913469     157.231870   \n",
              "std              0.236113              2.707080     216.471677   \n",
              "min              1.000000              0.000000       0.010000   \n",
              "25%              1.000000              1.000000      60.000000   \n",
              "50%              1.000000              2.000000     103.140000   \n",
              "75%              1.000000              4.000000     174.610000   \n",
              "max             19.000000             24.000000   13664.080000   \n",
              "\n",
              "       customer_zip_code_prefix  \n",
              "count              96463.000000  \n",
              "mean               35198.131543  \n",
              "std                29839.763885  \n",
              "min                 1003.000000  \n",
              "25%                11355.000000  \n",
              "50%                24435.000000  \n",
              "75%                59056.000000  \n",
              "max                99980.000000  "
            ]
          },
          "execution_count": 27,
          "metadata": {},
          "output_type": "execute_result"
        }
      ],
      "source": [
        "Final_Dataset_out.describe()"
      ]
    },
    {
      "cell_type": "markdown",
      "metadata": {
        "id": "qN-LWm9h8kIj"
      },
      "source": [
        "We want to remove outlier from colomn payment_value"
      ]
    },
    {
      "cell_type": "code",
      "execution_count": 28,
      "metadata": {
        "colab": {
          "base_uri": "https://localhost:8080/"
        },
        "id": "mXUs59dv8weh",
        "outputId": "bea28a02-ce46-4c49-c49e-df9fc5766bf6"
      },
      "outputs": [
        {
          "name": "stdout",
          "output_type": "stream",
          "text": [
            "<class 'pandas.core.frame.DataFrame'>\n",
            "Int64Index: 96463 entries, 0 to 103885\n",
            "Data columns (total 13 columns):\n",
            " #   Column                    Non-Null Count  Dtype  \n",
            "---  ------                    --------------  -----  \n",
            " 0   order_id                  96463 non-null  object \n",
            " 1   payment_sequential        96463 non-null  int64  \n",
            " 2   payment_type              96463 non-null  object \n",
            " 3   payment_installments      96463 non-null  int64  \n",
            " 4   payment_value             96463 non-null  float64\n",
            " 5   customer_id               96463 non-null  object \n",
            " 6   order_status              96463 non-null  object \n",
            " 7   order_purchase_timestamp  96463 non-null  object \n",
            " 8   order_approved_at         96463 non-null  object \n",
            " 9   customer_unique_id        96463 non-null  object \n",
            " 10  customer_zip_code_prefix  96463 non-null  int64  \n",
            " 11  customer_city             96463 non-null  object \n",
            " 12  customer_state            96463 non-null  object \n",
            "dtypes: float64(1), int64(3), object(9)\n",
            "memory usage: 10.3+ MB\n"
          ]
        }
      ],
      "source": [
        "#Check the type of each colomns\n",
        "Final_Dataset_out.info()"
      ]
    },
    {
      "cell_type": "code",
      "execution_count": 29,
      "metadata": {
        "colab": {
          "base_uri": "https://localhost:8080/"
        },
        "id": "KV_toYPX9L-B",
        "outputId": "225e48bd-0436-4cd2-82c9-d921f29d26cd"
      },
      "outputs": [
        {
          "data": {
            "text/plain": [
              "<AxesSubplot: >"
            ]
          },
          "execution_count": 29,
          "metadata": {},
          "output_type": "execute_result"
        },
        {
          "data": {
            "image/png": "[encoded data removed]",
            "text/plain": [
              "<Figure size 432x288 with 1 Axes>"
            ]
          },
          "metadata": {
            "needs_background": "light"
          },
          "output_type": "display_data"
        }
      ],
      "source": [
        "#Check the boxplot\n",
        "Final_Dataset_out.boxplot(column=['payment_value'],fontsize=10,\n",
        "           rot=0,grid=False,figsize=(10,10),vert=False)"
      ]
    },
    {
      "cell_type": "markdown",
      "metadata": {
        "id": "1sSc9mmf9dtr"
      },
      "source": [
        "Check The parameter first"
      ]
    },
    {
      "cell_type": "code",
      "execution_count": 30,
      "metadata": {
        "colab": {
          "base_uri": "https://localhost:8080/"
        },
        "id": "dgJS5Q0f9dJ0",
        "outputId": "ba685774-652c-4404-d8c7-c876264b1405"
      },
      "outputs": [
        {
          "name": "stdout",
          "output_type": "stream",
          "text": [
            "Q1:\n",
            " 60.0\n",
            "\n",
            "Q3:\n",
            " 174.61\n",
            "\n",
            "IQR:\n",
            " 114.61000000000001\n",
            "\n",
            "Min:\n",
            " -111.91500000000002\n",
            "\n",
            "Max:\n",
            " 346.52500000000003\n"
          ]
        }
      ],
      "source": [
        "Q1 = Final_Dataset_out['payment_value'].quantile(0.25)\n",
        "Q3 = Final_Dataset_out['payment_value'].quantile(0.75)\n",
        "\n",
        "IQR = Q3-Q1\n",
        "boxplot_min = Q1 - 1.5 *IQR\n",
        "boxplot_max = Q3 + 1.5 *IQR\n",
        "print('Q1:\\n',Q1)\n",
        "print('\\nQ3:\\n',Q3)\n",
        "print('\\nIQR:\\n',IQR)\n",
        "print('\\nMin:\\n',boxplot_min)\n",
        "print('\\nMax:\\n',boxplot_max)"
      ]
    },
    {
      "cell_type": "code",
      "execution_count": 31,
      "metadata": {
        "colab": {
          "base_uri": "https://localhost:8080/"
        },
        "id": "XEyEdWtt93Kl",
        "outputId": "dfd1774d-3ef4-456e-bcc7-42a11b4a1ca0"
      },
      "outputs": [
        {
          "data": {
            "text/html": [
              "<div>\n",
              "<style scoped>\n",
              "    .dataframe tbody tr th:only-of-type {\n",
              "        vertical-align: middle;\n",
              "    }\n",
              "\n",
              "    .dataframe tbody tr th {\n",
              "        vertical-align: top;\n",
              "    }\n",
              "\n",
              "    .dataframe thead th {\n",
              "        text-align: right;\n",
              "    }\n",
              "</style>\n",
              "<table border=\"1\" class=\"dataframe\">\n",
              "  <thead>\n",
              "    <tr style=\"text-align: right;\">\n",
              "      <th></th>\n",
              "      <th>order_id</th>\n",
              "      <th>payment_sequential</th>\n",
              "      <th>payment_type</th>\n",
              "      <th>payment_installments</th>\n",
              "      <th>payment_value</th>\n",
              "      <th>customer_id</th>\n",
              "      <th>order_status</th>\n",
              "      <th>order_purchase_timestamp</th>\n",
              "      <th>order_approved_at</th>\n",
              "      <th>customer_unique_id</th>\n",
              "      <th>customer_zip_code_prefix</th>\n",
              "      <th>customer_city</th>\n",
              "      <th>customer_state</th>\n",
              "    </tr>\n",
              "  </thead>\n",
              "  <tbody>\n",
              "    <tr>\n",
              "      <th>0</th>\n",
              "      <td>b81ef226f3fe1789b1e8b2acac839d17</td>\n",
              "      <td>1</td>\n",
              "      <td>credit_card</td>\n",
              "      <td>8</td>\n",
              "      <td>99.33</td>\n",
              "      <td>0a8556ac6be836b46b3e89920d59291c</td>\n",
              "      <td>delivered</td>\n",
              "      <td>2018-04-25 22:01:49</td>\n",
              "      <td>2018-04-25 22:15:09</td>\n",
              "      <td>708ab75d2a007f0564aedd11139c7708</td>\n",
              "      <td>39801</td>\n",
              "      <td>teofilo otoni</td>\n",
              "      <td>MG</td>\n",
              "    </tr>\n",
              "    <tr>\n",
              "      <th>1</th>\n",
              "      <td>a9810da82917af2d9aefd1278f1dcfa0</td>\n",
              "      <td>1</td>\n",
              "      <td>credit_card</td>\n",
              "      <td>1</td>\n",
              "      <td>24.39</td>\n",
              "      <td>f2c7fc58a9de810828715166c672f10a</td>\n",
              "      <td>delivered</td>\n",
              "      <td>2018-06-26 11:01:38</td>\n",
              "      <td>2018-06-26 11:18:58</td>\n",
              "      <td>a8b9d3a27068454b1c98cc67d4e31e6f</td>\n",
              "      <td>2422</td>\n",
              "      <td>sao paulo</td>\n",
              "      <td>SP</td>\n",
              "    </tr>\n",
              "    <tr>\n",
              "      <th>2</th>\n",
              "      <td>25e8ea4e93396b6fa0d3dd708e76c1bd</td>\n",
              "      <td>1</td>\n",
              "      <td>credit_card</td>\n",
              "      <td>1</td>\n",
              "      <td>65.71</td>\n",
              "      <td>25b14b69de0b6e184ae6fe2755e478f9</td>\n",
              "      <td>delivered</td>\n",
              "      <td>2017-12-12 11:19:55</td>\n",
              "      <td>2017-12-14 9:52:34</td>\n",
              "      <td>6f70c0b2f7552832ba46eb57b1c5651e</td>\n",
              "      <td>2652</td>\n",
              "      <td>sao paulo</td>\n",
              "      <td>SP</td>\n",
              "    </tr>\n",
              "    <tr>\n",
              "      <th>3</th>\n",
              "      <td>ba78997921bbcdc1373bb41e913ab953</td>\n",
              "      <td>1</td>\n",
              "      <td>credit_card</td>\n",
              "      <td>8</td>\n",
              "      <td>107.78</td>\n",
              "      <td>7a5d8efaaa1081f800628c30d2b0728f</td>\n",
              "      <td>delivered</td>\n",
              "      <td>2017-12-06 12:04:06</td>\n",
              "      <td>2017-12-06 12:13:20</td>\n",
              "      <td>87695ed086ebd36f20404c82d20fca87</td>\n",
              "      <td>36060</td>\n",
              "      <td>juiz de fora</td>\n",
              "      <td>MG</td>\n",
              "    </tr>\n",
              "    <tr>\n",
              "      <th>4</th>\n",
              "      <td>42fdf880ba16b47b59251dd489d4441a</td>\n",
              "      <td>1</td>\n",
              "      <td>credit_card</td>\n",
              "      <td>2</td>\n",
              "      <td>128.45</td>\n",
              "      <td>15fd6fb8f8312dbb4674e4518d6fa3b3</td>\n",
              "      <td>delivered</td>\n",
              "      <td>2018-05-21 13:59:17</td>\n",
              "      <td>2018-05-21 16:14:41</td>\n",
              "      <td>4291db0da71914754618cd789aebcd56</td>\n",
              "      <td>18570</td>\n",
              "      <td>conchas</td>\n",
              "      <td>SP</td>\n",
              "    </tr>\n",
              "    <tr>\n",
              "      <th>...</th>\n",
              "      <td>...</td>\n",
              "      <td>...</td>\n",
              "      <td>...</td>\n",
              "      <td>...</td>\n",
              "      <td>...</td>\n",
              "      <td>...</td>\n",
              "      <td>...</td>\n",
              "      <td>...</td>\n",
              "      <td>...</td>\n",
              "      <td>...</td>\n",
              "      <td>...</td>\n",
              "      <td>...</td>\n",
              "      <td>...</td>\n",
              "    </tr>\n",
              "    <tr>\n",
              "      <th>103876</th>\n",
              "      <td>0872d0faafe0cb56e6f2c594cca1522c</td>\n",
              "      <td>1</td>\n",
              "      <td>credit_card</td>\n",
              "      <td>2</td>\n",
              "      <td>127.92</td>\n",
              "      <td>dd2f0d64271438f6ad3a75d2a930a4b5</td>\n",
              "      <td>delivered</td>\n",
              "      <td>2017-09-26 12:10:26</td>\n",
              "      <td>2017-09-26 12:28:17</td>\n",
              "      <td>4a57b2a3676de278e26a50b7e60214e6</td>\n",
              "      <td>37200</td>\n",
              "      <td>lavras</td>\n",
              "      <td>MG</td>\n",
              "    </tr>\n",
              "    <tr>\n",
              "      <th>103877</th>\n",
              "      <td>3531718b24dfd5022fb0d101e10e33b9</td>\n",
              "      <td>1</td>\n",
              "      <td>credit_card</td>\n",
              "      <td>1</td>\n",
              "      <td>194.11</td>\n",
              "      <td>5b819ae762ee1d0424f92fd742a8ed7b</td>\n",
              "      <td>delivered</td>\n",
              "      <td>2018-03-06 20:19:31</td>\n",
              "      <td>2018-03-06 20:30:39</td>\n",
              "      <td>18f40b803060d9883643b7e64e91628e</td>\n",
              "      <td>20030</td>\n",
              "      <td>rio de janeiro</td>\n",
              "      <td>RJ</td>\n",
              "    </tr>\n",
              "    <tr>\n",
              "      <th>103879</th>\n",
              "      <td>c45067032fd84f4cf408730ff5205568</td>\n",
              "      <td>1</td>\n",
              "      <td>credit_card</td>\n",
              "      <td>2</td>\n",
              "      <td>198.94</td>\n",
              "      <td>0fea3afc6a1510c9db75d349d28af974</td>\n",
              "      <td>delivered</td>\n",
              "      <td>2018-05-16 12:09:45</td>\n",
              "      <td>2018-05-16 12:39:20</td>\n",
              "      <td>13f283df2f4760f22b57830865761d07</td>\n",
              "      <td>85869</td>\n",
              "      <td>foz do iguacu</td>\n",
              "      <td>PR</td>\n",
              "    </tr>\n",
              "    <tr>\n",
              "      <th>103882</th>\n",
              "      <td>7b905861d7c825891d6347454ea7863f</td>\n",
              "      <td>1</td>\n",
              "      <td>credit_card</td>\n",
              "      <td>2</td>\n",
              "      <td>96.80</td>\n",
              "      <td>2079230c765a88530822a34a4cec2aa0</td>\n",
              "      <td>delivered</td>\n",
              "      <td>2017-08-18 9:45:35</td>\n",
              "      <td>2017-08-18 10:04:56</td>\n",
              "      <td>53b30ca78efb2b7efcd3f9e461587eb2</td>\n",
              "      <td>30210</td>\n",
              "      <td>belo horizonte</td>\n",
              "      <td>MG</td>\n",
              "    </tr>\n",
              "    <tr>\n",
              "      <th>103885</th>\n",
              "      <td>28bbae6599b09d39ca406b747b6632b1</td>\n",
              "      <td>1</td>\n",
              "      <td>boleto</td>\n",
              "      <td>1</td>\n",
              "      <td>191.58</td>\n",
              "      <td>4c7f868f43b5cff577b0becb8c8b7860</td>\n",
              "      <td>delivered</td>\n",
              "      <td>2017-12-05 8:18:35</td>\n",
              "      <td>2017-12-06 2:50:09</td>\n",
              "      <td>b1f51a4e19da3338e51fbcfabefad1bf</td>\n",
              "      <td>23059</td>\n",
              "      <td>rio de janeiro</td>\n",
              "      <td>RJ</td>\n",
              "    </tr>\n",
              "  </tbody>\n",
              "</table>\n",
              "<p>88982 rows × 13 columns</p>\n",
              "</div>"
            ],
            "text/plain": [
              "                                order_id  payment_sequential payment_type  \\\n",
              "0       b81ef226f3fe1789b1e8b2acac839d17                   1  credit_card   \n",
              "1       a9810da82917af2d9aefd1278f1dcfa0                   1  credit_card   \n",
              "2       25e8ea4e93396b6fa0d3dd708e76c1bd                   1  credit_card   \n",
              "3       ba78997921bbcdc1373bb41e913ab953                   1  credit_card   \n",
              "4       42fdf880ba16b47b59251dd489d4441a                   1  credit_card   \n",
              "...                                  ...                 ...          ...   \n",
              "103876  0872d0faafe0cb56e6f2c594cca1522c                   1  credit_card   \n",
              "103877  3531718b24dfd5022fb0d101e10e33b9                   1  credit_card   \n",
              "103879  c45067032fd84f4cf408730ff5205568                   1  credit_card   \n",
              "103882  7b905861d7c825891d6347454ea7863f                   1  credit_card   \n",
              "103885  28bbae6599b09d39ca406b747b6632b1                   1       boleto   \n",
              "\n",
              "        payment_installments  payment_value                       customer_id  \\\n",
              "0                          8          99.33  0a8556ac6be836b46b3e89920d59291c   \n",
              "1                          1          24.39  f2c7fc58a9de810828715166c672f10a   \n",
              "2                          1          65.71  25b14b69de0b6e184ae6fe2755e478f9   \n",
              "3                          8         107.78  7a5d8efaaa1081f800628c30d2b0728f   \n",
              "4                          2         128.45  15fd6fb8f8312dbb4674e4518d6fa3b3   \n",
              "...                      ...            ...                               ...   \n",
              "103876                     2         127.92  dd2f0d64271438f6ad3a75d2a930a4b5   \n",
              "103877                     1         194.11  5b819ae762ee1d0424f92fd742a8ed7b   \n",
              "103879                     2         198.94  0fea3afc6a1510c9db75d349d28af974   \n",
              "103882                     2          96.80  2079230c765a88530822a34a4cec2aa0   \n",
              "103885                     1         191.58  4c7f868f43b5cff577b0becb8c8b7860   \n",
              "\n",
              "       order_status order_purchase_timestamp    order_approved_at  \\\n",
              "0         delivered      2018-04-25 22:01:49  2018-04-25 22:15:09   \n",
              "1         delivered      2018-06-26 11:01:38  2018-06-26 11:18:58   \n",
              "2         delivered      2017-12-12 11:19:55   2017-12-14 9:52:34   \n",
              "3         delivered      2017-12-06 12:04:06  2017-12-06 12:13:20   \n",
              "4         delivered      2018-05-21 13:59:17  2018-05-21 16:14:41   \n",
              "...             ...                      ...                  ...   \n",
              "103876    delivered      2017-09-26 12:10:26  2017-09-26 12:28:17   \n",
              "103877    delivered      2018-03-06 20:19:31  2018-03-06 20:30:39   \n",
              "103879    delivered      2018-05-16 12:09:45  2018-05-16 12:39:20   \n",
              "103882    delivered       2017-08-18 9:45:35  2017-08-18 10:04:56   \n",
              "103885    delivered       2017-12-05 8:18:35   2017-12-06 2:50:09   \n",
              "\n",
              "                      customer_unique_id  customer_zip_code_prefix  \\\n",
              "0       708ab75d2a007f0564aedd11139c7708                     39801   \n",
              "1       a8b9d3a27068454b1c98cc67d4e31e6f                      2422   \n",
              "2       6f70c0b2f7552832ba46eb57b1c5651e                      2652   \n",
              "3       87695ed086ebd36f20404c82d20fca87                     36060   \n",
              "4       4291db0da71914754618cd789aebcd56                     18570   \n",
              "...                                  ...                       ...   \n",
              "103876  4a57b2a3676de278e26a50b7e60214e6                     37200   \n",
              "103877  18f40b803060d9883643b7e64e91628e                     20030   \n",
              "103879  13f283df2f4760f22b57830865761d07                     85869   \n",
              "103882  53b30ca78efb2b7efcd3f9e461587eb2                     30210   \n",
              "103885  b1f51a4e19da3338e51fbcfabefad1bf                     23059   \n",
              "\n",
              "         customer_city customer_state  \n",
              "0        teofilo otoni             MG  \n",
              "1            sao paulo             SP  \n",
              "2            sao paulo             SP  \n",
              "3         juiz de fora             MG  \n",
              "4              conchas             SP  \n",
              "...                ...            ...  \n",
              "103876          lavras             MG  \n",
              "103877  rio de janeiro             RJ  \n",
              "103879   foz do iguacu             PR  \n",
              "103882  belo horizonte             MG  \n",
              "103885  rio de janeiro             RJ  \n",
              "\n",
              "[88982 rows x 13 columns]"
            ]
          },
          "execution_count": 31,
          "metadata": {},
          "output_type": "execute_result"
        }
      ],
      "source": [
        "filter_price_min = Final_Dataset_out['payment_value']>boxplot_min\n",
        "filter_price_max = Final_Dataset_out['payment_value']<boxplot_max\n",
        "\n",
        "Final_Dataset_non_out = Final_Dataset_out[(filter_price_min) & (filter_price_max)]\n",
        "Final_Dataset_non_out"
      ]
    },
    {
      "cell_type": "code",
      "execution_count": 32,
      "metadata": {
        "colab": {
          "base_uri": "https://localhost:8080/"
        },
        "id": "6xdrC4fd-RYc",
        "outputId": "afa96584-cfd9-41cc-9694-5bcf3b0a1fe6"
      },
      "outputs": [
        {
          "data": {
            "text/plain": [
              "<AxesSubplot: >"
            ]
          },
          "execution_count": 32,
          "metadata": {},
          "output_type": "execute_result"
        },
        {
          "data": {
            "image/png": "[encoded data removed]",
            "text/plain": [
              "<Figure size 1000x1000 with 1 Axes>"
            ]
          },
          "metadata": {},
          "output_type": "display_data"
        }
      ],
      "source": [
        "#Check the boxplot\n",
        "Final_Dataset_non_out.boxplot(column=['payment_value'],fontsize=10,\n",
        "           rot=0,grid=False,figsize=(10,10),vert=False)"
      ]
    },
    {
      "cell_type": "code",
      "execution_count": 33,
      "metadata": {
        "colab": {
          "base_uri": "https://localhost:8080/"
        },
        "id": "jMdADMG--VUv",
        "outputId": "b2ad0977-effe-4ca6-f40d-010d2bcefb1d"
      },
      "outputs": [
        {
          "data": {
            "text/html": [
              "<div>\n",
              "<style scoped>\n",
              "    .dataframe tbody tr th:only-of-type {\n",
              "        vertical-align: middle;\n",
              "    }\n",
              "\n",
              "    .dataframe tbody tr th {\n",
              "        vertical-align: top;\n",
              "    }\n",
              "\n",
              "    .dataframe thead th {\n",
              "        text-align: right;\n",
              "    }\n",
              "</style>\n",
              "<table border=\"1\" class=\"dataframe\">\n",
              "  <thead>\n",
              "    <tr style=\"text-align: right;\">\n",
              "      <th></th>\n",
              "      <th>payment_sequential</th>\n",
              "      <th>payment_installments</th>\n",
              "      <th>payment_value</th>\n",
              "      <th>customer_zip_code_prefix</th>\n",
              "    </tr>\n",
              "  </thead>\n",
              "  <tbody>\n",
              "    <tr>\n",
              "      <th>count</th>\n",
              "      <td>88982.000000</td>\n",
              "      <td>88982.000000</td>\n",
              "      <td>88982.000000</td>\n",
              "      <td>88982.000000</td>\n",
              "    </tr>\n",
              "    <tr>\n",
              "      <th>mean</th>\n",
              "      <td>1.024016</td>\n",
              "      <td>2.690443</td>\n",
              "      <td>113.198048</td>\n",
              "      <td>34819.468926</td>\n",
              "    </tr>\n",
              "    <tr>\n",
              "      <th>std</th>\n",
              "      <td>0.244784</td>\n",
              "      <td>2.477886</td>\n",
              "      <td>72.332551</td>\n",
              "      <td>29812.933895</td>\n",
              "    </tr>\n",
              "    <tr>\n",
              "      <th>min</th>\n",
              "      <td>1.000000</td>\n",
              "      <td>0.000000</td>\n",
              "      <td>0.010000</td>\n",
              "      <td>1003.000000</td>\n",
              "    </tr>\n",
              "    <tr>\n",
              "      <th>25%</th>\n",
              "      <td>1.000000</td>\n",
              "      <td>1.000000</td>\n",
              "      <td>57.090000</td>\n",
              "      <td>11055.000000</td>\n",
              "    </tr>\n",
              "    <tr>\n",
              "      <th>50%</th>\n",
              "      <td>1.000000</td>\n",
              "      <td>1.000000</td>\n",
              "      <td>95.340000</td>\n",
              "      <td>24220.000000</td>\n",
              "    </tr>\n",
              "    <tr>\n",
              "      <th>75%</th>\n",
              "      <td>1.000000</td>\n",
              "      <td>4.000000</td>\n",
              "      <td>153.900000</td>\n",
              "      <td>58038.000000</td>\n",
              "    </tr>\n",
              "    <tr>\n",
              "      <th>max</th>\n",
              "      <td>19.000000</td>\n",
              "      <td>24.000000</td>\n",
              "      <td>346.510000</td>\n",
              "      <td>99980.000000</td>\n",
              "    </tr>\n",
              "  </tbody>\n",
              "</table>\n",
              "</div>"
            ],
            "text/plain": [
              "       payment_sequential  payment_installments  payment_value  \\\n",
              "count        88982.000000          88982.000000   88982.000000   \n",
              "mean             1.024016              2.690443     113.198048   \n",
              "std              0.244784              2.477886      72.332551   \n",
              "min              1.000000              0.000000       0.010000   \n",
              "25%              1.000000              1.000000      57.090000   \n",
              "50%              1.000000              1.000000      95.340000   \n",
              "75%              1.000000              4.000000     153.900000   \n",
              "max             19.000000             24.000000     346.510000   \n",
              "\n",
              "       customer_zip_code_prefix  \n",
              "count              88982.000000  \n",
              "mean               34819.468926  \n",
              "std                29812.933895  \n",
              "min                 1003.000000  \n",
              "25%                11055.000000  \n",
              "50%                24220.000000  \n",
              "75%                58038.000000  \n",
              "max                99980.000000  "
            ]
          },
          "execution_count": 33,
          "metadata": {},
          "output_type": "execute_result"
        }
      ],
      "source": [
        "Final_Dataset_non_out.describe()"
      ]
    },
    {
      "cell_type": "code",
      "execution_count": 34,
      "metadata": {
        "colab": {
          "base_uri": "https://localhost:8080/"
        },
        "id": "YepF1FSR-b2d",
        "outputId": "67eed448-621c-4fcc-9fce-76eb6fc0f69e"
      },
      "outputs": [
        {
          "data": {
            "text/plain": [
              "157.2318695251029"
            ]
          },
          "execution_count": 34,
          "metadata": {},
          "output_type": "execute_result"
        }
      ],
      "source": [
        "Final_Dataset_out['payment_value'].mean()"
      ]
    },
    {
      "cell_type": "code",
      "execution_count": 35,
      "metadata": {
        "colab": {
          "base_uri": "https://localhost:8080/"
        },
        "id": "QesBZwoj-g9t",
        "outputId": "e982900d-bf7c-43c3-f8f6-467610d10ab5"
      },
      "outputs": [
        {
          "data": {
            "text/plain": [
              "113.19804814456859"
            ]
          },
          "execution_count": 35,
          "metadata": {},
          "output_type": "execute_result"
        }
      ],
      "source": [
        "Final_Dataset_non_out['payment_value'].mean()"
      ]
    },
    {
      "cell_type": "code",
      "execution_count": 36,
      "metadata": {
        "id": "Ad1DWPlQ-o_-"
      },
      "outputs": [],
      "source": [
        "Final_Dataset = Final_Dataset_non_out.copy()"
      ]
    },
    {
      "cell_type": "markdown",
      "metadata": {
        "id": "-lXR_2y7HYjo"
      },
      "source": [
        "##Converting Datatypes"
      ]
    },
    {
      "cell_type": "code",
      "execution_count": 37,
      "metadata": {
        "colab": {
          "base_uri": "https://localhost:8080/"
        },
        "id": "Ss5SdxJqHcvW",
        "outputId": "b18b634a-4b2b-499b-c47c-f533cc3516ed"
      },
      "outputs": [
        {
          "name": "stdout",
          "output_type": "stream",
          "text": [
            "<class 'pandas.core.frame.DataFrame'>\n",
            "Int64Index: 88982 entries, 0 to 103885\n",
            "Data columns (total 13 columns):\n",
            " #   Column                    Non-Null Count  Dtype  \n",
            "---  ------                    --------------  -----  \n",
            " 0   order_id                  88982 non-null  object \n",
            " 1   payment_sequential        88982 non-null  int64  \n",
            " 2   payment_type              88982 non-null  object \n",
            " 3   payment_installments      88982 non-null  int64  \n",
            " 4   payment_value             88982 non-null  float64\n",
            " 5   customer_id               88982 non-null  object \n",
            " 6   order_status              88982 non-null  object \n",
            " 7   order_purchase_timestamp  88982 non-null  object \n",
            " 8   order_approved_at         88982 non-null  object \n",
            " 9   customer_unique_id        88982 non-null  object \n",
            " 10  customer_zip_code_prefix  88982 non-null  int64  \n",
            " 11  customer_city             88982 non-null  object \n",
            " 12  customer_state            88982 non-null  object \n",
            "dtypes: float64(1), int64(3), object(9)\n",
            "memory usage: 9.5+ MB\n"
          ]
        }
      ],
      "source": [
        "Final_Dataset.info()"
      ]
    },
    {
      "cell_type": "markdown",
      "metadata": {
        "id": "tIyUEs4-HkkY"
      },
      "source": [
        "We need to convert order_purchase_timestamp and order_approved at to datetime type"
      ]
    },
    {
      "cell_type": "code",
      "execution_count": 38,
      "metadata": {
        "colab": {
          "base_uri": "https://localhost:8080/"
        },
        "id": "vtPljO8tHrtm",
        "outputId": "34b2db6e-0e5a-4a85-b812-3b36ca948519"
      },
      "outputs": [
        {
          "data": {
            "text/plain": [
              "0        2018-04-25 22:01:49\n",
              "1        2018-06-26 11:01:38\n",
              "2        2017-12-12 11:19:55\n",
              "3        2017-12-06 12:04:06\n",
              "4        2018-05-21 13:59:17\n",
              "                 ...        \n",
              "103876   2017-09-26 12:10:26\n",
              "103877   2018-03-06 20:19:31\n",
              "103879   2018-05-16 12:09:45\n",
              "103882   2017-08-18 09:45:35\n",
              "103885   2017-12-05 08:18:35\n",
              "Name: order_purchase_timestamp, Length: 88982, dtype: datetime64[ns]"
            ]
          },
          "execution_count": 38,
          "metadata": {},
          "output_type": "execute_result"
        }
      ],
      "source": [
        "d = pd.to_datetime(Final_Dataset['order_purchase_timestamp'])\n",
        "d"
      ]
    },
    {
      "cell_type": "code",
      "execution_count": 39,
      "metadata": {
        "colab": {
          "base_uri": "https://localhost:8080/"
        },
        "id": "3ZgZCEqRIFhs",
        "outputId": "3f3c06a5-0793-44ea-f5c4-80aa0dda41c2"
      },
      "outputs": [
        {
          "data": {
            "text/plain": [
              "0        2018-04-25 22:15:09\n",
              "1        2018-06-26 11:18:58\n",
              "2        2017-12-14 09:52:34\n",
              "3        2017-12-06 12:13:20\n",
              "4        2018-05-21 16:14:41\n",
              "                 ...        \n",
              "103876   2017-09-26 12:28:17\n",
              "103877   2018-03-06 20:30:39\n",
              "103879   2018-05-16 12:39:20\n",
              "103882   2017-08-18 10:04:56\n",
              "103885   2017-12-06 02:50:09\n",
              "Name: order_approved_at, Length: 88982, dtype: datetime64[ns]"
            ]
          },
          "execution_count": 39,
          "metadata": {},
          "output_type": "execute_result"
        }
      ],
      "source": [
        "h = pd.to_datetime(Final_Dataset['order_approved_at'])\n",
        "h"
      ]
    },
    {
      "cell_type": "code",
      "execution_count": 40,
      "metadata": {
        "id": "jiLGM3PRIQBK"
      },
      "outputs": [],
      "source": [
        "Final_Dataset_convert = Final_Dataset.copy()"
      ]
    },
    {
      "cell_type": "code",
      "execution_count": 41,
      "metadata": {
        "colab": {
          "base_uri": "https://localhost:8080/"
        },
        "id": "At_uKRXRIVOE",
        "outputId": "58b71993-d282-4702-a769-539b13a55fac"
      },
      "outputs": [
        {
          "name": "stdout",
          "output_type": "stream",
          "text": [
            "<class 'pandas.core.frame.DataFrame'>\n",
            "Int64Index: 88982 entries, 0 to 103885\n",
            "Data columns (total 13 columns):\n",
            " #   Column                    Non-Null Count  Dtype         \n",
            "---  ------                    --------------  -----         \n",
            " 0   order_id                  88982 non-null  object        \n",
            " 1   payment_sequential        88982 non-null  int64         \n",
            " 2   payment_type              88982 non-null  object        \n",
            " 3   payment_installments      88982 non-null  int64         \n",
            " 4   payment_value             88982 non-null  float64       \n",
            " 5   customer_id               88982 non-null  object        \n",
            " 6   order_status              88982 non-null  object        \n",
            " 7   order_purchase_timestamp  88982 non-null  datetime64[ns]\n",
            " 8   order_approved_at         88982 non-null  datetime64[ns]\n",
            " 9   customer_unique_id        88982 non-null  object        \n",
            " 10  customer_zip_code_prefix  88982 non-null  int64         \n",
            " 11  customer_city             88982 non-null  object        \n",
            " 12  customer_state            88982 non-null  object        \n",
            "dtypes: datetime64[ns](2), float64(1), int64(3), object(7)\n",
            "memory usage: 9.5+ MB\n"
          ]
        }
      ],
      "source": [
        "Final_Dataset_convert['order_approved_at'] = pd.to_datetime(Final_Dataset_convert['order_approved_at'])\n",
        "Final_Dataset_convert['order_purchase_timestamp'] = pd.to_datetime(Final_Dataset_convert['order_purchase_timestamp'])\n",
        "Final_Dataset_convert.info()"
      ]
    },
    {
      "cell_type": "code",
      "execution_count": 42,
      "metadata": {
        "id": "rWbr2xoR7rHy"
      },
      "outputs": [],
      "source": [
        "Final_Dataset = Final_Dataset_convert.copy()"
      ]
    },
    {
      "cell_type": "markdown",
      "metadata": {
        "id": "3d0vJY5M2X6H"
      },
      "source": [
        "#Recency Frequency Monetary Customer Segmentation"
      ]
    },
    {
      "cell_type": "markdown",
      "metadata": {
        "id": "1n44fKrA2fUL"
      },
      "source": [
        "##Import Libraries"
      ]
    },
    {
      "cell_type": "code",
      "execution_count": 43,
      "metadata": {
        "id": "0VlVY0bA2hea"
      },
      "outputs": [],
      "source": [
        "import numpy as np\n",
        "import pandas as pd\n",
        "\n",
        "\n",
        "import time, warnings\n",
        "import datetime as dt\n",
        "from datetime import datetime\n",
        "\n",
        "#visualizations\n",
        "import matplotlib.pyplot as plt\n",
        "import seaborn as sns"
      ]
    },
    {
      "cell_type": "markdown",
      "metadata": {
        "id": "P3NaIeNp26eW"
      },
      "source": [
        "###Recencies"
      ]
    },
    {
      "cell_type": "code",
      "execution_count": 44,
      "metadata": {
        "colab": {
          "base_uri": "https://localhost:8080/"
        },
        "id": "wCDCCAJw2yux",
        "outputId": "2b4ec424-c1e5-4637-8df6-9c9633cf16a8"
      },
      "outputs": [
        {
          "name": "stdout",
          "output_type": "stream",
          "text": [
            "<class 'pandas.core.frame.DataFrame'>\n",
            "Int64Index: 88982 entries, 0 to 103885\n",
            "Data columns (total 13 columns):\n",
            " #   Column                    Non-Null Count  Dtype         \n",
            "---  ------                    --------------  -----         \n",
            " 0   order_id                  88982 non-null  object        \n",
            " 1   payment_sequential        88982 non-null  int64         \n",
            " 2   payment_type              88982 non-null  object        \n",
            " 3   payment_installments      88982 non-null  int64         \n",
            " 4   payment_value             88982 non-null  float64       \n",
            " 5   customer_id               88982 non-null  object        \n",
            " 6   order_status              88982 non-null  object        \n",
            " 7   order_purchase_timestamp  88982 non-null  datetime64[ns]\n",
            " 8   order_approved_at         88982 non-null  datetime64[ns]\n",
            " 9   customer_unique_id        88982 non-null  object        \n",
            " 10  customer_zip_code_prefix  88982 non-null  int64         \n",
            " 11  customer_city             88982 non-null  object        \n",
            " 12  customer_state            88982 non-null  object        \n",
            "dtypes: datetime64[ns](2), float64(1), int64(3), object(7)\n",
            "memory usage: 9.5+ MB\n"
          ]
        }
      ],
      "source": [
        "Final_Dataset.info()"
      ]
    },
    {
      "cell_type": "code",
      "execution_count": 45,
      "metadata": {
        "colab": {
          "base_uri": "https://localhost:8080/"
        },
        "id": "dN1iH25A4QiJ",
        "outputId": "4bd0369d-f47e-4cf3-c41a-4ecbdc164b67"
      },
      "outputs": [
        {
          "data": {
            "text/plain": [
              "Timestamp('2018-08-29 15:10:26')"
            ]
          },
          "execution_count": 45,
          "metadata": {},
          "output_type": "execute_result"
        }
      ],
      "source": [
        "Final_Dataset['order_approved_at'].max()"
      ]
    },
    {
      "cell_type": "code",
      "execution_count": 46,
      "metadata": {
        "colab": {
          "base_uri": "https://localhost:8080/"
        },
        "id": "rK83LiFe4YzK",
        "outputId": "053df2b5-490a-4a1e-9481-1836d553f9c5"
      },
      "outputs": [
        {
          "data": {
            "text/plain": [
              "datetime.datetime(2023, 1, 24, 22, 54, 54, 636264)"
            ]
          },
          "execution_count": 46,
          "metadata": {},
          "output_type": "execute_result"
        }
      ],
      "source": [
        "now=datetime.now()\n",
        "now"
      ]
    },
    {
      "cell_type": "code",
      "execution_count": 47,
      "metadata": {
        "colab": {
          "base_uri": "https://localhost:8080/"
        },
        "id": "vMQ8BWbL5frK",
        "outputId": "806cbdfa-32da-48d9-aeb6-8439a6e5f78b"
      },
      "outputs": [
        {
          "data": {
            "text/html": [
              "<div>\n",
              "<style scoped>\n",
              "    .dataframe tbody tr th:only-of-type {\n",
              "        vertical-align: middle;\n",
              "    }\n",
              "\n",
              "    .dataframe tbody tr th {\n",
              "        vertical-align: top;\n",
              "    }\n",
              "\n",
              "    .dataframe thead th {\n",
              "        text-align: right;\n",
              "    }\n",
              "</style>\n",
              "<table border=\"1\" class=\"dataframe\">\n",
              "  <thead>\n",
              "    <tr style=\"text-align: right;\">\n",
              "      <th></th>\n",
              "      <th>order_id</th>\n",
              "      <th>payment_sequential</th>\n",
              "      <th>payment_type</th>\n",
              "      <th>payment_installments</th>\n",
              "      <th>payment_value</th>\n",
              "      <th>customer_id</th>\n",
              "      <th>order_status</th>\n",
              "      <th>order_purchase_timestamp</th>\n",
              "      <th>order_approved_at</th>\n",
              "      <th>customer_unique_id</th>\n",
              "      <th>customer_zip_code_prefix</th>\n",
              "      <th>customer_city</th>\n",
              "      <th>customer_state</th>\n",
              "      <th>date</th>\n",
              "    </tr>\n",
              "  </thead>\n",
              "  <tbody>\n",
              "    <tr>\n",
              "      <th>0</th>\n",
              "      <td>b81ef226f3fe1789b1e8b2acac839d17</td>\n",
              "      <td>1</td>\n",
              "      <td>credit_card</td>\n",
              "      <td>8</td>\n",
              "      <td>99.33</td>\n",
              "      <td>0a8556ac6be836b46b3e89920d59291c</td>\n",
              "      <td>delivered</td>\n",
              "      <td>2018-04-25 22:01:49</td>\n",
              "      <td>2018-04-25 22:15:09</td>\n",
              "      <td>708ab75d2a007f0564aedd11139c7708</td>\n",
              "      <td>39801</td>\n",
              "      <td>teofilo otoni</td>\n",
              "      <td>MG</td>\n",
              "      <td>2018-04-25</td>\n",
              "    </tr>\n",
              "    <tr>\n",
              "      <th>1</th>\n",
              "      <td>a9810da82917af2d9aefd1278f1dcfa0</td>\n",
              "      <td>1</td>\n",
              "      <td>credit_card</td>\n",
              "      <td>1</td>\n",
              "      <td>24.39</td>\n",
              "      <td>f2c7fc58a9de810828715166c672f10a</td>\n",
              "      <td>delivered</td>\n",
              "      <td>2018-06-26 11:01:38</td>\n",
              "      <td>2018-06-26 11:18:58</td>\n",
              "      <td>a8b9d3a27068454b1c98cc67d4e31e6f</td>\n",
              "      <td>2422</td>\n",
              "      <td>sao paulo</td>\n",
              "      <td>SP</td>\n",
              "      <td>2018-06-26</td>\n",
              "    </tr>\n",
              "    <tr>\n",
              "      <th>2</th>\n",
              "      <td>25e8ea4e93396b6fa0d3dd708e76c1bd</td>\n",
              "      <td>1</td>\n",
              "      <td>credit_card</td>\n",
              "      <td>1</td>\n",
              "      <td>65.71</td>\n",
              "      <td>25b14b69de0b6e184ae6fe2755e478f9</td>\n",
              "      <td>delivered</td>\n",
              "      <td>2017-12-12 11:19:55</td>\n",
              "      <td>2017-12-14 09:52:34</td>\n",
              "      <td>6f70c0b2f7552832ba46eb57b1c5651e</td>\n",
              "      <td>2652</td>\n",
              "      <td>sao paulo</td>\n",
              "      <td>SP</td>\n",
              "      <td>2017-12-14</td>\n",
              "    </tr>\n",
              "    <tr>\n",
              "      <th>3</th>\n",
              "      <td>ba78997921bbcdc1373bb41e913ab953</td>\n",
              "      <td>1</td>\n",
              "      <td>credit_card</td>\n",
              "      <td>8</td>\n",
              "      <td>107.78</td>\n",
              "      <td>7a5d8efaaa1081f800628c30d2b0728f</td>\n",
              "      <td>delivered</td>\n",
              "      <td>2017-12-06 12:04:06</td>\n",
              "      <td>2017-12-06 12:13:20</td>\n",
              "      <td>87695ed086ebd36f20404c82d20fca87</td>\n",
              "      <td>36060</td>\n",
              "      <td>juiz de fora</td>\n",
              "      <td>MG</td>\n",
              "      <td>2017-12-06</td>\n",
              "    </tr>\n",
              "    <tr>\n",
              "      <th>4</th>\n",
              "      <td>42fdf880ba16b47b59251dd489d4441a</td>\n",
              "      <td>1</td>\n",
              "      <td>credit_card</td>\n",
              "      <td>2</td>\n",
              "      <td>128.45</td>\n",
              "      <td>15fd6fb8f8312dbb4674e4518d6fa3b3</td>\n",
              "      <td>delivered</td>\n",
              "      <td>2018-05-21 13:59:17</td>\n",
              "      <td>2018-05-21 16:14:41</td>\n",
              "      <td>4291db0da71914754618cd789aebcd56</td>\n",
              "      <td>18570</td>\n",
              "      <td>conchas</td>\n",
              "      <td>SP</td>\n",
              "      <td>2018-05-21</td>\n",
              "    </tr>\n",
              "  </tbody>\n",
              "</table>\n",
              "</div>"
            ],
            "text/plain": [
              "                           order_id  payment_sequential payment_type  \\\n",
              "0  b81ef226f3fe1789b1e8b2acac839d17                   1  credit_card   \n",
              "1  a9810da82917af2d9aefd1278f1dcfa0                   1  credit_card   \n",
              "2  25e8ea4e93396b6fa0d3dd708e76c1bd                   1  credit_card   \n",
              "3  ba78997921bbcdc1373bb41e913ab953                   1  credit_card   \n",
              "4  42fdf880ba16b47b59251dd489d4441a                   1  credit_card   \n",
              "\n",
              "   payment_installments  payment_value                       customer_id  \\\n",
              "0                     8          99.33  0a8556ac6be836b46b3e89920d59291c   \n",
              "1                     1          24.39  f2c7fc58a9de810828715166c672f10a   \n",
              "2                     1          65.71  25b14b69de0b6e184ae6fe2755e478f9   \n",
              "3                     8         107.78  7a5d8efaaa1081f800628c30d2b0728f   \n",
              "4                     2         128.45  15fd6fb8f8312dbb4674e4518d6fa3b3   \n",
              "\n",
              "  order_status order_purchase_timestamp   order_approved_at  \\\n",
              "0    delivered      2018-04-25 22:01:49 2018-04-25 22:15:09   \n",
              "1    delivered      2018-06-26 11:01:38 2018-06-26 11:18:58   \n",
              "2    delivered      2017-12-12 11:19:55 2017-12-14 09:52:34   \n",
              "3    delivered      2017-12-06 12:04:06 2017-12-06 12:13:20   \n",
              "4    delivered      2018-05-21 13:59:17 2018-05-21 16:14:41   \n",
              "\n",
              "                 customer_unique_id  customer_zip_code_prefix  customer_city  \\\n",
              "0  708ab75d2a007f0564aedd11139c7708                     39801  teofilo otoni   \n",
              "1  a8b9d3a27068454b1c98cc67d4e31e6f                      2422      sao paulo   \n",
              "2  6f70c0b2f7552832ba46eb57b1c5651e                      2652      sao paulo   \n",
              "3  87695ed086ebd36f20404c82d20fca87                     36060   juiz de fora   \n",
              "4  4291db0da71914754618cd789aebcd56                     18570        conchas   \n",
              "\n",
              "  customer_state        date  \n",
              "0             MG  2018-04-25  \n",
              "1             SP  2018-06-26  \n",
              "2             SP  2017-12-14  \n",
              "3             MG  2017-12-06  \n",
              "4             SP  2018-05-21  "
            ]
          },
          "execution_count": 47,
          "metadata": {},
          "output_type": "execute_result"
        }
      ],
      "source": [
        "Final_Dataset['date'] = pd.DatetimeIndex(Final_Dataset['order_approved_at']).date\n",
        "\n",
        "Final_Dataset.head()"
      ]
    },
    {
      "cell_type": "code",
      "execution_count": 48,
      "metadata": {
        "colab": {
          "base_uri": "https://localhost:8080/"
        },
        "id": "wbDT3vCc566u",
        "outputId": "66c21d17-4e0f-4ba1-b752-3a0e845d15c6"
      },
      "outputs": [
        {
          "data": {
            "text/plain": [
              "['order_id',\n",
              " 'payment_sequential',\n",
              " 'payment_type',\n",
              " 'payment_installments',\n",
              " 'payment_value',\n",
              " 'customer_id',\n",
              " 'order_status',\n",
              " 'order_purchase_timestamp',\n",
              " 'order_approved_at',\n",
              " 'customer_unique_id',\n",
              " 'customer_zip_code_prefix',\n",
              " 'customer_city',\n",
              " 'customer_state',\n",
              " 'date']"
            ]
          },
          "execution_count": 48,
          "metadata": {},
          "output_type": "execute_result"
        }
      ],
      "source": [
        "Final_Dataset.columns.tolist()"
      ]
    },
    {
      "cell_type": "markdown",
      "metadata": {
        "id": "CBx-29hD_iy4"
      },
      "source": [
        "To know last purchase date of each customer"
      ]
    },
    {
      "cell_type": "code",
      "execution_count": 49,
      "metadata": {
        "colab": {
          "base_uri": "https://localhost:8080/"
        },
        "id": "eVncjUyM53V1",
        "outputId": "17d5edc2-15f9-4524-abcb-e1aace3f6393"
      },
      "outputs": [
        {
          "data": {
            "text/html": [
              "<div>\n",
              "<style scoped>\n",
              "    .dataframe tbody tr th:only-of-type {\n",
              "        vertical-align: middle;\n",
              "    }\n",
              "\n",
              "    .dataframe tbody tr th {\n",
              "        vertical-align: top;\n",
              "    }\n",
              "\n",
              "    .dataframe thead th {\n",
              "        text-align: right;\n",
              "    }\n",
              "</style>\n",
              "<table border=\"1\" class=\"dataframe\">\n",
              "  <thead>\n",
              "    <tr style=\"text-align: right;\">\n",
              "      <th></th>\n",
              "      <th>customer_unique_id</th>\n",
              "      <th>LastPurchaseDate</th>\n",
              "    </tr>\n",
              "  </thead>\n",
              "  <tbody>\n",
              "    <tr>\n",
              "      <th>0</th>\n",
              "      <td>0000366f3b9a7992bf8c76cfdf3221e2</td>\n",
              "      <td>2018-05-10</td>\n",
              "    </tr>\n",
              "    <tr>\n",
              "      <th>1</th>\n",
              "      <td>0000b849f77a49e4a4ce2b2a4ca5be3f</td>\n",
              "      <td>2018-05-07</td>\n",
              "    </tr>\n",
              "    <tr>\n",
              "      <th>2</th>\n",
              "      <td>0000f46a3911fa3c0805444483337064</td>\n",
              "      <td>2017-03-10</td>\n",
              "    </tr>\n",
              "    <tr>\n",
              "      <th>3</th>\n",
              "      <td>0000f6ccb0745a6a4b88665a16c9f078</td>\n",
              "      <td>2017-10-12</td>\n",
              "    </tr>\n",
              "    <tr>\n",
              "      <th>4</th>\n",
              "      <td>0004aac84e0df4da2b147fca70cf8255</td>\n",
              "      <td>2017-11-14</td>\n",
              "    </tr>\n",
              "  </tbody>\n",
              "</table>\n",
              "</div>"
            ],
            "text/plain": [
              "                 customer_unique_id LastPurchaseDate\n",
              "0  0000366f3b9a7992bf8c76cfdf3221e2       2018-05-10\n",
              "1  0000b849f77a49e4a4ce2b2a4ca5be3f       2018-05-07\n",
              "2  0000f46a3911fa3c0805444483337064       2017-03-10\n",
              "3  0000f6ccb0745a6a4b88665a16c9f078       2017-10-12\n",
              "4  0004aac84e0df4da2b147fca70cf8255       2017-11-14"
            ]
          },
          "execution_count": 49,
          "metadata": {},
          "output_type": "execute_result"
        }
      ],
      "source": [
        "recency_df = Final_Dataset.groupby('customer_unique_id', as_index=False).date.max()\n",
        "recency_df.columns = ['customer_unique_id', 'LastPurchaseDate']\n",
        "recency_df.head()"
      ]
    },
    {
      "cell_type": "code",
      "execution_count": 50,
      "metadata": {
        "id": "4dIi4-uo7swX"
      },
      "outputs": [],
      "source": [
        "recency_df['LastPurchaseDate'] = pd.to_datetime(recency_df['LastPurchaseDate'])"
      ]
    },
    {
      "cell_type": "markdown",
      "metadata": {
        "id": "Yf_eQZtu_nQr"
      },
      "source": [
        "Calculate the recencies using formula ( Now - Last Purchase Date)"
      ]
    },
    {
      "cell_type": "code",
      "execution_count": 51,
      "metadata": {
        "colab": {
          "base_uri": "https://localhost:8080/"
        },
        "id": "EihCNtEn6L7J",
        "outputId": "74911b16-4afc-47f4-897c-ba4092b03b39"
      },
      "outputs": [
        {
          "data": {
            "text/html": [
              "<div>\n",
              "<style scoped>\n",
              "    .dataframe tbody tr th:only-of-type {\n",
              "        vertical-align: middle;\n",
              "    }\n",
              "\n",
              "    .dataframe tbody tr th {\n",
              "        vertical-align: top;\n",
              "    }\n",
              "\n",
              "    .dataframe thead th {\n",
              "        text-align: right;\n",
              "    }\n",
              "</style>\n",
              "<table border=\"1\" class=\"dataframe\">\n",
              "  <thead>\n",
              "    <tr style=\"text-align: right;\">\n",
              "      <th></th>\n",
              "      <th>customer_unique_id</th>\n",
              "      <th>LastPurchaseDate</th>\n",
              "      <th>Recency</th>\n",
              "    </tr>\n",
              "  </thead>\n",
              "  <tbody>\n",
              "    <tr>\n",
              "      <th>0</th>\n",
              "      <td>0000366f3b9a7992bf8c76cfdf3221e2</td>\n",
              "      <td>2018-05-10</td>\n",
              "      <td>1720</td>\n",
              "    </tr>\n",
              "    <tr>\n",
              "      <th>1</th>\n",
              "      <td>0000b849f77a49e4a4ce2b2a4ca5be3f</td>\n",
              "      <td>2018-05-07</td>\n",
              "      <td>1723</td>\n",
              "    </tr>\n",
              "    <tr>\n",
              "      <th>2</th>\n",
              "      <td>0000f46a3911fa3c0805444483337064</td>\n",
              "      <td>2017-03-10</td>\n",
              "      <td>2146</td>\n",
              "    </tr>\n",
              "    <tr>\n",
              "      <th>3</th>\n",
              "      <td>0000f6ccb0745a6a4b88665a16c9f078</td>\n",
              "      <td>2017-10-12</td>\n",
              "      <td>1930</td>\n",
              "    </tr>\n",
              "    <tr>\n",
              "      <th>4</th>\n",
              "      <td>0004aac84e0df4da2b147fca70cf8255</td>\n",
              "      <td>2017-11-14</td>\n",
              "      <td>1897</td>\n",
              "    </tr>\n",
              "  </tbody>\n",
              "</table>\n",
              "</div>"
            ],
            "text/plain": [
              "                 customer_unique_id LastPurchaseDate  Recency\n",
              "0  0000366f3b9a7992bf8c76cfdf3221e2       2018-05-10     1720\n",
              "1  0000b849f77a49e4a4ce2b2a4ca5be3f       2018-05-07     1723\n",
              "2  0000f46a3911fa3c0805444483337064       2017-03-10     2146\n",
              "3  0000f6ccb0745a6a4b88665a16c9f078       2017-10-12     1930\n",
              "4  0004aac84e0df4da2b147fca70cf8255       2017-11-14     1897"
            ]
          },
          "execution_count": 51,
          "metadata": {},
          "output_type": "execute_result"
        }
      ],
      "source": [
        "recency_df['Recency'] = recency_df.LastPurchaseDate.apply(lambda x: (now-x).days)\n",
        "recency_df.head()"
      ]
    },
    {
      "cell_type": "markdown",
      "metadata": {
        "id": "rzZa5Ns565wJ"
      },
      "source": [
        "###Frequencies"
      ]
    },
    {
      "cell_type": "markdown",
      "metadata": {
        "id": "YNpqnAZd_6nE"
      },
      "source": [
        "We group count how many customer's frequency to buy in our store"
      ]
    },
    {
      "cell_type": "code",
      "execution_count": 52,
      "metadata": {
        "colab": {
          "base_uri": "https://localhost:8080/",
          "height": 206
        },
        "id": "DHpMYhNI65P9",
        "outputId": "0d613c9a-5e42-436a-f4cf-4ec1882356b9"
      },
      "outputs": [
        {
          "data": {
            "text/html": [
              "<div>\n",
              "<style scoped>\n",
              "    .dataframe tbody tr th:only-of-type {\n",
              "        vertical-align: middle;\n",
              "    }\n",
              "\n",
              "    .dataframe tbody tr th {\n",
              "        vertical-align: top;\n",
              "    }\n",
              "\n",
              "    .dataframe thead th {\n",
              "        text-align: right;\n",
              "    }\n",
              "</style>\n",
              "<table border=\"1\" class=\"dataframe\">\n",
              "  <thead>\n",
              "    <tr style=\"text-align: right;\">\n",
              "      <th></th>\n",
              "      <th>customer_unique_id</th>\n",
              "      <th>Frequency</th>\n",
              "    </tr>\n",
              "  </thead>\n",
              "  <tbody>\n",
              "    <tr>\n",
              "      <th>0</th>\n",
              "      <td>0000366f3b9a7992bf8c76cfdf3221e2</td>\n",
              "      <td>1</td>\n",
              "    </tr>\n",
              "    <tr>\n",
              "      <th>1</th>\n",
              "      <td>0000b849f77a49e4a4ce2b2a4ca5be3f</td>\n",
              "      <td>1</td>\n",
              "    </tr>\n",
              "    <tr>\n",
              "      <th>2</th>\n",
              "      <td>0000f46a3911fa3c0805444483337064</td>\n",
              "      <td>1</td>\n",
              "    </tr>\n",
              "    <tr>\n",
              "      <th>3</th>\n",
              "      <td>0000f6ccb0745a6a4b88665a16c9f078</td>\n",
              "      <td>1</td>\n",
              "    </tr>\n",
              "    <tr>\n",
              "      <th>4</th>\n",
              "      <td>0004aac84e0df4da2b147fca70cf8255</td>\n",
              "      <td>1</td>\n",
              "    </tr>\n",
              "  </tbody>\n",
              "</table>\n",
              "</div>"
            ],
            "text/plain": [
              "                 customer_unique_id  Frequency\n",
              "0  0000366f3b9a7992bf8c76cfdf3221e2          1\n",
              "1  0000b849f77a49e4a4ce2b2a4ca5be3f          1\n",
              "2  0000f46a3911fa3c0805444483337064          1\n",
              "3  0000f6ccb0745a6a4b88665a16c9f078          1\n",
              "4  0004aac84e0df4da2b147fca70cf8255          1"
            ]
          },
          "execution_count": 52,
          "metadata": {},
          "output_type": "execute_result"
        }
      ],
      "source": [
        "frequency_df = Final_Dataset.groupby(by=['customer_unique_id'], as_index=False)['order_id'].count()\n",
        "frequency_df.columns = ['customer_unique_id','Frequency']\n",
        "frequency_df.head()"
      ]
    },
    {
      "cell_type": "code",
      "execution_count": 53,
      "metadata": {
        "colab": {
          "base_uri": "https://localhost:8080/",
          "height": 424
        },
        "id": "6lwyefAQgJ6g",
        "outputId": "4b4afc9a-0090-4086-b587-d8a90b081e30"
      },
      "outputs": [
        {
          "data": {
            "text/html": [
              "<div>\n",
              "<style scoped>\n",
              "    .dataframe tbody tr th:only-of-type {\n",
              "        vertical-align: middle;\n",
              "    }\n",
              "\n",
              "    .dataframe tbody tr th {\n",
              "        vertical-align: top;\n",
              "    }\n",
              "\n",
              "    .dataframe thead th {\n",
              "        text-align: right;\n",
              "    }\n",
              "</style>\n",
              "<table border=\"1\" class=\"dataframe\">\n",
              "  <thead>\n",
              "    <tr style=\"text-align: right;\">\n",
              "      <th></th>\n",
              "      <th>customer_unique_id</th>\n",
              "      <th>Frequency</th>\n",
              "    </tr>\n",
              "  </thead>\n",
              "  <tbody>\n",
              "    <tr>\n",
              "      <th>0</th>\n",
              "      <td>0000366f3b9a7992bf8c76cfdf3221e2</td>\n",
              "      <td>1</td>\n",
              "    </tr>\n",
              "    <tr>\n",
              "      <th>1</th>\n",
              "      <td>0000b849f77a49e4a4ce2b2a4ca5be3f</td>\n",
              "      <td>1</td>\n",
              "    </tr>\n",
              "    <tr>\n",
              "      <th>2</th>\n",
              "      <td>0000f46a3911fa3c0805444483337064</td>\n",
              "      <td>1</td>\n",
              "    </tr>\n",
              "    <tr>\n",
              "      <th>3</th>\n",
              "      <td>0000f6ccb0745a6a4b88665a16c9f078</td>\n",
              "      <td>1</td>\n",
              "    </tr>\n",
              "    <tr>\n",
              "      <th>4</th>\n",
              "      <td>0004aac84e0df4da2b147fca70cf8255</td>\n",
              "      <td>1</td>\n",
              "    </tr>\n",
              "    <tr>\n",
              "      <th>...</th>\n",
              "      <td>...</td>\n",
              "      <td>...</td>\n",
              "    </tr>\n",
              "    <tr>\n",
              "      <th>86181</th>\n",
              "      <td>fffbf87b7a1a6fa8b03f081c5f51a201</td>\n",
              "      <td>1</td>\n",
              "    </tr>\n",
              "    <tr>\n",
              "      <th>86182</th>\n",
              "      <td>fffea47cd6d3cc0a88bd621562a9d061</td>\n",
              "      <td>1</td>\n",
              "    </tr>\n",
              "    <tr>\n",
              "      <th>86183</th>\n",
              "      <td>ffff371b4d645b6ecea244b27531430a</td>\n",
              "      <td>1</td>\n",
              "    </tr>\n",
              "    <tr>\n",
              "      <th>86184</th>\n",
              "      <td>ffff5962728ec6157033ef9805bacc48</td>\n",
              "      <td>1</td>\n",
              "    </tr>\n",
              "    <tr>\n",
              "      <th>86185</th>\n",
              "      <td>ffffd2657e2aad2907e67c3e9daecbeb</td>\n",
              "      <td>1</td>\n",
              "    </tr>\n",
              "  </tbody>\n",
              "</table>\n",
              "<p>86186 rows × 2 columns</p>\n",
              "</div>"
            ],
            "text/plain": [
              "                     customer_unique_id  Frequency\n",
              "0      0000366f3b9a7992bf8c76cfdf3221e2          1\n",
              "1      0000b849f77a49e4a4ce2b2a4ca5be3f          1\n",
              "2      0000f46a3911fa3c0805444483337064          1\n",
              "3      0000f6ccb0745a6a4b88665a16c9f078          1\n",
              "4      0004aac84e0df4da2b147fca70cf8255          1\n",
              "...                                 ...        ...\n",
              "86181  fffbf87b7a1a6fa8b03f081c5f51a201          1\n",
              "86182  fffea47cd6d3cc0a88bd621562a9d061          1\n",
              "86183  ffff371b4d645b6ecea244b27531430a          1\n",
              "86184  ffff5962728ec6157033ef9805bacc48          1\n",
              "86185  ffffd2657e2aad2907e67c3e9daecbeb          1\n",
              "\n",
              "[86186 rows x 2 columns]"
            ]
          },
          "execution_count": 53,
          "metadata": {},
          "output_type": "execute_result"
        }
      ],
      "source": [
        "frequency_df"
      ]
    },
    {
      "cell_type": "markdown",
      "metadata": {
        "id": "EYZYrBe39V8o"
      },
      "source": [
        "###Monetary"
      ]
    },
    {
      "cell_type": "code",
      "execution_count": 54,
      "metadata": {
        "colab": {
          "base_uri": "https://localhost:8080/"
        },
        "id": "aUauvbmS9i_o",
        "outputId": "221a70f3-6880-480d-a966-722893ea4730"
      },
      "outputs": [
        {
          "data": {
            "text/html": [
              "<div>\n",
              "<style scoped>\n",
              "    .dataframe tbody tr th:only-of-type {\n",
              "        vertical-align: middle;\n",
              "    }\n",
              "\n",
              "    .dataframe tbody tr th {\n",
              "        vertical-align: top;\n",
              "    }\n",
              "\n",
              "    .dataframe thead th {\n",
              "        text-align: right;\n",
              "    }\n",
              "</style>\n",
              "<table border=\"1\" class=\"dataframe\">\n",
              "  <thead>\n",
              "    <tr style=\"text-align: right;\">\n",
              "      <th></th>\n",
              "      <th>order_id</th>\n",
              "      <th>payment_sequential</th>\n",
              "      <th>payment_type</th>\n",
              "      <th>payment_installments</th>\n",
              "      <th>payment_value</th>\n",
              "      <th>customer_id</th>\n",
              "      <th>order_status</th>\n",
              "      <th>order_purchase_timestamp</th>\n",
              "      <th>order_approved_at</th>\n",
              "      <th>customer_unique_id</th>\n",
              "      <th>customer_zip_code_prefix</th>\n",
              "      <th>customer_city</th>\n",
              "      <th>customer_state</th>\n",
              "      <th>date</th>\n",
              "    </tr>\n",
              "  </thead>\n",
              "  <tbody>\n",
              "    <tr>\n",
              "      <th>0</th>\n",
              "      <td>b81ef226f3fe1789b1e8b2acac839d17</td>\n",
              "      <td>1</td>\n",
              "      <td>credit_card</td>\n",
              "      <td>8</td>\n",
              "      <td>99.33</td>\n",
              "      <td>0a8556ac6be836b46b3e89920d59291c</td>\n",
              "      <td>delivered</td>\n",
              "      <td>2018-04-25 22:01:49</td>\n",
              "      <td>2018-04-25 22:15:09</td>\n",
              "      <td>708ab75d2a007f0564aedd11139c7708</td>\n",
              "      <td>39801</td>\n",
              "      <td>teofilo otoni</td>\n",
              "      <td>MG</td>\n",
              "      <td>2018-04-25</td>\n",
              "    </tr>\n",
              "    <tr>\n",
              "      <th>1</th>\n",
              "      <td>a9810da82917af2d9aefd1278f1dcfa0</td>\n",
              "      <td>1</td>\n",
              "      <td>credit_card</td>\n",
              "      <td>1</td>\n",
              "      <td>24.39</td>\n",
              "      <td>f2c7fc58a9de810828715166c672f10a</td>\n",
              "      <td>delivered</td>\n",
              "      <td>2018-06-26 11:01:38</td>\n",
              "      <td>2018-06-26 11:18:58</td>\n",
              "      <td>a8b9d3a27068454b1c98cc67d4e31e6f</td>\n",
              "      <td>2422</td>\n",
              "      <td>sao paulo</td>\n",
              "      <td>SP</td>\n",
              "      <td>2018-06-26</td>\n",
              "    </tr>\n",
              "    <tr>\n",
              "      <th>2</th>\n",
              "      <td>25e8ea4e93396b6fa0d3dd708e76c1bd</td>\n",
              "      <td>1</td>\n",
              "      <td>credit_card</td>\n",
              "      <td>1</td>\n",
              "      <td>65.71</td>\n",
              "      <td>25b14b69de0b6e184ae6fe2755e478f9</td>\n",
              "      <td>delivered</td>\n",
              "      <td>2017-12-12 11:19:55</td>\n",
              "      <td>2017-12-14 09:52:34</td>\n",
              "      <td>6f70c0b2f7552832ba46eb57b1c5651e</td>\n",
              "      <td>2652</td>\n",
              "      <td>sao paulo</td>\n",
              "      <td>SP</td>\n",
              "      <td>2017-12-14</td>\n",
              "    </tr>\n",
              "    <tr>\n",
              "      <th>3</th>\n",
              "      <td>ba78997921bbcdc1373bb41e913ab953</td>\n",
              "      <td>1</td>\n",
              "      <td>credit_card</td>\n",
              "      <td>8</td>\n",
              "      <td>107.78</td>\n",
              "      <td>7a5d8efaaa1081f800628c30d2b0728f</td>\n",
              "      <td>delivered</td>\n",
              "      <td>2017-12-06 12:04:06</td>\n",
              "      <td>2017-12-06 12:13:20</td>\n",
              "      <td>87695ed086ebd36f20404c82d20fca87</td>\n",
              "      <td>36060</td>\n",
              "      <td>juiz de fora</td>\n",
              "      <td>MG</td>\n",
              "      <td>2017-12-06</td>\n",
              "    </tr>\n",
              "    <tr>\n",
              "      <th>4</th>\n",
              "      <td>42fdf880ba16b47b59251dd489d4441a</td>\n",
              "      <td>1</td>\n",
              "      <td>credit_card</td>\n",
              "      <td>2</td>\n",
              "      <td>128.45</td>\n",
              "      <td>15fd6fb8f8312dbb4674e4518d6fa3b3</td>\n",
              "      <td>delivered</td>\n",
              "      <td>2018-05-21 13:59:17</td>\n",
              "      <td>2018-05-21 16:14:41</td>\n",
              "      <td>4291db0da71914754618cd789aebcd56</td>\n",
              "      <td>18570</td>\n",
              "      <td>conchas</td>\n",
              "      <td>SP</td>\n",
              "      <td>2018-05-21</td>\n",
              "    </tr>\n",
              "    <tr>\n",
              "      <th>...</th>\n",
              "      <td>...</td>\n",
              "      <td>...</td>\n",
              "      <td>...</td>\n",
              "      <td>...</td>\n",
              "      <td>...</td>\n",
              "      <td>...</td>\n",
              "      <td>...</td>\n",
              "      <td>...</td>\n",
              "      <td>...</td>\n",
              "      <td>...</td>\n",
              "      <td>...</td>\n",
              "      <td>...</td>\n",
              "      <td>...</td>\n",
              "      <td>...</td>\n",
              "    </tr>\n",
              "    <tr>\n",
              "      <th>103876</th>\n",
              "      <td>0872d0faafe0cb56e6f2c594cca1522c</td>\n",
              "      <td>1</td>\n",
              "      <td>credit_card</td>\n",
              "      <td>2</td>\n",
              "      <td>127.92</td>\n",
              "      <td>dd2f0d64271438f6ad3a75d2a930a4b5</td>\n",
              "      <td>delivered</td>\n",
              "      <td>2017-09-26 12:10:26</td>\n",
              "      <td>2017-09-26 12:28:17</td>\n",
              "      <td>4a57b2a3676de278e26a50b7e60214e6</td>\n",
              "      <td>37200</td>\n",
              "      <td>lavras</td>\n",
              "      <td>MG</td>\n",
              "      <td>2017-09-26</td>\n",
              "    </tr>\n",
              "    <tr>\n",
              "      <th>103877</th>\n",
              "      <td>3531718b24dfd5022fb0d101e10e33b9</td>\n",
              "      <td>1</td>\n",
              "      <td>credit_card</td>\n",
              "      <td>1</td>\n",
              "      <td>194.11</td>\n",
              "      <td>5b819ae762ee1d0424f92fd742a8ed7b</td>\n",
              "      <td>delivered</td>\n",
              "      <td>2018-03-06 20:19:31</td>\n",
              "      <td>2018-03-06 20:30:39</td>\n",
              "      <td>18f40b803060d9883643b7e64e91628e</td>\n",
              "      <td>20030</td>\n",
              "      <td>rio de janeiro</td>\n",
              "      <td>RJ</td>\n",
              "      <td>2018-03-06</td>\n",
              "    </tr>\n",
              "    <tr>\n",
              "      <th>103879</th>\n",
              "      <td>c45067032fd84f4cf408730ff5205568</td>\n",
              "      <td>1</td>\n",
              "      <td>credit_card</td>\n",
              "      <td>2</td>\n",
              "      <td>198.94</td>\n",
              "      <td>0fea3afc6a1510c9db75d349d28af974</td>\n",
              "      <td>delivered</td>\n",
              "      <td>2018-05-16 12:09:45</td>\n",
              "      <td>2018-05-16 12:39:20</td>\n",
              "      <td>13f283df2f4760f22b57830865761d07</td>\n",
              "      <td>85869</td>\n",
              "      <td>foz do iguacu</td>\n",
              "      <td>PR</td>\n",
              "      <td>2018-05-16</td>\n",
              "    </tr>\n",
              "    <tr>\n",
              "      <th>103882</th>\n",
              "      <td>7b905861d7c825891d6347454ea7863f</td>\n",
              "      <td>1</td>\n",
              "      <td>credit_card</td>\n",
              "      <td>2</td>\n",
              "      <td>96.80</td>\n",
              "      <td>2079230c765a88530822a34a4cec2aa0</td>\n",
              "      <td>delivered</td>\n",
              "      <td>2017-08-18 09:45:35</td>\n",
              "      <td>2017-08-18 10:04:56</td>\n",
              "      <td>53b30ca78efb2b7efcd3f9e461587eb2</td>\n",
              "      <td>30210</td>\n",
              "      <td>belo horizonte</td>\n",
              "      <td>MG</td>\n",
              "      <td>2017-08-18</td>\n",
              "    </tr>\n",
              "    <tr>\n",
              "      <th>103885</th>\n",
              "      <td>28bbae6599b09d39ca406b747b6632b1</td>\n",
              "      <td>1</td>\n",
              "      <td>boleto</td>\n",
              "      <td>1</td>\n",
              "      <td>191.58</td>\n",
              "      <td>4c7f868f43b5cff577b0becb8c8b7860</td>\n",
              "      <td>delivered</td>\n",
              "      <td>2017-12-05 08:18:35</td>\n",
              "      <td>2017-12-06 02:50:09</td>\n",
              "      <td>b1f51a4e19da3338e51fbcfabefad1bf</td>\n",
              "      <td>23059</td>\n",
              "      <td>rio de janeiro</td>\n",
              "      <td>RJ</td>\n",
              "      <td>2017-12-06</td>\n",
              "    </tr>\n",
              "  </tbody>\n",
              "</table>\n",
              "<p>88982 rows × 14 columns</p>\n",
              "</div>"
            ],
            "text/plain": [
              "                                order_id  payment_sequential payment_type  \\\n",
              "0       b81ef226f3fe1789b1e8b2acac839d17                   1  credit_card   \n",
              "1       a9810da82917af2d9aefd1278f1dcfa0                   1  credit_card   \n",
              "2       25e8ea4e93396b6fa0d3dd708e76c1bd                   1  credit_card   \n",
              "3       ba78997921bbcdc1373bb41e913ab953                   1  credit_card   \n",
              "4       42fdf880ba16b47b59251dd489d4441a                   1  credit_card   \n",
              "...                                  ...                 ...          ...   \n",
              "103876  0872d0faafe0cb56e6f2c594cca1522c                   1  credit_card   \n",
              "103877  3531718b24dfd5022fb0d101e10e33b9                   1  credit_card   \n",
              "103879  c45067032fd84f4cf408730ff5205568                   1  credit_card   \n",
              "103882  7b905861d7c825891d6347454ea7863f                   1  credit_card   \n",
              "103885  28bbae6599b09d39ca406b747b6632b1                   1       boleto   \n",
              "\n",
              "        payment_installments  payment_value                       customer_id  \\\n",
              "0                          8          99.33  0a8556ac6be836b46b3e89920d59291c   \n",
              "1                          1          24.39  f2c7fc58a9de810828715166c672f10a   \n",
              "2                          1          65.71  25b14b69de0b6e184ae6fe2755e478f9   \n",
              "3                          8         107.78  7a5d8efaaa1081f800628c30d2b0728f   \n",
              "4                          2         128.45  15fd6fb8f8312dbb4674e4518d6fa3b3   \n",
              "...                      ...            ...                               ...   \n",
              "103876                     2         127.92  dd2f0d64271438f6ad3a75d2a930a4b5   \n",
              "103877                     1         194.11  5b819ae762ee1d0424f92fd742a8ed7b   \n",
              "103879                     2         198.94  0fea3afc6a1510c9db75d349d28af974   \n",
              "103882                     2          96.80  2079230c765a88530822a34a4cec2aa0   \n",
              "103885                     1         191.58  4c7f868f43b5cff577b0becb8c8b7860   \n",
              "\n",
              "       order_status order_purchase_timestamp   order_approved_at  \\\n",
              "0         delivered      2018-04-25 22:01:49 2018-04-25 22:15:09   \n",
              "1         delivered      2018-06-26 11:01:38 2018-06-26 11:18:58   \n",
              "2         delivered      2017-12-12 11:19:55 2017-12-14 09:52:34   \n",
              "3         delivered      2017-12-06 12:04:06 2017-12-06 12:13:20   \n",
              "4         delivered      2018-05-21 13:59:17 2018-05-21 16:14:41   \n",
              "...             ...                      ...                 ...   \n",
              "103876    delivered      2017-09-26 12:10:26 2017-09-26 12:28:17   \n",
              "103877    delivered      2018-03-06 20:19:31 2018-03-06 20:30:39   \n",
              "103879    delivered      2018-05-16 12:09:45 2018-05-16 12:39:20   \n",
              "103882    delivered      2017-08-18 09:45:35 2017-08-18 10:04:56   \n",
              "103885    delivered      2017-12-05 08:18:35 2017-12-06 02:50:09   \n",
              "\n",
              "                      customer_unique_id  customer_zip_code_prefix  \\\n",
              "0       708ab75d2a007f0564aedd11139c7708                     39801   \n",
              "1       a8b9d3a27068454b1c98cc67d4e31e6f                      2422   \n",
              "2       6f70c0b2f7552832ba46eb57b1c5651e                      2652   \n",
              "3       87695ed086ebd36f20404c82d20fca87                     36060   \n",
              "4       4291db0da71914754618cd789aebcd56                     18570   \n",
              "...                                  ...                       ...   \n",
              "103876  4a57b2a3676de278e26a50b7e60214e6                     37200   \n",
              "103877  18f40b803060d9883643b7e64e91628e                     20030   \n",
              "103879  13f283df2f4760f22b57830865761d07                     85869   \n",
              "103882  53b30ca78efb2b7efcd3f9e461587eb2                     30210   \n",
              "103885  b1f51a4e19da3338e51fbcfabefad1bf                     23059   \n",
              "\n",
              "         customer_city customer_state        date  \n",
              "0        teofilo otoni             MG  2018-04-25  \n",
              "1            sao paulo             SP  2018-06-26  \n",
              "2            sao paulo             SP  2017-12-14  \n",
              "3         juiz de fora             MG  2017-12-06  \n",
              "4              conchas             SP  2018-05-21  \n",
              "...                ...            ...         ...  \n",
              "103876          lavras             MG  2017-09-26  \n",
              "103877  rio de janeiro             RJ  2018-03-06  \n",
              "103879   foz do iguacu             PR  2018-05-16  \n",
              "103882  belo horizonte             MG  2017-08-18  \n",
              "103885  rio de janeiro             RJ  2017-12-06  \n",
              "\n",
              "[88982 rows x 14 columns]"
            ]
          },
          "execution_count": 54,
          "metadata": {},
          "output_type": "execute_result"
        }
      ],
      "source": [
        "Final_Dataset"
      ]
    },
    {
      "cell_type": "markdown",
      "metadata": {
        "id": "c_eICNI6AGdM"
      },
      "source": [
        "We want to know how much to spend in our store"
      ]
    },
    {
      "cell_type": "code",
      "execution_count": 55,
      "metadata": {
        "colab": {
          "base_uri": "https://localhost:8080/"
        },
        "id": "6gXGW4fp9W_V",
        "outputId": "532612f0-3ae9-42af-b1e5-7223d431f83a"
      },
      "outputs": [
        {
          "data": {
            "text/html": [
              "<div>\n",
              "<style scoped>\n",
              "    .dataframe tbody tr th:only-of-type {\n",
              "        vertical-align: middle;\n",
              "    }\n",
              "\n",
              "    .dataframe tbody tr th {\n",
              "        vertical-align: top;\n",
              "    }\n",
              "\n",
              "    .dataframe thead th {\n",
              "        text-align: right;\n",
              "    }\n",
              "</style>\n",
              "<table border=\"1\" class=\"dataframe\">\n",
              "  <thead>\n",
              "    <tr style=\"text-align: right;\">\n",
              "      <th></th>\n",
              "      <th>customer_unique_id</th>\n",
              "      <th>Monetary</th>\n",
              "    </tr>\n",
              "  </thead>\n",
              "  <tbody>\n",
              "    <tr>\n",
              "      <th>0</th>\n",
              "      <td>0000366f3b9a7992bf8c76cfdf3221e2</td>\n",
              "      <td>141.90</td>\n",
              "    </tr>\n",
              "    <tr>\n",
              "      <th>1</th>\n",
              "      <td>0000b849f77a49e4a4ce2b2a4ca5be3f</td>\n",
              "      <td>27.19</td>\n",
              "    </tr>\n",
              "    <tr>\n",
              "      <th>2</th>\n",
              "      <td>0000f46a3911fa3c0805444483337064</td>\n",
              "      <td>86.22</td>\n",
              "    </tr>\n",
              "    <tr>\n",
              "      <th>3</th>\n",
              "      <td>0000f6ccb0745a6a4b88665a16c9f078</td>\n",
              "      <td>43.62</td>\n",
              "    </tr>\n",
              "    <tr>\n",
              "      <th>4</th>\n",
              "      <td>0004aac84e0df4da2b147fca70cf8255</td>\n",
              "      <td>196.89</td>\n",
              "    </tr>\n",
              "  </tbody>\n",
              "</table>\n",
              "</div>"
            ],
            "text/plain": [
              "                 customer_unique_id  Monetary\n",
              "0  0000366f3b9a7992bf8c76cfdf3221e2    141.90\n",
              "1  0000b849f77a49e4a4ce2b2a4ca5be3f     27.19\n",
              "2  0000f46a3911fa3c0805444483337064     86.22\n",
              "3  0000f6ccb0745a6a4b88665a16c9f078     43.62\n",
              "4  0004aac84e0df4da2b147fca70cf8255    196.89"
            ]
          },
          "execution_count": 55,
          "metadata": {},
          "output_type": "execute_result"
        }
      ],
      "source": [
        "monetary_df = Final_Dataset.groupby('customer_unique_id', as_index=False)['payment_value'].sum()\n",
        "monetary_df.columns = ['customer_unique_id', 'Monetary']\n",
        "monetary_df.head()"
      ]
    },
    {
      "cell_type": "markdown",
      "metadata": {
        "id": "yy3O9_ya_6EB"
      },
      "source": [
        "#Create RFM Table (Pre-Processing for Clustering)"
      ]
    },
    {
      "cell_type": "markdown",
      "metadata": {
        "id": "XfJNCmkkAmyQ"
      },
      "source": [
        "Merge all Recencies Frequencies and Monetary column into one table"
      ]
    },
    {
      "cell_type": "code",
      "execution_count": 56,
      "metadata": {
        "colab": {
          "base_uri": "https://localhost:8080/",
          "height": 237
        },
        "id": "Jvv8L29C_7zw",
        "outputId": "87d2ce5e-910e-42ad-ab45-30a2c4872b79"
      },
      "outputs": [
        {
          "data": {
            "text/html": [
              "<div>\n",
              "<style scoped>\n",
              "    .dataframe tbody tr th:only-of-type {\n",
              "        vertical-align: middle;\n",
              "    }\n",
              "\n",
              "    .dataframe tbody tr th {\n",
              "        vertical-align: top;\n",
              "    }\n",
              "\n",
              "    .dataframe thead th {\n",
              "        text-align: right;\n",
              "    }\n",
              "</style>\n",
              "<table border=\"1\" class=\"dataframe\">\n",
              "  <thead>\n",
              "    <tr style=\"text-align: right;\">\n",
              "      <th></th>\n",
              "      <th>LastPurchaseDate</th>\n",
              "      <th>Recency</th>\n",
              "      <th>Frequency</th>\n",
              "      <th>Monetary</th>\n",
              "    </tr>\n",
              "    <tr>\n",
              "      <th>customer_unique_id</th>\n",
              "      <th></th>\n",
              "      <th></th>\n",
              "      <th></th>\n",
              "      <th></th>\n",
              "    </tr>\n",
              "  </thead>\n",
              "  <tbody>\n",
              "    <tr>\n",
              "      <th>0000366f3b9a7992bf8c76cfdf3221e2</th>\n",
              "      <td>2018-05-10</td>\n",
              "      <td>1720</td>\n",
              "      <td>1</td>\n",
              "      <td>141.90</td>\n",
              "    </tr>\n",
              "    <tr>\n",
              "      <th>0000b849f77a49e4a4ce2b2a4ca5be3f</th>\n",
              "      <td>2018-05-07</td>\n",
              "      <td>1723</td>\n",
              "      <td>1</td>\n",
              "      <td>27.19</td>\n",
              "    </tr>\n",
              "    <tr>\n",
              "      <th>0000f46a3911fa3c0805444483337064</th>\n",
              "      <td>2017-03-10</td>\n",
              "      <td>2146</td>\n",
              "      <td>1</td>\n",
              "      <td>86.22</td>\n",
              "    </tr>\n",
              "    <tr>\n",
              "      <th>0000f6ccb0745a6a4b88665a16c9f078</th>\n",
              "      <td>2017-10-12</td>\n",
              "      <td>1930</td>\n",
              "      <td>1</td>\n",
              "      <td>43.62</td>\n",
              "    </tr>\n",
              "    <tr>\n",
              "      <th>0004aac84e0df4da2b147fca70cf8255</th>\n",
              "      <td>2017-11-14</td>\n",
              "      <td>1897</td>\n",
              "      <td>1</td>\n",
              "      <td>196.89</td>\n",
              "    </tr>\n",
              "  </tbody>\n",
              "</table>\n",
              "</div>"
            ],
            "text/plain": [
              "                                 LastPurchaseDate  Recency  Frequency  \\\n",
              "customer_unique_id                                                      \n",
              "0000366f3b9a7992bf8c76cfdf3221e2       2018-05-10     1720          1   \n",
              "0000b849f77a49e4a4ce2b2a4ca5be3f       2018-05-07     1723          1   \n",
              "0000f46a3911fa3c0805444483337064       2017-03-10     2146          1   \n",
              "0000f6ccb0745a6a4b88665a16c9f078       2017-10-12     1930          1   \n",
              "0004aac84e0df4da2b147fca70cf8255       2017-11-14     1897          1   \n",
              "\n",
              "                                  Monetary  \n",
              "customer_unique_id                          \n",
              "0000366f3b9a7992bf8c76cfdf3221e2    141.90  \n",
              "0000b849f77a49e4a4ce2b2a4ca5be3f     27.19  \n",
              "0000f46a3911fa3c0805444483337064     86.22  \n",
              "0000f6ccb0745a6a4b88665a16c9f078     43.62  \n",
              "0004aac84e0df4da2b147fca70cf8255    196.89  "
            ]
          },
          "execution_count": 56,
          "metadata": {},
          "output_type": "execute_result"
        }
      ],
      "source": [
        "rfm_df = (recency_df\n",
        " .merge(frequency_df, on='customer_unique_id')\n",
        " .merge(monetary_df, on='customer_unique_id')\n",
        ")\n",
        "\n",
        "rfm_df.set_index('customer_unique_id', inplace=True)\n",
        "rfm_df.head()"
      ]
    },
    {
      "cell_type": "markdown",
      "metadata": {
        "id": "Lta3kHzLEHu2"
      },
      "source": [
        "##K-MEANS CLUSTERING"
      ]
    },
    {
      "cell_type": "code",
      "execution_count": 57,
      "metadata": {
        "colab": {
          "base_uri": "https://localhost:8080/",
          "height": 237
        },
        "id": "Gb_9eZOXEJV2",
        "outputId": "1f8bdcc3-d5e7-4318-c3b5-28b170d49142"
      },
      "outputs": [
        {
          "data": {
            "text/html": [
              "<div>\n",
              "<style scoped>\n",
              "    .dataframe tbody tr th:only-of-type {\n",
              "        vertical-align: middle;\n",
              "    }\n",
              "\n",
              "    .dataframe tbody tr th {\n",
              "        vertical-align: top;\n",
              "    }\n",
              "\n",
              "    .dataframe thead th {\n",
              "        text-align: right;\n",
              "    }\n",
              "</style>\n",
              "<table border=\"1\" class=\"dataframe\">\n",
              "  <thead>\n",
              "    <tr style=\"text-align: right;\">\n",
              "      <th></th>\n",
              "      <th>LastPurchaseDate</th>\n",
              "      <th>Recency</th>\n",
              "      <th>Frequency</th>\n",
              "      <th>Monetary</th>\n",
              "    </tr>\n",
              "    <tr>\n",
              "      <th>customer_unique_id</th>\n",
              "      <th></th>\n",
              "      <th></th>\n",
              "      <th></th>\n",
              "      <th></th>\n",
              "    </tr>\n",
              "  </thead>\n",
              "  <tbody>\n",
              "    <tr>\n",
              "      <th>0000366f3b9a7992bf8c76cfdf3221e2</th>\n",
              "      <td>2018-05-10</td>\n",
              "      <td>1720</td>\n",
              "      <td>1</td>\n",
              "      <td>141.90</td>\n",
              "    </tr>\n",
              "    <tr>\n",
              "      <th>0000b849f77a49e4a4ce2b2a4ca5be3f</th>\n",
              "      <td>2018-05-07</td>\n",
              "      <td>1723</td>\n",
              "      <td>1</td>\n",
              "      <td>27.19</td>\n",
              "    </tr>\n",
              "    <tr>\n",
              "      <th>0000f46a3911fa3c0805444483337064</th>\n",
              "      <td>2017-03-10</td>\n",
              "      <td>2146</td>\n",
              "      <td>1</td>\n",
              "      <td>86.22</td>\n",
              "    </tr>\n",
              "    <tr>\n",
              "      <th>0000f6ccb0745a6a4b88665a16c9f078</th>\n",
              "      <td>2017-10-12</td>\n",
              "      <td>1930</td>\n",
              "      <td>1</td>\n",
              "      <td>43.62</td>\n",
              "    </tr>\n",
              "    <tr>\n",
              "      <th>0004aac84e0df4da2b147fca70cf8255</th>\n",
              "      <td>2017-11-14</td>\n",
              "      <td>1897</td>\n",
              "      <td>1</td>\n",
              "      <td>196.89</td>\n",
              "    </tr>\n",
              "  </tbody>\n",
              "</table>\n",
              "</div>"
            ],
            "text/plain": [
              "                                 LastPurchaseDate  Recency  Frequency  \\\n",
              "customer_unique_id                                                      \n",
              "0000366f3b9a7992bf8c76cfdf3221e2       2018-05-10     1720          1   \n",
              "0000b849f77a49e4a4ce2b2a4ca5be3f       2018-05-07     1723          1   \n",
              "0000f46a3911fa3c0805444483337064       2017-03-10     2146          1   \n",
              "0000f6ccb0745a6a4b88665a16c9f078       2017-10-12     1930          1   \n",
              "0004aac84e0df4da2b147fca70cf8255       2017-11-14     1897          1   \n",
              "\n",
              "                                  Monetary  \n",
              "customer_unique_id                          \n",
              "0000366f3b9a7992bf8c76cfdf3221e2    141.90  \n",
              "0000b849f77a49e4a4ce2b2a4ca5be3f     27.19  \n",
              "0000f46a3911fa3c0805444483337064     86.22  \n",
              "0000f6ccb0745a6a4b88665a16c9f078     43.62  \n",
              "0004aac84e0df4da2b147fca70cf8255    196.89  "
            ]
          },
          "execution_count": 57,
          "metadata": {},
          "output_type": "execute_result"
        }
      ],
      "source": [
        "cluster_scale = rfm_df.copy()\n",
        "cluster_scale.head()"
      ]
    },
    {
      "cell_type": "code",
      "execution_count": 58,
      "metadata": {
        "id": "t468ZpOeEawe"
      },
      "outputs": [],
      "source": [
        "import pandas as pd\n",
        "import numpy as np\n",
        "import datetime as dt\n",
        "from datetime import timedelta\n",
        "#For visualization\n",
        "from matplotlib import rcParams\n",
        "import matplotlib.pyplot as plt\n",
        "import seaborn as sns\n",
        "import plotly.express as px\n",
        "import plotly.graph_objects as go\n",
        "from plotly.subplots import make_subplots\n",
        "#For Machine Learning\n",
        "import sklearn\n",
        "from sklearn import cluster\n",
        "from sklearn.preprocessing import MinMaxScaler\n",
        "from sklearn.cluster import KMeans\n",
        "from sklearn.metrics import silhouette_score\n",
        "#from silhoutte import silhoutte_analysis"
      ]
    },
    {
      "cell_type": "code",
      "execution_count": 59,
      "metadata": {
        "id": "9y8ftu2bFha8"
      },
      "outputs": [],
      "source": [
        "from sklearn.datasets import make_blobs\n",
        "from sklearn.cluster import KMeans\n",
        "from sklearn.metrics import silhouette_samples, silhouette_score\n",
        "\n",
        "import matplotlib.pyplot as plt\n",
        "import matplotlib.cm as cm\n",
        "import numpy as np\n",
        "\n",
        "# Generating the sample data from make_blobs\n",
        "# This particular setting has one distinct cluster and 3 clusters placed close\n",
        "# together.\n",
        "def silhoutte_analysis(data,cluster=[2,3,4]):\n",
        "    X = data.to_numpy()\n",
        "\n",
        "    range_n_clusters = cluster\n",
        "\n",
        "    for n_clusters in range_n_clusters:\n",
        "        # Create a subplot with 1 row and 2 columns\n",
        "        fig, (ax1, ax2) = plt.subplots(1, 2)\n",
        "        fig.set_size_inches(18, 7)\n",
        "\n",
        "        # The 1st subplot is the silhouette plot\n",
        "        # The silhouette coefficient can range from -1, 1 but in this example all\n",
        "        # lie within [-0.1, 1]\n",
        "        ax1.set_xlim([-0.1, 1])\n",
        "        # The (n_clusters+1)*10 is for inserting blank space between silhouette\n",
        "        # plots of individual clusters, to demarcate them clearly.\n",
        "        ax1.set_ylim([0, len(X) + (n_clusters + 1) * 10])\n",
        "\n",
        "        # Initialize the clusterer with n_clusters value and a random generator\n",
        "        # seed of 10 for reproducibility.\n",
        "        clusterer = KMeans(n_clusters=n_clusters, random_state=10)\n",
        "        cluster_labels = clusterer.fit_predict(X)\n",
        "\n",
        "        # The silhouette_score gives the average value for all the samples.\n",
        "        # This gives a perspective into the density and separation of the formed\n",
        "        # clusters\n",
        "        silhouette_avg = silhouette_score(X, cluster_labels)\n",
        "        print(\n",
        "            \"For n_clusters =\",\n",
        "            n_clusters,\n",
        "            \"The average silhouette_score is :\",\n",
        "            silhouette_avg,\n",
        "        )\n",
        "\n",
        "        # Compute the silhouette scores for each sample\n",
        "        sample_silhouette_values = silhouette_samples(X, cluster_labels)\n",
        "\n",
        "        y_lower = 10\n",
        "        for i in range(n_clusters):\n",
        "            # Aggregate the silhouette scores for samples belonging to\n",
        "            # cluster i, and sort them\n",
        "            ith_cluster_silhouette_values = sample_silhouette_values[cluster_labels == i]\n",
        "\n",
        "            ith_cluster_silhouette_values.sort()\n",
        "\n",
        "            size_cluster_i = ith_cluster_silhouette_values.shape[0]\n",
        "            y_upper = y_lower + size_cluster_i\n",
        "\n",
        "            color = cm.nipy_spectral(float(i) / n_clusters)\n",
        "            ax1.fill_betweenx(\n",
        "                np.arange(y_lower, y_upper),\n",
        "                0,\n",
        "                ith_cluster_silhouette_values,\n",
        "                facecolor=color,\n",
        "                edgecolor=color,\n",
        "                alpha=0.7,\n",
        "            )\n",
        "\n",
        "            # Label the silhouette plots with their cluster numbers at the middle\n",
        "            ax1.text(-0.05, y_lower + 0.5 * size_cluster_i, str(i))\n",
        "\n",
        "            # Compute the new y_lower for next plot\n",
        "            y_lower = y_upper + 10  # 10 for the 0 samples\n",
        "\n",
        "        ax1.set_title(\"The silhouette plot for the various clusters.\")\n",
        "        ax1.set_xlabel(\"The silhouette coefficient values\")\n",
        "        ax1.set_ylabel(\"Cluster label\")\n",
        "\n",
        "        # The vertical line for average silhouette score of all the values\n",
        "        ax1.axvline(x=silhouette_avg, color=\"red\", linestyle=\"--\")\n",
        "\n",
        "        ax1.set_yticks([])  # Clear the yaxis labels / ticks\n",
        "        ax1.set_xticks([-0.1, 0, 0.2, 0.4, 0.6, 0.8, 1])\n",
        "\n",
        "        # 2nd Plot showing the actual clusters formed\n",
        "        colors = cm.nipy_spectral(cluster_labels.astype(float) / n_clusters)\n",
        "        ax2.scatter(\n",
        "            X[:, 0], X[:, 1], marker=\".\", s=30, lw=0, alpha=0.7, c=colors, edgecolor=\"k\"\n",
        "        )\n",
        "\n",
        "        # Labeling the clusters\n",
        "        centers = clusterer.cluster_centers_\n",
        "        # Draw white circles at cluster centers\n",
        "        ax2.scatter(\n",
        "            centers[:, 0],\n",
        "            centers[:, 1],\n",
        "            marker=\"o\",\n",
        "            c=\"white\",\n",
        "            alpha=1,\n",
        "            s=200,\n",
        "            edgecolor=\"k\",\n",
        "        )\n",
        "\n",
        "        for i, c in enumerate(centers):\n",
        "            ax2.scatter(c[0], c[1], marker=\"$%d$\" % i, alpha=1, s=50, edgecolor=\"k\")\n",
        "\n",
        "        ax2.set_title(\"The visualization of the clustered data.\")\n",
        "        ax2.set_xlabel(\"Feature space for the 1st feature\")\n",
        "        ax2.set_ylabel(\"Feature space for the 2nd feature\")\n",
        "\n",
        "        plt.suptitle(\n",
        "            \"Silhouette analysis for KMeans clustering on sample data with n_clusters = %d\"\n",
        "            % n_clusters,\n",
        "            fontsize=14,\n",
        "            fontweight=\"bold\",\n",
        "        )\n",
        "\n",
        "    plt.show()"
      ]
    },
    {
      "cell_type": "code",
      "execution_count": 60,
      "metadata": {
        "id": "uD3sktr-E0-d"
      },
      "outputs": [],
      "source": [
        "numerical_col = ['Recency','Frequency','Monetary']"
      ]
    },
    {
      "cell_type": "code",
      "execution_count": 61,
      "metadata": {
        "colab": {
          "base_uri": "https://localhost:8080/",
          "height": 237
        },
        "id": "EgHAxh3-EVF8",
        "outputId": "42cbcc2d-86ea-44ae-d719-a64e427ef927"
      },
      "outputs": [
        {
          "data": {
            "text/html": [
              "<div>\n",
              "<style scoped>\n",
              "    .dataframe tbody tr th:only-of-type {\n",
              "        vertical-align: middle;\n",
              "    }\n",
              "\n",
              "    .dataframe tbody tr th {\n",
              "        vertical-align: top;\n",
              "    }\n",
              "\n",
              "    .dataframe thead th {\n",
              "        text-align: right;\n",
              "    }\n",
              "</style>\n",
              "<table border=\"1\" class=\"dataframe\">\n",
              "  <thead>\n",
              "    <tr style=\"text-align: right;\">\n",
              "      <th></th>\n",
              "      <th>LastPurchaseDate</th>\n",
              "      <th>Recency</th>\n",
              "      <th>Frequency</th>\n",
              "      <th>Monetary</th>\n",
              "    </tr>\n",
              "    <tr>\n",
              "      <th>customer_unique_id</th>\n",
              "      <th></th>\n",
              "      <th></th>\n",
              "      <th></th>\n",
              "      <th></th>\n",
              "    </tr>\n",
              "  </thead>\n",
              "  <tbody>\n",
              "    <tr>\n",
              "      <th>0000366f3b9a7992bf8c76cfdf3221e2</th>\n",
              "      <td>2018-05-10</td>\n",
              "      <td>0.159942</td>\n",
              "      <td>0.0</td>\n",
              "      <td>0.126382</td>\n",
              "    </tr>\n",
              "    <tr>\n",
              "      <th>0000b849f77a49e4a4ce2b2a4ca5be3f</th>\n",
              "      <td>2018-05-07</td>\n",
              "      <td>0.164265</td>\n",
              "      <td>0.0</td>\n",
              "      <td>0.024209</td>\n",
              "    </tr>\n",
              "    <tr>\n",
              "      <th>0000f46a3911fa3c0805444483337064</th>\n",
              "      <td>2017-03-10</td>\n",
              "      <td>0.773775</td>\n",
              "      <td>0.0</td>\n",
              "      <td>0.076787</td>\n",
              "    </tr>\n",
              "    <tr>\n",
              "      <th>0000f6ccb0745a6a4b88665a16c9f078</th>\n",
              "      <td>2017-10-12</td>\n",
              "      <td>0.462536</td>\n",
              "      <td>0.0</td>\n",
              "      <td>0.038844</td>\n",
              "    </tr>\n",
              "    <tr>\n",
              "      <th>0004aac84e0df4da2b147fca70cf8255</th>\n",
              "      <td>2017-11-14</td>\n",
              "      <td>0.414986</td>\n",
              "      <td>0.0</td>\n",
              "      <td>0.175361</td>\n",
              "    </tr>\n",
              "  </tbody>\n",
              "</table>\n",
              "</div>"
            ],
            "text/plain": [
              "                                 LastPurchaseDate   Recency  Frequency  \\\n",
              "customer_unique_id                                                       \n",
              "0000366f3b9a7992bf8c76cfdf3221e2       2018-05-10  0.159942        0.0   \n",
              "0000b849f77a49e4a4ce2b2a4ca5be3f       2018-05-07  0.164265        0.0   \n",
              "0000f46a3911fa3c0805444483337064       2017-03-10  0.773775        0.0   \n",
              "0000f6ccb0745a6a4b88665a16c9f078       2017-10-12  0.462536        0.0   \n",
              "0004aac84e0df4da2b147fca70cf8255       2017-11-14  0.414986        0.0   \n",
              "\n",
              "                                  Monetary  \n",
              "customer_unique_id                          \n",
              "0000366f3b9a7992bf8c76cfdf3221e2  0.126382  \n",
              "0000b849f77a49e4a4ce2b2a4ca5be3f  0.024209  \n",
              "0000f46a3911fa3c0805444483337064  0.076787  \n",
              "0000f6ccb0745a6a4b88665a16c9f078  0.038844  \n",
              "0004aac84e0df4da2b147fca70cf8255  0.175361  "
            ]
          },
          "execution_count": 61,
          "metadata": {},
          "output_type": "execute_result"
        }
      ],
      "source": [
        "scaler = MinMaxScaler()\n",
        "cluster_scale[numerical_col] = scaler.fit_transform(cluster_scale[numerical_col])\n",
        "cluster_scale.head()"
      ]
    },
    {
      "cell_type": "code",
      "execution_count": 62,
      "metadata": {
        "id": "V-AFXWH-FMiM"
      },
      "outputs": [],
      "source": [
        "cluster_scale = pd.DataFrame(cluster_scale).reset_index()"
      ]
    },
    {
      "cell_type": "code",
      "execution_count": 63,
      "metadata": {
        "colab": {
          "base_uri": "https://localhost:8080/",
          "height": 206
        },
        "id": "qU0Y1jSnE-Qg",
        "outputId": "fda0963f-27bd-47af-df97-27bdc1c552e0"
      },
      "outputs": [
        {
          "data": {
            "text/html": [
              "<div>\n",
              "<style scoped>\n",
              "    .dataframe tbody tr th:only-of-type {\n",
              "        vertical-align: middle;\n",
              "    }\n",
              "\n",
              "    .dataframe tbody tr th {\n",
              "        vertical-align: top;\n",
              "    }\n",
              "\n",
              "    .dataframe thead th {\n",
              "        text-align: right;\n",
              "    }\n",
              "</style>\n",
              "<table border=\"1\" class=\"dataframe\">\n",
              "  <thead>\n",
              "    <tr style=\"text-align: right;\">\n",
              "      <th></th>\n",
              "      <th>LastPurchaseDate</th>\n",
              "      <th>Recency</th>\n",
              "      <th>Frequency</th>\n",
              "      <th>Monetary</th>\n",
              "    </tr>\n",
              "  </thead>\n",
              "  <tbody>\n",
              "    <tr>\n",
              "      <th>0</th>\n",
              "      <td>2018-05-10</td>\n",
              "      <td>0.159942</td>\n",
              "      <td>0.0</td>\n",
              "      <td>0.126382</td>\n",
              "    </tr>\n",
              "    <tr>\n",
              "      <th>1</th>\n",
              "      <td>2018-05-07</td>\n",
              "      <td>0.164265</td>\n",
              "      <td>0.0</td>\n",
              "      <td>0.024209</td>\n",
              "    </tr>\n",
              "    <tr>\n",
              "      <th>2</th>\n",
              "      <td>2017-03-10</td>\n",
              "      <td>0.773775</td>\n",
              "      <td>0.0</td>\n",
              "      <td>0.076787</td>\n",
              "    </tr>\n",
              "    <tr>\n",
              "      <th>3</th>\n",
              "      <td>2017-10-12</td>\n",
              "      <td>0.462536</td>\n",
              "      <td>0.0</td>\n",
              "      <td>0.038844</td>\n",
              "    </tr>\n",
              "    <tr>\n",
              "      <th>4</th>\n",
              "      <td>2017-11-14</td>\n",
              "      <td>0.414986</td>\n",
              "      <td>0.0</td>\n",
              "      <td>0.175361</td>\n",
              "    </tr>\n",
              "  </tbody>\n",
              "</table>\n",
              "</div>"
            ],
            "text/plain": [
              "  LastPurchaseDate   Recency  Frequency  Monetary\n",
              "0       2018-05-10  0.159942        0.0  0.126382\n",
              "1       2018-05-07  0.164265        0.0  0.024209\n",
              "2       2017-03-10  0.773775        0.0  0.076787\n",
              "3       2017-10-12  0.462536        0.0  0.038844\n",
              "4       2017-11-14  0.414986        0.0  0.175361"
            ]
          },
          "execution_count": 63,
          "metadata": {},
          "output_type": "execute_result"
        }
      ],
      "source": [
        "cluster_check = cluster_scale.copy()\n",
        "cluster_check = cluster_scale.drop(['customer_unique_id'],axis=1)\n",
        "cluster_check.head()"
      ]
    },
    {
      "cell_type": "code",
      "execution_count": 64,
      "metadata": {
        "id": "fTuU5QS_GBIK"
      },
      "outputs": [],
      "source": [
        "cluster_check=cluster_check.drop(['LastPurchaseDate'],axis=1)"
      ]
    },
    {
      "cell_type": "code",
      "execution_count": 65,
      "metadata": {
        "colab": {
          "base_uri": "https://localhost:8080/",
          "height": 518
        },
        "id": "4JlGCF9UFYeh",
        "outputId": "4b86df4e-d236-45ae-8c10-9f379fe8b4e4"
      },
      "outputs": [
        {
          "data": {
            "image/png": "[encoded data removed]",
            "text/plain": [
              "<Figure size 1600x800 with 1 Axes>"
            ]
          },
          "metadata": {},
          "output_type": "display_data"
        }
      ],
      "source": [
        "distortions = []\n",
        "K = range(2,7)\n",
        "for k in K:\n",
        "  kmeanModel = cluster.KMeans(n_clusters=k)\n",
        "  kmeanModel.fit(cluster_check)\n",
        "  distortions.append(kmeanModel.inertia_)\n",
        "\n",
        "plt.figure(figsize=(16,8))\n",
        "plt.plot(K, distortions,'bx-')\n",
        "plt.xlabel('k')\n",
        "plt.ylabel('Inertia')\n",
        "plt.title('The Elbow Showing the Optimal k', size= 20)\n",
        "plt.show()"
      ]
    },
    {
      "cell_type": "code",
      "execution_count": 66,
      "metadata": {
        "colab": {
          "base_uri": "https://localhost:8080/",
          "height": 1000
        },
        "id": "xPio4QB3GcEi",
        "outputId": "1db7657b-52df-46a2-ba38-af2056e26f83"
      },
      "outputs": [
        {
          "name": "stdout",
          "output_type": "stream",
          "text": [
            "For n_clusters = 2 The average silhouette_score is : 0.5233528023772275\n",
            "For n_clusters = 3 The average silhouette_score is : 0.46017894538529636\n",
            "For n_clusters = 4 The average silhouette_score is : 0.39466392183833915\n"
          ]
        },
        {
          "data": {
            "image/png": "[encoded data removed]",
            "text/plain": [
              "<Figure size 1800x700 with 2 Axes>"
            ]
          },
          "metadata": {},
          "output_type": "display_data"
        },
        {
          "data": {
            "image/png": "[encoded data removed]",
            "text/plain": [
              "<Figure size 1800x700 with 2 Axes>"
            ]
          },
          "metadata": {},
          "output_type": "display_data"
        },
        {
          "data": {
            "image/png": "[encoded data removed]",
            "text/plain": [
              "<Figure size 1800x700 with 2 Axes>"
            ]
          },
          "metadata": {},
          "output_type": "display_data"
        }
      ],
      "source": [
        "silhoutte_analysis(cluster_check,list(range(2,5)))"
      ]
    },
    {
      "cell_type": "code",
      "execution_count": 67,
      "metadata": {
        "colab": {
          "base_uri": "https://localhost:8080/",
          "height": 237
        },
        "id": "oUfrrnX1QOO8",
        "outputId": "ff5282fb-8f54-47dd-8431-80c3c1131ba2"
      },
      "outputs": [
        {
          "data": {
            "text/html": [
              "<div>\n",
              "<style scoped>\n",
              "    .dataframe tbody tr th:only-of-type {\n",
              "        vertical-align: middle;\n",
              "    }\n",
              "\n",
              "    .dataframe tbody tr th {\n",
              "        vertical-align: top;\n",
              "    }\n",
              "\n",
              "    .dataframe thead th {\n",
              "        text-align: right;\n",
              "    }\n",
              "</style>\n",
              "<table border=\"1\" class=\"dataframe\">\n",
              "  <thead>\n",
              "    <tr style=\"text-align: right;\">\n",
              "      <th></th>\n",
              "      <th>LastPurchaseDate</th>\n",
              "      <th>Recency</th>\n",
              "      <th>Frequency</th>\n",
              "      <th>Monetary</th>\n",
              "      <th>cluster</th>\n",
              "    </tr>\n",
              "    <tr>\n",
              "      <th>customer_unique_id</th>\n",
              "      <th></th>\n",
              "      <th></th>\n",
              "      <th></th>\n",
              "      <th></th>\n",
              "      <th></th>\n",
              "    </tr>\n",
              "  </thead>\n",
              "  <tbody>\n",
              "    <tr>\n",
              "      <th>0000366f3b9a7992bf8c76cfdf3221e2</th>\n",
              "      <td>2018-05-10</td>\n",
              "      <td>1720</td>\n",
              "      <td>1</td>\n",
              "      <td>141.90</td>\n",
              "      <td>0</td>\n",
              "    </tr>\n",
              "    <tr>\n",
              "      <th>0000b849f77a49e4a4ce2b2a4ca5be3f</th>\n",
              "      <td>2018-05-07</td>\n",
              "      <td>1723</td>\n",
              "      <td>1</td>\n",
              "      <td>27.19</td>\n",
              "      <td>0</td>\n",
              "    </tr>\n",
              "    <tr>\n",
              "      <th>0000f46a3911fa3c0805444483337064</th>\n",
              "      <td>2017-03-10</td>\n",
              "      <td>2146</td>\n",
              "      <td>1</td>\n",
              "      <td>86.22</td>\n",
              "      <td>1</td>\n",
              "    </tr>\n",
              "    <tr>\n",
              "      <th>0000f6ccb0745a6a4b88665a16c9f078</th>\n",
              "      <td>2017-10-12</td>\n",
              "      <td>1930</td>\n",
              "      <td>1</td>\n",
              "      <td>43.62</td>\n",
              "      <td>2</td>\n",
              "    </tr>\n",
              "    <tr>\n",
              "      <th>0004aac84e0df4da2b147fca70cf8255</th>\n",
              "      <td>2017-11-14</td>\n",
              "      <td>1897</td>\n",
              "      <td>1</td>\n",
              "      <td>196.89</td>\n",
              "      <td>2</td>\n",
              "    </tr>\n",
              "  </tbody>\n",
              "</table>\n",
              "</div>"
            ],
            "text/plain": [
              "                                 LastPurchaseDate  Recency  Frequency  \\\n",
              "customer_unique_id                                                      \n",
              "0000366f3b9a7992bf8c76cfdf3221e2       2018-05-10     1720          1   \n",
              "0000b849f77a49e4a4ce2b2a4ca5be3f       2018-05-07     1723          1   \n",
              "0000f46a3911fa3c0805444483337064       2017-03-10     2146          1   \n",
              "0000f6ccb0745a6a4b88665a16c9f078       2017-10-12     1930          1   \n",
              "0004aac84e0df4da2b147fca70cf8255       2017-11-14     1897          1   \n",
              "\n",
              "                                  Monetary  cluster  \n",
              "customer_unique_id                                   \n",
              "0000366f3b9a7992bf8c76cfdf3221e2    141.90        0  \n",
              "0000b849f77a49e4a4ce2b2a4ca5be3f     27.19        0  \n",
              "0000f46a3911fa3c0805444483337064     86.22        1  \n",
              "0000f6ccb0745a6a4b88665a16c9f078     43.62        2  \n",
              "0004aac84e0df4da2b147fca70cf8255    196.89        2  "
            ]
          },
          "execution_count": 67,
          "metadata": {},
          "output_type": "execute_result"
        }
      ],
      "source": [
        "cluster_model = cluster.KMeans(n_clusters=3, random_state = 2)\n",
        "cluster_model.fit(cluster_check)\n",
        "cluster_label = cluster_model.labels_\n",
        "rfm_df['cluster'] = cluster_label\n",
        "rfm_df.head()"
      ]
    },
    {
      "cell_type": "code",
      "execution_count": 68,
      "metadata": {
        "id": "lr8UcBuqR8QG"
      },
      "outputs": [],
      "source": [
        "rfm_df=rfm_df.drop(['LastPurchaseDate'],axis=1)"
      ]
    },
    {
      "cell_type": "code",
      "execution_count": 69,
      "metadata": {
        "id": "eQ_VzNC1TatV"
      },
      "outputs": [],
      "source": [
        "rfm_df=pd.DataFrame(rfm_df).reset_index()"
      ]
    },
    {
      "cell_type": "code",
      "execution_count": 70,
      "metadata": {
        "colab": {
          "base_uri": "https://localhost:8080/",
          "height": 143
        },
        "id": "-7wMHwxPQiPc",
        "outputId": "780c58be-d834-40ab-a2ac-34b9f27d124e"
      },
      "outputs": [
        {
          "data": {
            "text/html": [
              "<div>\n",
              "<style scoped>\n",
              "    .dataframe tbody tr th:only-of-type {\n",
              "        vertical-align: middle;\n",
              "    }\n",
              "\n",
              "    .dataframe tbody tr th {\n",
              "        vertical-align: top;\n",
              "    }\n",
              "\n",
              "    .dataframe thead th {\n",
              "        text-align: right;\n",
              "    }\n",
              "</style>\n",
              "<table border=\"1\" class=\"dataframe\">\n",
              "  <thead>\n",
              "    <tr style=\"text-align: right;\">\n",
              "      <th></th>\n",
              "      <th>Cluster</th>\n",
              "      <th>Count</th>\n",
              "    </tr>\n",
              "  </thead>\n",
              "  <tbody>\n",
              "    <tr>\n",
              "      <th>0</th>\n",
              "      <td>0</td>\n",
              "      <td>33231</td>\n",
              "    </tr>\n",
              "    <tr>\n",
              "      <th>1</th>\n",
              "      <td>1</td>\n",
              "      <td>20210</td>\n",
              "    </tr>\n",
              "    <tr>\n",
              "      <th>2</th>\n",
              "      <td>2</td>\n",
              "      <td>32745</td>\n",
              "    </tr>\n",
              "  </tbody>\n",
              "</table>\n",
              "</div>"
            ],
            "text/plain": [
              "   Cluster  Count\n",
              "0        0  33231\n",
              "1        1  20210\n",
              "2        2  32745"
            ]
          },
          "execution_count": 70,
          "metadata": {},
          "output_type": "execute_result"
        }
      ],
      "source": [
        "vis_cluster = rfm_df.copy()\n",
        "vis_cluster = vis_cluster.groupby('cluster')['customer_unique_id'].agg('count')\n",
        "vis_cluster = pd.DataFrame(vis_cluster)\n",
        "vis_cluster.reset_index(inplace = True)\n",
        "vis_cluster.columns = ['Cluster','Count']\n",
        "vis_cluster"
      ]
    },
    {
      "cell_type": "code",
      "execution_count": 71,
      "metadata": {
        "colab": {
          "base_uri": "https://localhost:8080/",
          "height": 143
        },
        "id": "5reNoLSDTkTr",
        "outputId": "145dd0f2-4107-47c0-eb6d-9b38591430b0"
      },
      "outputs": [
        {
          "data": {
            "text/html": [
              "<div>\n",
              "<style scoped>\n",
              "    .dataframe tbody tr th:only-of-type {\n",
              "        vertical-align: middle;\n",
              "    }\n",
              "\n",
              "    .dataframe tbody tr th {\n",
              "        vertical-align: top;\n",
              "    }\n",
              "\n",
              "    .dataframe thead th {\n",
              "        text-align: right;\n",
              "    }\n",
              "</style>\n",
              "<table border=\"1\" class=\"dataframe\">\n",
              "  <thead>\n",
              "    <tr style=\"text-align: right;\">\n",
              "      <th></th>\n",
              "      <th>Cluster</th>\n",
              "      <th>Count</th>\n",
              "      <th>Name</th>\n",
              "    </tr>\n",
              "  </thead>\n",
              "  <tbody>\n",
              "    <tr>\n",
              "      <th>0</th>\n",
              "      <td>0</td>\n",
              "      <td>33231</td>\n",
              "      <td>Gold</td>\n",
              "    </tr>\n",
              "    <tr>\n",
              "      <th>1</th>\n",
              "      <td>1</td>\n",
              "      <td>20210</td>\n",
              "      <td>Silver</td>\n",
              "    </tr>\n",
              "    <tr>\n",
              "      <th>2</th>\n",
              "      <td>2</td>\n",
              "      <td>32745</td>\n",
              "      <td>Bronze</td>\n",
              "    </tr>\n",
              "  </tbody>\n",
              "</table>\n",
              "</div>"
            ],
            "text/plain": [
              "   Cluster  Count    Name\n",
              "0        0  33231    Gold\n",
              "1        1  20210  Silver\n",
              "2        2  32745  Bronze"
            ]
          },
          "execution_count": 71,
          "metadata": {},
          "output_type": "execute_result"
        }
      ],
      "source": [
        "vis_cluster2 = vis_cluster.copy()\n",
        "vis_cluster2 = vis_cluster2.assign(Name=['Gold','Silver', 'Bronze'])\n",
        "vis_cluster2"
      ]
    },
    {
      "cell_type": "code",
      "execution_count": 72,
      "metadata": {
        "colab": {
          "base_uri": "https://localhost:8080/",
          "height": 537
        },
        "id": "lMX-VKRbTqH7",
        "outputId": "64dbff5e-2d57-41a9-89de-601bdb33545f"
      },
      "outputs": [
        {
          "data": {
            "application/vnd.plotly.v1+json": {
              "config": {
                "plotlyServerURL": "https://plot.ly"
              },
              "data": [
                {
                  "marker": {
                    "color": [
                      "#751a5c",
                      "#ab7338",
                      "#d1b21f",
                      "#751a5c",
                      "#ab7338",
                      "#d1b21f",
                      "#751a5c",
                      "#ab7338",
                      "#d1b21f"
                    ]
                  },
                  "type": "bar",
                  "x": [
                    "Gold",
                    "Silver",
                    "Bronze"
                  ],
                  "y": [
                    33231,
                    20210,
                    32745
                  ]
                }
              ],
              "layout": {
                "autosize": false,
                "height": 500,
                "margin": {
                  "b": 50,
                  "l": 50,
                  "r": 50,
                  "t": 50
                },
                "template": {
                  "data": {
                    "bar": [
                      {
                        "error_x": {
                          "color": "#2a3f5f"
                        },
                        "error_y": {
                          "color": "#2a3f5f"
                        },
                        "marker": {
                          "line": {
                            "color": "#E5ECF6",
                            "width": 0.5
                          },
                          "pattern": {
                            "fillmode": "overlay",
                            "size": 10,
                            "solidity": 0.2
                          }
                        },
                        "type": "bar"
                      }
                    ],
                    "barpolar": [
                      {
                        "marker": {
                          "line": {
                            "color": "#E5ECF6",
                            "width": 0.5
                          },
                          "pattern": {
                            "fillmode": "overlay",
                            "size": 10,
                            "solidity": 0.2
                          }
                        },
                        "type": "barpolar"
                      }
                    ],
                    "carpet": [
                      {
                        "aaxis": {
                          "endlinecolor": "#2a3f5f",
                          "gridcolor": "white",
                          "linecolor": "white",
                          "minorgridcolor": "white",
                          "startlinecolor": "#2a3f5f"
                        },
                        "baxis": {
                          "endlinecolor": "#2a3f5f",
                          "gridcolor": "white",
                          "linecolor": "white",
                          "minorgridcolor": "white",
                          "startlinecolor": "#2a3f5f"
                        },
                        "type": "carpet"
                      }
                    ],
                    "choropleth": [
                      {
                        "colorbar": {
                          "outlinewidth": 0,
                          "ticks": ""
                        },
                        "type": "choropleth"
                      }
                    ],
                    "contour": [
                      {
                        "colorbar": {
                          "outlinewidth": 0,
                          "ticks": ""
                        },
                        "colorscale": [
                          [
                            0,
                            "#0d0887"
                          ],
                          [
                            0.1111111111111111,
                            "#46039f"
                          ],
                          [
                            0.2222222222222222,
                            "#7201a8"
                          ],
                          [
                            0.3333333333333333,
                            "#9c179e"
                          ],
                          [
                            0.4444444444444444,
                            "#bd3786"
                          ],
                          [
                            0.5555555555555556,
                            "#d8576b"
                          ],
                          [
                            0.6666666666666666,
                            "#ed7953"
                          ],
                          [
                            0.7777777777777778,
                            "#fb9f3a"
                          ],
                          [
                            0.8888888888888888,
                            "#fdca26"
                          ],
                          [
                            1,
                            "#f0f921"
                          ]
                        ],
                        "type": "contour"
                      }
                    ],
                    "contourcarpet": [
                      {
                        "colorbar": {
                          "outlinewidth": 0,
                          "ticks": ""
                        },
                        "type": "contourcarpet"
                      }
                    ],
                    "heatmap": [
                      {
                        "colorbar": {
                          "outlinewidth": 0,
                          "ticks": ""
                        },
                        "colorscale": [
                          [
                            0,
                            "#0d0887"
                          ],
                          [
                            0.1111111111111111,
                            "#46039f"
                          ],
                          [
                            0.2222222222222222,
                            "#7201a8"
                          ],
                          [
                            0.3333333333333333,
                            "#9c179e"
                          ],
                          [
                            0.4444444444444444,
                            "#bd3786"
                          ],
                          [
                            0.5555555555555556,
                            "#d8576b"
                          ],
                          [
                            0.6666666666666666,
                            "#ed7953"
                          ],
                          [
                            0.7777777777777778,
                            "#fb9f3a"
                          ],
                          [
                            0.8888888888888888,
                            "#fdca26"
                          ],
                          [
                            1,
                            "#f0f921"
                          ]
                        ],
                        "type": "heatmap"
                      }
                    ],
                    "heatmapgl": [
                      {
                        "colorbar": {
                          "outlinewidth": 0,
                          "ticks": ""
                        },
                        "colorscale": [
                          [
                            0,
                            "#0d0887"
                          ],
                          [
                            0.1111111111111111,
                            "#46039f"
                          ],
                          [
                            0.2222222222222222,
                            "#7201a8"
                          ],
                          [
                            0.3333333333333333,
                            "#9c179e"
                          ],
                          [
                            0.4444444444444444,
                            "#bd3786"
                          ],
                          [
                            0.5555555555555556,
                            "#d8576b"
                          ],
                          [
                            0.6666666666666666,
                            "#ed7953"
                          ],
                          [
                            0.7777777777777778,
                            "#fb9f3a"
                          ],
                          [
                            0.8888888888888888,
                            "#fdca26"
                          ],
                          [
                            1,
                            "#f0f921"
                          ]
                        ],
                        "type": "heatmapgl"
                      }
                    ],
                    "histogram": [
                      {
                        "marker": {
                          "pattern": {
                            "fillmode": "overlay",
                            "size": 10,
                            "solidity": 0.2
                          }
                        },
                        "type": "histogram"
                      }
                    ],
                    "histogram2d": [
                      {
                        "colorbar": {
                          "outlinewidth": 0,
                          "ticks": ""
                        },
                        "colorscale": [
                          [
                            0,
                            "#0d0887"
                          ],
                          [
                            0.1111111111111111,
                            "#46039f"
                          ],
                          [
                            0.2222222222222222,
                            "#7201a8"
                          ],
                          [
                            0.3333333333333333,
                            "#9c179e"
                          ],
                          [
                            0.4444444444444444,
                            "#bd3786"
                          ],
                          [
                            0.5555555555555556,
                            "#d8576b"
                          ],
                          [
                            0.6666666666666666,
                            "#ed7953"
                          ],
                          [
                            0.7777777777777778,
                            "#fb9f3a"
                          ],
                          [
                            0.8888888888888888,
                            "#fdca26"
                          ],
                          [
                            1,
                            "#f0f921"
                          ]
                        ],
                        "type": "histogram2d"
                      }
                    ],
                    "histogram2dcontour": [
                      {
                        "colorbar": {
                          "outlinewidth": 0,
                          "ticks": ""
                        },
                        "colorscale": [
                          [
                            0,
                            "#0d0887"
                          ],
                          [
                            0.1111111111111111,
                            "#46039f"
                          ],
                          [
                            0.2222222222222222,
                            "#7201a8"
                          ],
                          [
                            0.3333333333333333,
                            "#9c179e"
                          ],
                          [
                            0.4444444444444444,
                            "#bd3786"
                          ],
                          [
                            0.5555555555555556,
                            "#d8576b"
                          ],
                          [
                            0.6666666666666666,
                            "#ed7953"
                          ],
                          [
                            0.7777777777777778,
                            "#fb9f3a"
                          ],
                          [
                            0.8888888888888888,
                            "#fdca26"
                          ],
                          [
                            1,
                            "#f0f921"
                          ]
                        ],
                        "type": "histogram2dcontour"
                      }
                    ],
                    "mesh3d": [
                      {
                        "colorbar": {
                          "outlinewidth": 0,
                          "ticks": ""
                        },
                        "type": "mesh3d"
                      }
                    ],
                    "parcoords": [
                      {
                        "line": {
                          "colorbar": {
                            "outlinewidth": 0,
                            "ticks": ""
                          }
                        },
                        "type": "parcoords"
                      }
                    ],
                    "pie": [
                      {
                        "automargin": true,
                        "type": "pie"
                      }
                    ],
                    "scatter": [
                      {
                        "fillpattern": {
                          "fillmode": "overlay",
                          "size": 10,
                          "solidity": 0.2
                        },
                        "type": "scatter"
                      }
                    ],
                    "scatter3d": [
                      {
                        "line": {
                          "colorbar": {
                            "outlinewidth": 0,
                            "ticks": ""
                          }
                        },
                        "marker": {
                          "colorbar": {
                            "outlinewidth": 0,
                            "ticks": ""
                          }
                        },
                        "type": "scatter3d"
                      }
                    ],
                    "scattercarpet": [
                      {
                        "marker": {
                          "colorbar": {
                            "outlinewidth": 0,
                            "ticks": ""
                          }
                        },
                        "type": "scattercarpet"
                      }
                    ],
                    "scattergeo": [
                      {
                        "marker": {
                          "colorbar": {
                            "outlinewidth": 0,
                            "ticks": ""
                          }
                        },
                        "type": "scattergeo"
                      }
                    ],
                    "scattergl": [
                      {
                        "marker": {
                          "colorbar": {
                            "outlinewidth": 0,
                            "ticks": ""
                          }
                        },
                        "type": "scattergl"
                      }
                    ],
                    "scattermapbox": [
                      {
                        "marker": {
                          "colorbar": {
                            "outlinewidth": 0,
                            "ticks": ""
                          }
                        },
                        "type": "scattermapbox"
                      }
                    ],
                    "scatterpolar": [
                      {
                        "marker": {
                          "colorbar": {
                            "outlinewidth": 0,
                            "ticks": ""
                          }
                        },
                        "type": "scatterpolar"
                      }
                    ],
                    "scatterpolargl": [
                      {
                        "marker": {
                          "colorbar": {
                            "outlinewidth": 0,
                            "ticks": ""
                          }
                        },
                        "type": "scatterpolargl"
                      }
                    ],
                    "scatterternary": [
                      {
                        "marker": {
                          "colorbar": {
                            "outlinewidth": 0,
                            "ticks": ""
                          }
                        },
                        "type": "scatterternary"
                      }
                    ],
                    "surface": [
                      {
                        "colorbar": {
                          "outlinewidth": 0,
                          "ticks": ""
                        },
                        "colorscale": [
                          [
                            0,
                            "#0d0887"
                          ],
                          [
                            0.1111111111111111,
                            "#46039f"
                          ],
                          [
                            0.2222222222222222,
                            "#7201a8"
                          ],
                          [
                            0.3333333333333333,
                            "#9c179e"
                          ],
                          [
                            0.4444444444444444,
                            "#bd3786"
                          ],
                          [
                            0.5555555555555556,
                            "#d8576b"
                          ],
                          [
                            0.6666666666666666,
                            "#ed7953"
                          ],
                          [
                            0.7777777777777778,
                            "#fb9f3a"
                          ],
                          [
                            0.8888888888888888,
                            "#fdca26"
                          ],
                          [
                            1,
                            "#f0f921"
                          ]
                        ],
                        "type": "surface"
                      }
                    ],
                    "table": [
                      {
                        "cells": {
                          "fill": {
                            "color": "#EBF0F8"
                          },
                          "line": {
                            "color": "white"
                          }
                        },
                        "header": {
                          "fill": {
                            "color": "#C8D4E3"
                          },
                          "line": {
                            "color": "white"
                          }
                        },
                        "type": "table"
                      }
                    ]
                  },
                  "layout": {
                    "annotationdefaults": {
                      "arrowcolor": "#2a3f5f",
                      "arrowhead": 0,
                      "arrowwidth": 1
                    },
                    "autotypenumbers": "strict",
                    "coloraxis": {
                      "colorbar": {
                        "outlinewidth": 0,
                        "ticks": ""
                      }
                    },
                    "colorscale": {
                      "diverging": [
                        [
                          0,
                          "#8e0152"
                        ],
                        [
                          0.1,
                          "#c51b7d"
                        ],
                        [
                          0.2,
                          "#de77ae"
                        ],
                        [
                          0.3,
                          "#f1b6da"
                        ],
                        [
                          0.4,
                          "#fde0ef"
                        ],
                        [
                          0.5,
                          "#f7f7f7"
                        ],
                        [
                          0.6,
                          "#e6f5d0"
                        ],
                        [
                          0.7,
                          "#b8e186"
                        ],
                        [
                          0.8,
                          "#7fbc41"
                        ],
                        [
                          0.9,
                          "#4d9221"
                        ],
                        [
                          1,
                          "#276419"
                        ]
                      ],
                      "sequential": [
                        [
                          0,
                          "#0d0887"
                        ],
                        [
                          0.1111111111111111,
                          "#46039f"
                        ],
                        [
                          0.2222222222222222,
                          "#7201a8"
                        ],
                        [
                          0.3333333333333333,
                          "#9c179e"
                        ],
                        [
                          0.4444444444444444,
                          "#bd3786"
                        ],
                        [
                          0.5555555555555556,
                          "#d8576b"
                        ],
                        [
                          0.6666666666666666,
                          "#ed7953"
                        ],
                        [
                          0.7777777777777778,
                          "#fb9f3a"
                        ],
                        [
                          0.8888888888888888,
                          "#fdca26"
                        ],
                        [
                          1,
                          "#f0f921"
                        ]
                      ],
                      "sequentialminus": [
                        [
                          0,
                          "#0d0887"
                        ],
                        [
                          0.1111111111111111,
                          "#46039f"
                        ],
                        [
                          0.2222222222222222,
                          "#7201a8"
                        ],
                        [
                          0.3333333333333333,
                          "#9c179e"
                        ],
                        [
                          0.4444444444444444,
                          "#bd3786"
                        ],
                        [
                          0.5555555555555556,
                          "#d8576b"
                        ],
                        [
                          0.6666666666666666,
                          "#ed7953"
                        ],
                        [
                          0.7777777777777778,
                          "#fb9f3a"
                        ],
                        [
                          0.8888888888888888,
                          "#fdca26"
                        ],
                        [
                          1,
                          "#f0f921"
                        ]
                      ]
                    },
                    "colorway": [
                      "#636efa",
                      "#EF553B",
                      "#00cc96",
                      "#ab63fa",
                      "#FFA15A",
                      "#19d3f3",
                      "#FF6692",
                      "#B6E880",
                      "#FF97FF",
                      "#FECB52"
                    ],
                    "font": {
                      "color": "#2a3f5f"
                    },
                    "geo": {
                      "bgcolor": "white",
                      "lakecolor": "white",
                      "landcolor": "#E5ECF6",
                      "showlakes": true,
                      "showland": true,
                      "subunitcolor": "white"
                    },
                    "hoverlabel": {
                      "align": "left"
                    },
                    "hovermode": "closest",
                    "mapbox": {
                      "style": "light"
                    },
                    "paper_bgcolor": "white",
                    "plot_bgcolor": "#E5ECF6",
                    "polar": {
                      "angularaxis": {
                        "gridcolor": "white",
                        "linecolor": "white",
                        "ticks": ""
                      },
                      "bgcolor": "#E5ECF6",
                      "radialaxis": {
                        "gridcolor": "white",
                        "linecolor": "white",
                        "ticks": ""
                      }
                    },
                    "scene": {
                      "xaxis": {
                        "backgroundcolor": "#E5ECF6",
                        "gridcolor": "white",
                        "gridwidth": 2,
                        "linecolor": "white",
                        "showbackground": true,
                        "ticks": "",
                        "zerolinecolor": "white"
                      },
                      "yaxis": {
                        "backgroundcolor": "#E5ECF6",
                        "gridcolor": "white",
                        "gridwidth": 2,
                        "linecolor": "white",
                        "showbackground": true,
                        "ticks": "",
                        "zerolinecolor": "white"
                      },
                      "zaxis": {
                        "backgroundcolor": "#E5ECF6",
                        "gridcolor": "white",
                        "gridwidth": 2,
                        "linecolor": "white",
                        "showbackground": true,
                        "ticks": "",
                        "zerolinecolor": "white"
                      }
                    },
                    "shapedefaults": {
                      "line": {
                        "color": "#2a3f5f"
                      }
                    },
                    "ternary": {
                      "aaxis": {
                        "gridcolor": "white",
                        "linecolor": "white",
                        "ticks": ""
                      },
                      "baxis": {
                        "gridcolor": "white",
                        "linecolor": "white",
                        "ticks": ""
                      },
                      "bgcolor": "#E5ECF6",
                      "caxis": {
                        "gridcolor": "white",
                        "linecolor": "white",
                        "ticks": ""
                      }
                    },
                    "title": {
                      "x": 0.05
                    },
                    "xaxis": {
                      "automargin": true,
                      "gridcolor": "white",
                      "linecolor": "white",
                      "ticks": "",
                      "title": {
                        "standoff": 15
                      },
                      "zerolinecolor": "white",
                      "zerolinewidth": 2
                    },
                    "yaxis": {
                      "automargin": true,
                      "gridcolor": "white",
                      "linecolor": "white",
                      "ticks": "",
                      "title": {
                        "standoff": 15
                      },
                      "zerolinecolor": "white",
                      "zerolinewidth": 2
                    }
                  }
                },
                "title": {
                  "text": "<b>Total Customer by Cluster</b>",
                  "x": 0.5,
                  "xanchor": "center"
                },
                "width": 1200,
                "xaxis": {
                  "title": {
                    "text": "Cluster Name"
                  }
                },
                "yaxis": {
                  "title": {
                    "text": "Total Customer"
                  }
                }
              }
            }
          },
          "metadata": {},
          "output_type": "display_data"
        }
      ],
      "source": [
        "#adding your own pick colors\n",
        "colors = ['#751a5c','#ab7338','#d1b21f',] * 3\n",
        "\n",
        "#creating bar chart\n",
        "fig15 = go.Figure(data = [go.Bar(x = vis_cluster2['Name'], y = vis_cluster2['Count'], \n",
        "                                marker_color = colors)])      #<<< apply colors\n",
        "#chart visual layout, adding title and size\n",
        "fig15.update_layout(title = {'text' : '<b>Total Customer by Cluster</b>', \n",
        "                            #title position\n",
        "                            'x':0.5, 'xanchor': 'center'}, \n",
        "                   #autosize must False if you want to personalize chart size\n",
        "                   xaxis_title=\"Cluster Name\",\n",
        "                   yaxis_title=\"Total Customer\",\n",
        "                   autosize = False, width = 1200, height = 500,\n",
        "                   margin = dict(l = 50, r = 50, t = 50, b = 50))\n",
        "fig15.show()"
      ]
    },
    {
      "cell_type": "code",
      "execution_count": 73,
      "metadata": {
        "colab": {
          "base_uri": "https://localhost:8080/",
          "height": 276
        },
        "id": "i2Bz1XEDTxFy",
        "outputId": "88f57f77-8088-4e93-b508-4c61ea7efe10"
      },
      "outputs": [
        {
          "name": "stderr",
          "output_type": "stream",
          "text": [
            "<ipython-input-73-381687e47b37>:1: FutureWarning:\n",
            "\n",
            "Indexing with multiple keys (implicitly converted to a tuple of keys) will be deprecated, use a list instead.\n",
            "\n"
          ]
        },
        {
          "data": {
            "text/html": [
              "<div>\n",
              "<style scoped>\n",
              "    .dataframe tbody tr th:only-of-type {\n",
              "        vertical-align: middle;\n",
              "    }\n",
              "\n",
              "    .dataframe tbody tr th {\n",
              "        vertical-align: top;\n",
              "    }\n",
              "\n",
              "    .dataframe thead tr th {\n",
              "        text-align: left;\n",
              "    }\n",
              "\n",
              "    .dataframe thead tr:last-of-type th {\n",
              "        text-align: right;\n",
              "    }\n",
              "</style>\n",
              "<table border=\"1\" class=\"dataframe\">\n",
              "  <thead>\n",
              "    <tr>\n",
              "      <th></th>\n",
              "      <th colspan=\"5\" halign=\"left\">Recency</th>\n",
              "      <th colspan=\"5\" halign=\"left\">Frequency</th>\n",
              "      <th colspan=\"5\" halign=\"left\">Monetary</th>\n",
              "    </tr>\n",
              "    <tr>\n",
              "      <th></th>\n",
              "      <th>count</th>\n",
              "      <th>mean</th>\n",
              "      <th>median</th>\n",
              "      <th>max</th>\n",
              "      <th>min</th>\n",
              "      <th>count</th>\n",
              "      <th>mean</th>\n",
              "      <th>median</th>\n",
              "      <th>max</th>\n",
              "      <th>min</th>\n",
              "      <th>count</th>\n",
              "      <th>mean</th>\n",
              "      <th>median</th>\n",
              "      <th>max</th>\n",
              "      <th>min</th>\n",
              "    </tr>\n",
              "    <tr>\n",
              "      <th>cluster</th>\n",
              "      <th></th>\n",
              "      <th></th>\n",
              "      <th></th>\n",
              "      <th></th>\n",
              "      <th></th>\n",
              "      <th></th>\n",
              "      <th></th>\n",
              "      <th></th>\n",
              "      <th></th>\n",
              "      <th></th>\n",
              "      <th></th>\n",
              "      <th></th>\n",
              "      <th></th>\n",
              "      <th></th>\n",
              "      <th></th>\n",
              "    </tr>\n",
              "  </thead>\n",
              "  <tbody>\n",
              "    <tr>\n",
              "      <th>0</th>\n",
              "      <td>33231</td>\n",
              "      <td>1695.387861</td>\n",
              "      <td>1696.0</td>\n",
              "      <td>1781</td>\n",
              "      <td>1609</td>\n",
              "      <td>33231</td>\n",
              "      <td>1.035900</td>\n",
              "      <td>1.0</td>\n",
              "      <td>15</td>\n",
              "      <td>1</td>\n",
              "      <td>33231</td>\n",
              "      <td>118.907432</td>\n",
              "      <td>99.900</td>\n",
              "      <td>1122.72</td>\n",
              "      <td>0.01</td>\n",
              "    </tr>\n",
              "    <tr>\n",
              "      <th>1</th>\n",
              "      <td>20210</td>\n",
              "      <td>2065.412271</td>\n",
              "      <td>2058.0</td>\n",
              "      <td>2303</td>\n",
              "      <td>1964</td>\n",
              "      <td>20210</td>\n",
              "      <td>1.025829</td>\n",
              "      <td>1.0</td>\n",
              "      <td>6</td>\n",
              "      <td>1</td>\n",
              "      <td>20210</td>\n",
              "      <td>113.087643</td>\n",
              "      <td>93.575</td>\n",
              "      <td>746.28</td>\n",
              "      <td>0.01</td>\n",
              "    </tr>\n",
              "    <tr>\n",
              "      <th>2</th>\n",
              "      <td>32745</td>\n",
              "      <td>1863.036128</td>\n",
              "      <td>1865.0</td>\n",
              "      <td>1967</td>\n",
              "      <td>1779</td>\n",
              "      <td>32745</td>\n",
              "      <td>1.033013</td>\n",
              "      <td>1.0</td>\n",
              "      <td>8</td>\n",
              "      <td>1</td>\n",
              "      <td>32745</td>\n",
              "      <td>117.137718</td>\n",
              "      <td>97.870</td>\n",
              "      <td>925.62</td>\n",
              "      <td>0.01</td>\n",
              "    </tr>\n",
              "  </tbody>\n",
              "</table>\n",
              "</div>"
            ],
            "text/plain": [
              "        Recency                                  Frequency                   \\\n",
              "          count         mean  median   max   min     count      mean median   \n",
              "cluster                                                                       \n",
              "0         33231  1695.387861  1696.0  1781  1609     33231  1.035900    1.0   \n",
              "1         20210  2065.412271  2058.0  2303  1964     20210  1.025829    1.0   \n",
              "2         32745  1863.036128  1865.0  1967  1779     32745  1.033013    1.0   \n",
              "\n",
              "                Monetary                                     \n",
              "        max min    count        mean  median      max   min  \n",
              "cluster                                                      \n",
              "0        15   1    33231  118.907432  99.900  1122.72  0.01  \n",
              "1         6   1    20210  113.087643  93.575   746.28  0.01  \n",
              "2         8   1    32745  117.137718  97.870   925.62  0.01  "
            ]
          },
          "execution_count": 73,
          "metadata": {},
          "output_type": "execute_result"
        }
      ],
      "source": [
        "rfm_df.groupby('cluster')['Recency','Frequency','Monetary'].agg(['count','mean','median','max','min'])"
      ]
    },
    {
      "cell_type": "code",
      "execution_count": 74,
      "metadata": {
        "colab": {
          "base_uri": "https://localhost:8080/",
          "height": 296
        },
        "id": "gHJEg8vxT4P-",
        "outputId": "d627154f-c797-453e-cfdf-1ff26c171eb8"
      },
      "outputs": [
        {
          "data": {
            "text/plain": [
              "<AxesSubplot: xlabel='cluster', ylabel='Recency'>"
            ]
          },
          "execution_count": 74,
          "metadata": {},
          "output_type": "execute_result"
        },
        {
          "data": {
            "image/png": "[encoded data removed]",
            "text/plain": [
              "<Figure size 640x480 with 1 Axes>"
            ]
          },
          "metadata": {},
          "output_type": "display_data"
        }
      ],
      "source": [
        "sns.boxplot(x='cluster', y='Recency', data=rfm_df)"
      ]
    },
    {
      "cell_type": "code",
      "execution_count": 75,
      "metadata": {
        "colab": {
          "base_uri": "https://localhost:8080/",
          "height": 296
        },
        "id": "lvTP5L4UUMI3",
        "outputId": "91248dd2-7bba-4cf1-f1b6-9912378ab997"
      },
      "outputs": [
        {
          "data": {
            "text/plain": [
              "<AxesSubplot: xlabel='cluster', ylabel='Frequency'>"
            ]
          },
          "execution_count": 75,
          "metadata": {},
          "output_type": "execute_result"
        },
        {
          "data": {
            "image/png": "[encoded data removed]",
            "text/plain": [
              "<Figure size 640x480 with 1 Axes>"
            ]
          },
          "metadata": {},
          "output_type": "display_data"
        }
      ],
      "source": [
        "sns.boxplot(x='cluster', y='Frequency', data=rfm_df)"
      ]
    },
    {
      "cell_type": "code",
      "execution_count": 76,
      "metadata": {
        "colab": {
          "base_uri": "https://localhost:8080/",
          "height": 296
        },
        "id": "XkAmiKE0UQI3",
        "outputId": "4d1f11d1-5100-44fb-db74-c3fc3c2b4880"
      },
      "outputs": [
        {
          "data": {
            "text/plain": [
              "<AxesSubplot: xlabel='cluster', ylabel='Monetary'>"
            ]
          },
          "execution_count": 76,
          "metadata": {},
          "output_type": "execute_result"
        },
        {
          "data": {
            "image/png": "[encoded data removed]",
            "text/plain": [
              "<Figure size 640x480 with 1 Axes>"
            ]
          },
          "metadata": {},
          "output_type": "display_data"
        }
      ],
      "source": [
        "sns.boxplot(x='cluster', y='Monetary', data=rfm_df)"
      ]
    },
    {
      "cell_type": "markdown",
      "metadata": {
        "id": "iCz5_6yWCqzr"
      },
      "source": [
        "##Makes Quantile to divide each value"
      ]
    },
    {
      "cell_type": "code",
      "execution_count": 77,
      "metadata": {
        "colab": {
          "base_uri": "https://localhost:8080/"
        },
        "id": "1BMukmHdA7E9",
        "outputId": "3092d5cb-312b-456d-bffa-99bf47c05329"
      },
      "outputs": [
        {
          "name": "stderr",
          "output_type": "stream",
          "text": [
            "<ipython-input-77-72b3a52f7e5c>:1: FutureWarning:\n",
            "\n",
            "The default value of numeric_only in DataFrame.quantile is deprecated. In a future version, it will default to False. Select only valid columns or specify the value of numeric_only to silence this warning.\n",
            "\n"
          ]
        },
        {
          "data": {
            "text/plain": [
              "{'Recency': {0.33: 1756.0, 0.67: 1899.0, 1.0: 2303.0},\n",
              " 'Frequency': {0.33: 1.0, 0.67: 1.0, 1.0: 15.0},\n",
              " 'Monetary': {0.33: 68.89, 0.67: 135.49, 1.0: 1122.72},\n",
              " 'cluster': {0.33: 0.0, 0.67: 2.0, 1.0: 2.0}}"
            ]
          },
          "execution_count": 77,
          "metadata": {},
          "output_type": "execute_result"
        }
      ],
      "source": [
        "quantiles = rfm_df.quantile(q=[0.33,0.67,1])\n",
        "quantiles.to_dict()"
      ]
    },
    {
      "cell_type": "markdown",
      "metadata": {
        "id": "eLqlQW2EC5kJ"
      },
      "source": [
        "##Create function as per appropriate quantile and convert it into each segment"
      ]
    },
    {
      "cell_type": "code",
      "execution_count": 78,
      "metadata": {
        "id": "yxnHQEf1A898"
      },
      "outputs": [],
      "source": [
        "def RScore(x,p,d):\n",
        "    if x <= d[p][0.33]:\n",
        "        return 3\n",
        "    elif x <= d[p][0.67]:\n",
        "        return 2\n",
        "    else:\n",
        "        return 1\n",
        "# Arguments (x = value, p = recency, monetary_value, frequency, k = quartiles dict)\n",
        "def FMScore(x,p,d):\n",
        "    if x <= d[p][0.33]:\n",
        "        return 1\n",
        "    elif x <= d[p][0.67]:\n",
        "        return 2\n",
        "    else:\n",
        "        return 3"
      ]
    },
    {
      "cell_type": "code",
      "execution_count": 79,
      "metadata": {
        "id": "6wN9BmLUA_bV"
      },
      "outputs": [],
      "source": [
        "#create rfm segmentation table\n",
        "rfm_segmentation = rfm_df\n",
        "rfm_segmentation['R_Quartile'] = rfm_segmentation['Recency'].apply(RScore, args=('Recency',quantiles,))\n",
        "rfm_segmentation['F_Quartile'] = rfm_segmentation['Frequency'].apply(FMScore, args=('Frequency',quantiles,))\n",
        "rfm_segmentation['M_Quartile'] = rfm_segmentation['Monetary'].apply(FMScore, args=('Monetary',quantiles,))"
      ]
    },
    {
      "cell_type": "markdown",
      "metadata": {
        "id": "Val1HbJtDFKD"
      },
      "source": [
        "Merge all 3 category to create RFMScore"
      ]
    },
    {
      "cell_type": "code",
      "execution_count": 80,
      "metadata": {
        "colab": {
          "base_uri": "https://localhost:8080/",
          "height": 237
        },
        "id": "0kJUgNBVpj9D",
        "outputId": "0c8abc7b-4446-499a-e64c-a2a7365af9ab"
      },
      "outputs": [
        {
          "data": {
            "text/html": [
              "<div>\n",
              "<style scoped>\n",
              "    .dataframe tbody tr th:only-of-type {\n",
              "        vertical-align: middle;\n",
              "    }\n",
              "\n",
              "    .dataframe tbody tr th {\n",
              "        vertical-align: top;\n",
              "    }\n",
              "\n",
              "    .dataframe thead th {\n",
              "        text-align: right;\n",
              "    }\n",
              "</style>\n",
              "<table border=\"1\" class=\"dataframe\">\n",
              "  <thead>\n",
              "    <tr style=\"text-align: right;\">\n",
              "      <th></th>\n",
              "      <th>customer_unique_id</th>\n",
              "      <th>Recency</th>\n",
              "      <th>Frequency</th>\n",
              "      <th>Monetary</th>\n",
              "      <th>cluster</th>\n",
              "      <th>R_Quartile</th>\n",
              "      <th>F_Quartile</th>\n",
              "      <th>M_Quartile</th>\n",
              "      <th>RFMScore</th>\n",
              "    </tr>\n",
              "  </thead>\n",
              "  <tbody>\n",
              "    <tr>\n",
              "      <th>0</th>\n",
              "      <td>0000366f3b9a7992bf8c76cfdf3221e2</td>\n",
              "      <td>1720</td>\n",
              "      <td>1</td>\n",
              "      <td>141.90</td>\n",
              "      <td>0</td>\n",
              "      <td>3</td>\n",
              "      <td>1</td>\n",
              "      <td>3</td>\n",
              "      <td>313</td>\n",
              "    </tr>\n",
              "    <tr>\n",
              "      <th>1</th>\n",
              "      <td>0000b849f77a49e4a4ce2b2a4ca5be3f</td>\n",
              "      <td>1723</td>\n",
              "      <td>1</td>\n",
              "      <td>27.19</td>\n",
              "      <td>0</td>\n",
              "      <td>3</td>\n",
              "      <td>1</td>\n",
              "      <td>1</td>\n",
              "      <td>311</td>\n",
              "    </tr>\n",
              "    <tr>\n",
              "      <th>2</th>\n",
              "      <td>0000f46a3911fa3c0805444483337064</td>\n",
              "      <td>2146</td>\n",
              "      <td>1</td>\n",
              "      <td>86.22</td>\n",
              "      <td>1</td>\n",
              "      <td>1</td>\n",
              "      <td>1</td>\n",
              "      <td>2</td>\n",
              "      <td>112</td>\n",
              "    </tr>\n",
              "    <tr>\n",
              "      <th>3</th>\n",
              "      <td>0000f6ccb0745a6a4b88665a16c9f078</td>\n",
              "      <td>1930</td>\n",
              "      <td>1</td>\n",
              "      <td>43.62</td>\n",
              "      <td>2</td>\n",
              "      <td>1</td>\n",
              "      <td>1</td>\n",
              "      <td>1</td>\n",
              "      <td>111</td>\n",
              "    </tr>\n",
              "    <tr>\n",
              "      <th>4</th>\n",
              "      <td>0004aac84e0df4da2b147fca70cf8255</td>\n",
              "      <td>1897</td>\n",
              "      <td>1</td>\n",
              "      <td>196.89</td>\n",
              "      <td>2</td>\n",
              "      <td>2</td>\n",
              "      <td>1</td>\n",
              "      <td>3</td>\n",
              "      <td>213</td>\n",
              "    </tr>\n",
              "  </tbody>\n",
              "</table>\n",
              "</div>"
            ],
            "text/plain": [
              "                 customer_unique_id  Recency  Frequency  Monetary  cluster  \\\n",
              "0  0000366f3b9a7992bf8c76cfdf3221e2     1720          1    141.90        0   \n",
              "1  0000b849f77a49e4a4ce2b2a4ca5be3f     1723          1     27.19        0   \n",
              "2  0000f46a3911fa3c0805444483337064     2146          1     86.22        1   \n",
              "3  0000f6ccb0745a6a4b88665a16c9f078     1930          1     43.62        2   \n",
              "4  0004aac84e0df4da2b147fca70cf8255     1897          1    196.89        2   \n",
              "\n",
              "   R_Quartile  F_Quartile  M_Quartile RFMScore  \n",
              "0           3           1           3      313  \n",
              "1           3           1           1      311  \n",
              "2           1           1           2      112  \n",
              "3           1           1           1      111  \n",
              "4           2           1           3      213  "
            ]
          },
          "execution_count": 80,
          "metadata": {},
          "output_type": "execute_result"
        }
      ],
      "source": [
        "rfm_segmentation['RFMScore'] = rfm_segmentation.R_Quartile.map(str) \\\n",
        "                            + rfm_segmentation.F_Quartile.map(str) \\\n",
        "                            + rfm_segmentation.M_Quartile.map(str)\n",
        "rfm_segmentation.head()"
      ]
    },
    {
      "cell_type": "code",
      "execution_count": 81,
      "metadata": {},
      "outputs": [
        {
          "data": {
            "text/html": [
              "<div>\n",
              "<style scoped>\n",
              "    .dataframe tbody tr th:only-of-type {\n",
              "        vertical-align: middle;\n",
              "    }\n",
              "\n",
              "    .dataframe tbody tr th {\n",
              "        vertical-align: top;\n",
              "    }\n",
              "\n",
              "    .dataframe thead th {\n",
              "        text-align: right;\n",
              "    }\n",
              "</style>\n",
              "<table border=\"1\" class=\"dataframe\">\n",
              "  <thead>\n",
              "    <tr style=\"text-align: right;\">\n",
              "      <th></th>\n",
              "      <th>customer_unique_id</th>\n",
              "      <th>Recency</th>\n",
              "      <th>Frequency</th>\n",
              "      <th>Monetary</th>\n",
              "      <th>cluster</th>\n",
              "      <th>R_Quartile</th>\n",
              "      <th>F_Quartile</th>\n",
              "      <th>M_Quartile</th>\n",
              "      <th>RFMScore</th>\n",
              "      <th>R_rank</th>\n",
              "      <th>F_rank</th>\n",
              "      <th>M_rank</th>\n",
              "      <th>R_rank_norm</th>\n",
              "      <th>F_rank_norm</th>\n",
              "      <th>M_rank_norm</th>\n",
              "      <th>RFM_Score</th>\n",
              "    </tr>\n",
              "  </thead>\n",
              "  <tbody>\n",
              "    <tr>\n",
              "      <th>0</th>\n",
              "      <td>0000366f3b9a7992bf8c76cfdf3221e2</td>\n",
              "      <td>1720</td>\n",
              "      <td>1</td>\n",
              "      <td>142.0</td>\n",
              "      <td>0</td>\n",
              "      <td>3</td>\n",
              "      <td>1</td>\n",
              "      <td>3</td>\n",
              "      <td>313</td>\n",
              "      <td>65470.0</td>\n",
              "      <td>41833.0</td>\n",
              "      <td>59953.0</td>\n",
              "      <td>76.0</td>\n",
              "      <td>49.0</td>\n",
              "      <td>49.0</td>\n",
              "      <td>53.0</td>\n",
              "    </tr>\n",
              "    <tr>\n",
              "      <th>1</th>\n",
              "      <td>0000b849f77a49e4a4ce2b2a4ca5be3f</td>\n",
              "      <td>1723</td>\n",
              "      <td>1</td>\n",
              "      <td>27.0</td>\n",
              "      <td>0</td>\n",
              "      <td>3</td>\n",
              "      <td>1</td>\n",
              "      <td>1</td>\n",
              "      <td>311</td>\n",
              "      <td>64496.0</td>\n",
              "      <td>41833.0</td>\n",
              "      <td>3016.0</td>\n",
              "      <td>75.0</td>\n",
              "      <td>49.0</td>\n",
              "      <td>49.0</td>\n",
              "      <td>52.0</td>\n",
              "    </tr>\n",
              "    <tr>\n",
              "      <th>2</th>\n",
              "      <td>0000f46a3911fa3c0805444483337064</td>\n",
              "      <td>2146</td>\n",
              "      <td>1</td>\n",
              "      <td>86.0</td>\n",
              "      <td>1</td>\n",
              "      <td>1</td>\n",
              "      <td>1</td>\n",
              "      <td>2</td>\n",
              "      <td>112</td>\n",
              "      <td>2930.0</td>\n",
              "      <td>41833.0</td>\n",
              "      <td>37810.0</td>\n",
              "      <td>3.0</td>\n",
              "      <td>49.0</td>\n",
              "      <td>49.0</td>\n",
              "      <td>42.0</td>\n",
              "    </tr>\n",
              "    <tr>\n",
              "      <th>3</th>\n",
              "      <td>0000f6ccb0745a6a4b88665a16c9f078</td>\n",
              "      <td>1930</td>\n",
              "      <td>1</td>\n",
              "      <td>44.0</td>\n",
              "      <td>2</td>\n",
              "      <td>1</td>\n",
              "      <td>1</td>\n",
              "      <td>1</td>\n",
              "      <td>111</td>\n",
              "      <td>24530.0</td>\n",
              "      <td>41833.0</td>\n",
              "      <td>12538.0</td>\n",
              "      <td>28.0</td>\n",
              "      <td>49.0</td>\n",
              "      <td>49.0</td>\n",
              "      <td>46.0</td>\n",
              "    </tr>\n",
              "    <tr>\n",
              "      <th>4</th>\n",
              "      <td>0004aac84e0df4da2b147fca70cf8255</td>\n",
              "      <td>1897</td>\n",
              "      <td>1</td>\n",
              "      <td>197.0</td>\n",
              "      <td>2</td>\n",
              "      <td>2</td>\n",
              "      <td>1</td>\n",
              "      <td>3</td>\n",
              "      <td>213</td>\n",
              "      <td>28769.0</td>\n",
              "      <td>41833.0</td>\n",
              "      <td>73354.0</td>\n",
              "      <td>33.0</td>\n",
              "      <td>49.0</td>\n",
              "      <td>49.0</td>\n",
              "      <td>46.0</td>\n",
              "    </tr>\n",
              "  </tbody>\n",
              "</table>\n",
              "</div>"
            ],
            "text/plain": [
              "                 customer_unique_id  Recency  Frequency  Monetary  cluster  \\\n",
              "0  0000366f3b9a7992bf8c76cfdf3221e2     1720          1     142.0        0   \n",
              "1  0000b849f77a49e4a4ce2b2a4ca5be3f     1723          1      27.0        0   \n",
              "2  0000f46a3911fa3c0805444483337064     2146          1      86.0        1   \n",
              "3  0000f6ccb0745a6a4b88665a16c9f078     1930          1      44.0        2   \n",
              "4  0004aac84e0df4da2b147fca70cf8255     1897          1     197.0        2   \n",
              "\n",
              "   R_Quartile  F_Quartile  M_Quartile RFMScore   R_rank   F_rank   M_rank  \\\n",
              "0           3           1           3      313  65470.0  41833.0  59953.0   \n",
              "1           3           1           1      311  64496.0  41833.0   3016.0   \n",
              "2           1           1           2      112   2930.0  41833.0  37810.0   \n",
              "3           1           1           1      111  24530.0  41833.0  12538.0   \n",
              "4           2           1           3      213  28769.0  41833.0  73354.0   \n",
              "\n",
              "   R_rank_norm  F_rank_norm  M_rank_norm  RFM_Score  \n",
              "0         76.0         49.0         49.0       53.0  \n",
              "1         75.0         49.0         49.0       52.0  \n",
              "2          3.0         49.0         49.0       42.0  \n",
              "3         28.0         49.0         49.0       46.0  \n",
              "4         33.0         49.0         49.0       46.0  "
            ]
          },
          "execution_count": 81,
          "metadata": {},
          "output_type": "execute_result"
        }
      ],
      "source": [
        "rfm_segmentation['R_rank'] = rfm_segmentation['Recency'].rank( ascending=False)\n",
        "rfm_segmentation['F_rank'] = rfm_segmentation['Frequency'].rank(ascending=True)\n",
        "rfm_segmentation['M_rank'] = rfm_segmentation['Monetary'].rank(ascending=True)\n",
        "rfm_segmentation.head()\n",
        "# normalize each rank with Max rank\n",
        "rfm_segmentation['R_rank_norm']=(rfm_segmentation['R_rank']/rfm_segmentation['R_rank'].max())*100\n",
        "rfm_segmentation['F_rank_norm']=(rfm_segmentation['F_rank']/rfm_segmentation['F_rank'].max())*100\n",
        "rfm_segmentation['M_rank_norm']=(rfm_segmentation['F_rank']/rfm_segmentation['M_rank'].max())*100\n",
        "rfm_segmentation.head()\n",
        "# Now apply our equation and create final score **Consolidated Score = 0.15*R_rank_norm + 0.28*F_rank_norm + 0.57M_rank_norm**\n",
        "rfm_segmentation['RFM_Score']=0.15*rfm_segmentation['R_rank_norm']+0.28*rfm_segmentation['F_rank_norm']+0.57*rfm_segmentation['M_rank_norm']\n",
        "rfm_segmentation=rfm_segmentation.round(0)\n",
        "rfm_segmentation.head()\n",
        "#rfm.drop(columns=['R_rank', 'F_rank', 'M_rank'], inplace=True)\n",
        "#rfm.head()"
      ]
    },
    {
      "cell_type": "code",
      "execution_count": 82,
      "metadata": {},
      "outputs": [
        {
          "data": {
            "text/html": [
              "<div>\n",
              "<style scoped>\n",
              "    .dataframe tbody tr th:only-of-type {\n",
              "        vertical-align: middle;\n",
              "    }\n",
              "\n",
              "    .dataframe tbody tr th {\n",
              "        vertical-align: top;\n",
              "    }\n",
              "\n",
              "    .dataframe thead th {\n",
              "        text-align: right;\n",
              "    }\n",
              "</style>\n",
              "<table border=\"1\" class=\"dataframe\">\n",
              "  <thead>\n",
              "    <tr style=\"text-align: right;\">\n",
              "      <th></th>\n",
              "      <th>customer_unique_id</th>\n",
              "      <th>Recency</th>\n",
              "      <th>Frequency</th>\n",
              "      <th>Monetary</th>\n",
              "      <th>cluster</th>\n",
              "      <th>R_Quartile</th>\n",
              "      <th>F_Quartile</th>\n",
              "      <th>M_Quartile</th>\n",
              "      <th>RFMScore</th>\n",
              "      <th>R_rank</th>\n",
              "      <th>F_rank</th>\n",
              "      <th>M_rank</th>\n",
              "      <th>R_rank_norm</th>\n",
              "      <th>F_rank_norm</th>\n",
              "      <th>M_rank_norm</th>\n",
              "      <th>RFM_Score</th>\n",
              "      <th>Customer_segment</th>\n",
              "    </tr>\n",
              "  </thead>\n",
              "  <tbody>\n",
              "    <tr>\n",
              "      <th>0</th>\n",
              "      <td>0000366f3b9a7992bf8c76cfdf3221e2</td>\n",
              "      <td>1720</td>\n",
              "      <td>1</td>\n",
              "      <td>142.0</td>\n",
              "      <td>0</td>\n",
              "      <td>3</td>\n",
              "      <td>1</td>\n",
              "      <td>3</td>\n",
              "      <td>313</td>\n",
              "      <td>65470.0</td>\n",
              "      <td>41833.0</td>\n",
              "      <td>59953.0</td>\n",
              "      <td>76.0</td>\n",
              "      <td>49.0</td>\n",
              "      <td>49.0</td>\n",
              "      <td>53.0</td>\n",
              "      <td>Medium Value Customer</td>\n",
              "    </tr>\n",
              "    <tr>\n",
              "      <th>1</th>\n",
              "      <td>0000b849f77a49e4a4ce2b2a4ca5be3f</td>\n",
              "      <td>1723</td>\n",
              "      <td>1</td>\n",
              "      <td>27.0</td>\n",
              "      <td>0</td>\n",
              "      <td>3</td>\n",
              "      <td>1</td>\n",
              "      <td>1</td>\n",
              "      <td>311</td>\n",
              "      <td>64496.0</td>\n",
              "      <td>41833.0</td>\n",
              "      <td>3016.0</td>\n",
              "      <td>75.0</td>\n",
              "      <td>49.0</td>\n",
              "      <td>49.0</td>\n",
              "      <td>52.0</td>\n",
              "      <td>Medium Value Customer</td>\n",
              "    </tr>\n",
              "    <tr>\n",
              "      <th>2</th>\n",
              "      <td>0000f46a3911fa3c0805444483337064</td>\n",
              "      <td>2146</td>\n",
              "      <td>1</td>\n",
              "      <td>86.0</td>\n",
              "      <td>1</td>\n",
              "      <td>1</td>\n",
              "      <td>1</td>\n",
              "      <td>2</td>\n",
              "      <td>112</td>\n",
              "      <td>2930.0</td>\n",
              "      <td>41833.0</td>\n",
              "      <td>37810.0</td>\n",
              "      <td>3.0</td>\n",
              "      <td>49.0</td>\n",
              "      <td>49.0</td>\n",
              "      <td>42.0</td>\n",
              "      <td>Low value Customer</td>\n",
              "    </tr>\n",
              "    <tr>\n",
              "      <th>3</th>\n",
              "      <td>0000f6ccb0745a6a4b88665a16c9f078</td>\n",
              "      <td>1930</td>\n",
              "      <td>1</td>\n",
              "      <td>44.0</td>\n",
              "      <td>2</td>\n",
              "      <td>1</td>\n",
              "      <td>1</td>\n",
              "      <td>1</td>\n",
              "      <td>111</td>\n",
              "      <td>24530.0</td>\n",
              "      <td>41833.0</td>\n",
              "      <td>12538.0</td>\n",
              "      <td>28.0</td>\n",
              "      <td>49.0</td>\n",
              "      <td>49.0</td>\n",
              "      <td>46.0</td>\n",
              "      <td>Low value Customer</td>\n",
              "    </tr>\n",
              "    <tr>\n",
              "      <th>4</th>\n",
              "      <td>0004aac84e0df4da2b147fca70cf8255</td>\n",
              "      <td>1897</td>\n",
              "      <td>1</td>\n",
              "      <td>197.0</td>\n",
              "      <td>2</td>\n",
              "      <td>2</td>\n",
              "      <td>1</td>\n",
              "      <td>3</td>\n",
              "      <td>213</td>\n",
              "      <td>28769.0</td>\n",
              "      <td>41833.0</td>\n",
              "      <td>73354.0</td>\n",
              "      <td>33.0</td>\n",
              "      <td>49.0</td>\n",
              "      <td>49.0</td>\n",
              "      <td>46.0</td>\n",
              "      <td>Low value Customer</td>\n",
              "    </tr>\n",
              "  </tbody>\n",
              "</table>\n",
              "</div>"
            ],
            "text/plain": [
              "                 customer_unique_id  Recency  Frequency  Monetary  cluster  \\\n",
              "0  0000366f3b9a7992bf8c76cfdf3221e2     1720          1     142.0        0   \n",
              "1  0000b849f77a49e4a4ce2b2a4ca5be3f     1723          1      27.0        0   \n",
              "2  0000f46a3911fa3c0805444483337064     2146          1      86.0        1   \n",
              "3  0000f6ccb0745a6a4b88665a16c9f078     1930          1      44.0        2   \n",
              "4  0004aac84e0df4da2b147fca70cf8255     1897          1     197.0        2   \n",
              "\n",
              "   R_Quartile  F_Quartile  M_Quartile RFMScore   R_rank   F_rank   M_rank  \\\n",
              "0           3           1           3      313  65470.0  41833.0  59953.0   \n",
              "1           3           1           1      311  64496.0  41833.0   3016.0   \n",
              "2           1           1           2      112   2930.0  41833.0  37810.0   \n",
              "3           1           1           1      111  24530.0  41833.0  12538.0   \n",
              "4           2           1           3      213  28769.0  41833.0  73354.0   \n",
              "\n",
              "   R_rank_norm  F_rank_norm  M_rank_norm  RFM_Score       Customer_segment  \n",
              "0         76.0         49.0         49.0       53.0  Medium Value Customer  \n",
              "1         75.0         49.0         49.0       52.0  Medium Value Customer  \n",
              "2          3.0         49.0         49.0       42.0     Low value Customer  \n",
              "3         28.0         49.0         49.0       46.0     Low value Customer  \n",
              "4         33.0         49.0         49.0       46.0     Low value Customer  "
            ]
          },
          "execution_count": 82,
          "metadata": {},
          "output_type": "execute_result"
        }
      ],
      "source": [
        "rfm_segmentation[\"Customer_segment\"]=np.where(rfm_segmentation['RFM_Score'] > 75 ,\"High Value Customer\",\n",
        "(np.where(rfm_segmentation['RFM_Score'] < 50 , \"Low value Customer\" ,\n",
        "\"Medium Value Customer\")))\n",
        "rfm_segmentation.head()"
      ]
    },
    {
      "cell_type": "code",
      "execution_count": 83,
      "metadata": {},
      "outputs": [
        {
          "data": {
            "image/png": "[encoded data removed]",
            "text/plain": [
              "<Figure size 1000x1000 with 1 Axes>"
            ]
          },
          "metadata": {},
          "output_type": "display_data"
        }
      ],
      "source": [
        "# Visualizing the customer segments\n",
        "fig1 = plt.figure(figsize = (10,10))\n",
        "fig1.suptitle('Segmentation',fontsize = 16)\n",
        "plt.rcParams['font.size'] = '16'\n",
        "plt.pie(rfm_segmentation['Customer_segment'].value_counts(),\n",
        "\t\tlabels=rfm_segmentation['Customer_segment'].value_counts().index,\n",
        "\t\tautopct='%.2f%%',\n",
        "\t\tlabeldistance=1.1,)\n",
        "plt.show()"
      ]
    },
    {
      "cell_type": "markdown",
      "metadata": {
        "id": "Nyzqe4IUmR1R"
      },
      "source": [
        "Based on our customer behaviour, we can recommend some strategy like below,\n",
        "\n",
        "\n",
        "* Low Value Customer -> We can give promo / discount so can attract customer to buy our product again\n",
        "\n",
        "* Medium Value Customer -> We can give referral promo, free shipment, and bundling package\n",
        "\n",
        "* High Value Customer -> we can offer loyalty program to prevent customer churn"
      ]
    }
  ],
  "metadata": {
    "colab": {
      "provenance": [],
      "toc_visible": true
    },
    "kernelspec": {
      "display_name": "Python 3.9.15 ('myenv')",
      "language": "python",
      "name": "python3"
    },
    "language_info": {
      "codemirror_mode": {
        "name": "ipython",
        "version": 3
      },
      "file_extension": ".py",
      "mimetype": "text/x-python",
      "name": "python",
      "nbconvert_exporter": "python",
      "pygments_lexer": "ipython3",
      "version": "3.9.15"
    },
    "vscode": {
      "interpreter": {
        "hash": "8129fbbab93e3af375678fe5c305b8a3b84bda369d73af0ac9e1c91a656b6aad"
      }
    }
  },
  "nbformat": 4,
  "nbformat_minor": 0
}
